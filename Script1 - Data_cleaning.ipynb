{
 "cells": [
  {
   "cell_type": "code",
   "execution_count": 1,
   "metadata": {},
   "outputs": [],
   "source": [
    "import pandas as pd"
   ]
  },
  {
   "cell_type": "code",
   "execution_count": 2,
   "metadata": {},
   "outputs": [
    {
     "data": {
      "text/html": [
       "<div>\n",
       "<style scoped>\n",
       "    .dataframe tbody tr th:only-of-type {\n",
       "        vertical-align: middle;\n",
       "    }\n",
       "\n",
       "    .dataframe tbody tr th {\n",
       "        vertical-align: top;\n",
       "    }\n",
       "\n",
       "    .dataframe thead th {\n",
       "        text-align: right;\n",
       "    }\n",
       "</style>\n",
       "<table border=\"1\" class=\"dataframe\">\n",
       "  <thead>\n",
       "    <tr style=\"text-align: right;\">\n",
       "      <th></th>\n",
       "      <th>Aircraft</th>\n",
       "      <th>AirlineName</th>\n",
       "      <th>CabinType</th>\n",
       "      <th>TravelType</th>\n",
       "      <th>DateFlown</th>\n",
       "      <th>DatePub</th>\n",
       "      <th>OverallScore</th>\n",
       "      <th>SeatComfortRating</th>\n",
       "      <th>ServiceRating</th>\n",
       "      <th>FoodRating</th>\n",
       "      <th>...</th>\n",
       "      <th>ValueRating</th>\n",
       "      <th>WifiRating</th>\n",
       "      <th>OriginCountry</th>\n",
       "      <th>Recommended</th>\n",
       "      <th>Review</th>\n",
       "      <th>Route</th>\n",
       "      <th>Slug</th>\n",
       "      <th>Title</th>\n",
       "      <th>TripVerified</th>\n",
       "      <th>unique_id</th>\n",
       "    </tr>\n",
       "  </thead>\n",
       "  <tbody>\n",
       "    <tr>\n",
       "      <th>0</th>\n",
       "      <td>NaN</td>\n",
       "      <td>AB Aviation</td>\n",
       "      <td>Economy Class</td>\n",
       "      <td>Solo Leisure</td>\n",
       "      <td>19-Nov</td>\n",
       "      <td>11th November 2019</td>\n",
       "      <td>9.0</td>\n",
       "      <td>4</td>\n",
       "      <td>5</td>\n",
       "      <td>4</td>\n",
       "      <td>...</td>\n",
       "      <td>3</td>\n",
       "      <td>0</td>\n",
       "      <td>Netherlands</td>\n",
       "      <td>yes</td>\n",
       "      <td>Moroni to Moheli. Turned out to be a pretty de...</td>\n",
       "      <td>Moroni to Moheli</td>\n",
       "      <td>ab-aviation</td>\n",
       "      <td>pretty decent airline</td>\n",
       "      <td>Trip Verified</td>\n",
       "      <td>d3b260fb-268b-4399-8a9b-2804825902c6</td>\n",
       "    </tr>\n",
       "    <tr>\n",
       "      <th>1</th>\n",
       "      <td>E120</td>\n",
       "      <td>AB Aviation</td>\n",
       "      <td>Economy Class</td>\n",
       "      <td>Solo Leisure</td>\n",
       "      <td>19-Jun</td>\n",
       "      <td>25th June 2019</td>\n",
       "      <td>1.0</td>\n",
       "      <td>2</td>\n",
       "      <td>2</td>\n",
       "      <td>1</td>\n",
       "      <td>...</td>\n",
       "      <td>2</td>\n",
       "      <td>0</td>\n",
       "      <td>UnitedKingdom</td>\n",
       "      <td>no</td>\n",
       "      <td>Moroni to Anjouan. It is a very small airline....</td>\n",
       "      <td>Moroni to Anjouan</td>\n",
       "      <td>ab-aviation</td>\n",
       "      <td>Not a good airline</td>\n",
       "      <td>Trip Verified</td>\n",
       "      <td>307711df-268f-4698-97b8-45729b7d972e</td>\n",
       "    </tr>\n",
       "    <tr>\n",
       "      <th>2</th>\n",
       "      <td>Embraer E120</td>\n",
       "      <td>AB Aviation</td>\n",
       "      <td>Economy Class</td>\n",
       "      <td>Solo Leisure</td>\n",
       "      <td>19-Jun</td>\n",
       "      <td>25th June 2019</td>\n",
       "      <td>1.0</td>\n",
       "      <td>2</td>\n",
       "      <td>1</td>\n",
       "      <td>1</td>\n",
       "      <td>...</td>\n",
       "      <td>2</td>\n",
       "      <td>0</td>\n",
       "      <td>UnitedKingdom</td>\n",
       "      <td>no</td>\n",
       "      <td>Anjouan to Dzaoudzi. A very small airline and ...</td>\n",
       "      <td>Anjouan to Dzaoudzi</td>\n",
       "      <td>ab-aviation</td>\n",
       "      <td>flight was fortunately short</td>\n",
       "      <td>Trip Verified</td>\n",
       "      <td>82bd2602-171d-4724-bde0-90b71621cdcf</td>\n",
       "    </tr>\n",
       "    <tr>\n",
       "      <th>3</th>\n",
       "      <td>NaN</td>\n",
       "      <td>Aerocaribbean</td>\n",
       "      <td>Economy Class</td>\n",
       "      <td>NaN</td>\n",
       "      <td>NaN</td>\n",
       "      <td>31st December 2010</td>\n",
       "      <td>8.0</td>\n",
       "      <td>0</td>\n",
       "      <td>0</td>\n",
       "      <td>0</td>\n",
       "      <td>...</td>\n",
       "      <td>4</td>\n",
       "      <td>0</td>\n",
       "      <td>Denmark</td>\n",
       "      <td>yes</td>\n",
       "      <td>Havana - Cayo Coco return. A one hour flight w...</td>\n",
       "      <td>NaN</td>\n",
       "      <td>aerocaribbean</td>\n",
       "      <td>Aerocaribbean customer review</td>\n",
       "      <td>NaN</td>\n",
       "      <td>a927beb4-6244-4f5c-9dc3-09890aa3e616</td>\n",
       "    </tr>\n",
       "    <tr>\n",
       "      <th>4</th>\n",
       "      <td>NaN</td>\n",
       "      <td>Aerocaribbean</td>\n",
       "      <td>NaN</td>\n",
       "      <td>NaN</td>\n",
       "      <td>NaN</td>\n",
       "      <td>25th November 2010</td>\n",
       "      <td>1.0</td>\n",
       "      <td>0</td>\n",
       "      <td>0</td>\n",
       "      <td>0</td>\n",
       "      <td>...</td>\n",
       "      <td>0</td>\n",
       "      <td>0</td>\n",
       "      <td>UnitedKingdom</td>\n",
       "      <td>no</td>\n",
       "      <td>Holguin to Havana last week. Okay apart from i...</td>\n",
       "      <td>NaN</td>\n",
       "      <td>aerocaribbean</td>\n",
       "      <td>Aerocaribbean customer review</td>\n",
       "      <td>NaN</td>\n",
       "      <td>d7bea425-c58a-4a7e-8269-02e0e6516633</td>\n",
       "    </tr>\n",
       "    <tr>\n",
       "      <th>...</th>\n",
       "      <td>...</td>\n",
       "      <td>...</td>\n",
       "      <td>...</td>\n",
       "      <td>...</td>\n",
       "      <td>...</td>\n",
       "      <td>...</td>\n",
       "      <td>...</td>\n",
       "      <td>...</td>\n",
       "      <td>...</td>\n",
       "      <td>...</td>\n",
       "      <td>...</td>\n",
       "      <td>...</td>\n",
       "      <td>...</td>\n",
       "      <td>...</td>\n",
       "      <td>...</td>\n",
       "      <td>...</td>\n",
       "      <td>...</td>\n",
       "      <td>...</td>\n",
       "      <td>...</td>\n",
       "      <td>...</td>\n",
       "      <td>...</td>\n",
       "    </tr>\n",
       "    <tr>\n",
       "      <th>129450</th>\n",
       "      <td>NaN</td>\n",
       "      <td>Wizz Air</td>\n",
       "      <td>Economy Class</td>\n",
       "      <td>NaN</td>\n",
       "      <td>NaN</td>\n",
       "      <td>15th July 2010</td>\n",
       "      <td>NaN</td>\n",
       "      <td>0</td>\n",
       "      <td>0</td>\n",
       "      <td>0</td>\n",
       "      <td>...</td>\n",
       "      <td>1</td>\n",
       "      <td>0</td>\n",
       "      <td>UnitedKingdom</td>\n",
       "      <td>no</td>\n",
       "      <td>This airline is terrible! Timetable changes (m...</td>\n",
       "      <td>NaN</td>\n",
       "      <td>wizz-air</td>\n",
       "      <td>Wizz Air customer review</td>\n",
       "      <td>NaN</td>\n",
       "      <td>7889c410-59a0-4a11-9af6-a100c5ebb03e</td>\n",
       "    </tr>\n",
       "    <tr>\n",
       "      <th>129451</th>\n",
       "      <td>NaN</td>\n",
       "      <td>Wizz Air</td>\n",
       "      <td>Economy Class</td>\n",
       "      <td>NaN</td>\n",
       "      <td>NaN</td>\n",
       "      <td>23rd June 2010</td>\n",
       "      <td>8.0</td>\n",
       "      <td>0</td>\n",
       "      <td>0</td>\n",
       "      <td>0</td>\n",
       "      <td>...</td>\n",
       "      <td>4</td>\n",
       "      <td>0</td>\n",
       "      <td>Belgium</td>\n",
       "      <td>yes</td>\n",
       "      <td>We often fly with Wizzair to/from Charleroi/Bu...</td>\n",
       "      <td>NaN</td>\n",
       "      <td>wizz-air</td>\n",
       "      <td>Wizz Air customer review</td>\n",
       "      <td>NaN</td>\n",
       "      <td>dc7700d9-69e3-4296-93a5-0a550e8b8a80</td>\n",
       "    </tr>\n",
       "    <tr>\n",
       "      <th>129452</th>\n",
       "      <td>NaN</td>\n",
       "      <td>Wizz Air</td>\n",
       "      <td>Economy Class</td>\n",
       "      <td>NaN</td>\n",
       "      <td>NaN</td>\n",
       "      <td>19th June 2010</td>\n",
       "      <td>NaN</td>\n",
       "      <td>0</td>\n",
       "      <td>0</td>\n",
       "      <td>0</td>\n",
       "      <td>...</td>\n",
       "      <td>1</td>\n",
       "      <td>0</td>\n",
       "      <td>Ireland</td>\n",
       "      <td>no</td>\n",
       "      <td>Avoid Wizzair! A group of us had our outgoing ...</td>\n",
       "      <td>NaN</td>\n",
       "      <td>wizz-air</td>\n",
       "      <td>Wizz Air customer review</td>\n",
       "      <td>NaN</td>\n",
       "      <td>6de9ac64-a533-4dc8-b555-a16cc13554f7</td>\n",
       "    </tr>\n",
       "    <tr>\n",
       "      <th>129453</th>\n",
       "      <td>NaN</td>\n",
       "      <td>Wizz Air</td>\n",
       "      <td>Economy Class</td>\n",
       "      <td>NaN</td>\n",
       "      <td>NaN</td>\n",
       "      <td>16th June 2010</td>\n",
       "      <td>5.0</td>\n",
       "      <td>0</td>\n",
       "      <td>0</td>\n",
       "      <td>0</td>\n",
       "      <td>...</td>\n",
       "      <td>4</td>\n",
       "      <td>0</td>\n",
       "      <td>CzechRepublic</td>\n",
       "      <td>yes</td>\n",
       "      <td>PRG-LTN and LTN-PRG were rather good flights. ...</td>\n",
       "      <td>NaN</td>\n",
       "      <td>wizz-air</td>\n",
       "      <td>Wizz Air customer review</td>\n",
       "      <td>NaN</td>\n",
       "      <td>52ad5aa9-88f6-4eb1-99fe-e7fa64223792</td>\n",
       "    </tr>\n",
       "    <tr>\n",
       "      <th>129454</th>\n",
       "      <td>NaN</td>\n",
       "      <td>Wizz Air</td>\n",
       "      <td>Economy Class</td>\n",
       "      <td>NaN</td>\n",
       "      <td>NaN</td>\n",
       "      <td>6th June 2010</td>\n",
       "      <td>1.0</td>\n",
       "      <td>0</td>\n",
       "      <td>0</td>\n",
       "      <td>0</td>\n",
       "      <td>...</td>\n",
       "      <td>1</td>\n",
       "      <td>0</td>\n",
       "      <td>UnitedKingdom</td>\n",
       "      <td>no</td>\n",
       "      <td>London - Kiev. First problem started a few wee...</td>\n",
       "      <td>NaN</td>\n",
       "      <td>wizz-air</td>\n",
       "      <td>Wizz Air customer review</td>\n",
       "      <td>NaN</td>\n",
       "      <td>c1ceb07e-a04d-4389-ac85-dca4fe00b745</td>\n",
       "    </tr>\n",
       "  </tbody>\n",
       "</table>\n",
       "<p>129455 rows × 22 columns</p>\n",
       "</div>"
      ],
      "text/plain": [
       "             Aircraft    AirlineName      CabinType    TravelType DateFlown  \\\n",
       "0                 NaN    AB Aviation  Economy Class  Solo Leisure    19-Nov   \n",
       "1                E120    AB Aviation  Economy Class  Solo Leisure    19-Jun   \n",
       "2       Embraer E120     AB Aviation  Economy Class  Solo Leisure    19-Jun   \n",
       "3                 NaN  Aerocaribbean  Economy Class           NaN       NaN   \n",
       "4                 NaN  Aerocaribbean            NaN           NaN       NaN   \n",
       "...               ...            ...            ...           ...       ...   \n",
       "129450            NaN       Wizz Air  Economy Class           NaN       NaN   \n",
       "129451            NaN       Wizz Air  Economy Class           NaN       NaN   \n",
       "129452            NaN       Wizz Air  Economy Class           NaN       NaN   \n",
       "129453            NaN       Wizz Air  Economy Class           NaN       NaN   \n",
       "129454            NaN       Wizz Air  Economy Class           NaN       NaN   \n",
       "\n",
       "                   DatePub  OverallScore  SeatComfortRating  ServiceRating  \\\n",
       "0       11th November 2019           9.0                  4              5   \n",
       "1           25th June 2019           1.0                  2              2   \n",
       "2           25th June 2019           1.0                  2              1   \n",
       "3       31st December 2010           8.0                  0              0   \n",
       "4       25th November 2010           1.0                  0              0   \n",
       "...                    ...           ...                ...            ...   \n",
       "129450      15th July 2010           NaN                  0              0   \n",
       "129451      23rd June 2010           8.0                  0              0   \n",
       "129452      19th June 2010           NaN                  0              0   \n",
       "129453      16th June 2010           5.0                  0              0   \n",
       "129454       6th June 2010           1.0                  0              0   \n",
       "\n",
       "        FoodRating  ...  ValueRating  WifiRating  OriginCountry  Recommended  \\\n",
       "0                4  ...            3           0    Netherlands          yes   \n",
       "1                1  ...            2           0  UnitedKingdom           no   \n",
       "2                1  ...            2           0  UnitedKingdom           no   \n",
       "3                0  ...            4           0        Denmark          yes   \n",
       "4                0  ...            0           0  UnitedKingdom           no   \n",
       "...            ...  ...          ...         ...            ...          ...   \n",
       "129450           0  ...            1           0  UnitedKingdom           no   \n",
       "129451           0  ...            4           0        Belgium          yes   \n",
       "129452           0  ...            1           0        Ireland           no   \n",
       "129453           0  ...            4           0  CzechRepublic          yes   \n",
       "129454           0  ...            1           0  UnitedKingdom           no   \n",
       "\n",
       "                                                   Review  \\\n",
       "0       Moroni to Moheli. Turned out to be a pretty de...   \n",
       "1       Moroni to Anjouan. It is a very small airline....   \n",
       "2       Anjouan to Dzaoudzi. A very small airline and ...   \n",
       "3       Havana - Cayo Coco return. A one hour flight w...   \n",
       "4       Holguin to Havana last week. Okay apart from i...   \n",
       "...                                                   ...   \n",
       "129450  This airline is terrible! Timetable changes (m...   \n",
       "129451  We often fly with Wizzair to/from Charleroi/Bu...   \n",
       "129452  Avoid Wizzair! A group of us had our outgoing ...   \n",
       "129453  PRG-LTN and LTN-PRG were rather good flights. ...   \n",
       "129454  London - Kiev. First problem started a few wee...   \n",
       "\n",
       "                      Route           Slug                          Title  \\\n",
       "0          Moroni to Moheli    ab-aviation          pretty decent airline   \n",
       "1         Moroni to Anjouan    ab-aviation             Not a good airline   \n",
       "2       Anjouan to Dzaoudzi    ab-aviation   flight was fortunately short   \n",
       "3                       NaN  aerocaribbean  Aerocaribbean customer review   \n",
       "4                       NaN  aerocaribbean  Aerocaribbean customer review   \n",
       "...                     ...            ...                            ...   \n",
       "129450                  NaN       wizz-air       Wizz Air customer review   \n",
       "129451                  NaN       wizz-air       Wizz Air customer review   \n",
       "129452                  NaN       wizz-air       Wizz Air customer review   \n",
       "129453                  NaN       wizz-air       Wizz Air customer review   \n",
       "129454                  NaN       wizz-air       Wizz Air customer review   \n",
       "\n",
       "         TripVerified                             unique_id  \n",
       "0       Trip Verified  d3b260fb-268b-4399-8a9b-2804825902c6  \n",
       "1       Trip Verified  307711df-268f-4698-97b8-45729b7d972e  \n",
       "2       Trip Verified  82bd2602-171d-4724-bde0-90b71621cdcf  \n",
       "3                 NaN  a927beb4-6244-4f5c-9dc3-09890aa3e616  \n",
       "4                 NaN  d7bea425-c58a-4a7e-8269-02e0e6516633  \n",
       "...               ...                                   ...  \n",
       "129450            NaN  7889c410-59a0-4a11-9af6-a100c5ebb03e  \n",
       "129451            NaN  dc7700d9-69e3-4296-93a5-0a550e8b8a80  \n",
       "129452            NaN  6de9ac64-a533-4dc8-b555-a16cc13554f7  \n",
       "129453            NaN  52ad5aa9-88f6-4eb1-99fe-e7fa64223792  \n",
       "129454            NaN  c1ceb07e-a04d-4389-ac85-dca4fe00b745  \n",
       "\n",
       "[129455 rows x 22 columns]"
      ]
     },
     "execution_count": 2,
     "metadata": {},
     "output_type": "execute_result"
    }
   ],
   "source": [
    "dataset = pd.read_csv(\"Data - AirlineReviews_Edited.csv\", encoding = 'utf-8')\n",
    "dataset"
   ]
  },
  {
   "cell_type": "code",
   "execution_count": 3,
   "metadata": {},
   "outputs": [
    {
     "data": {
      "text/html": [
       "<div>\n",
       "<style scoped>\n",
       "    .dataframe tbody tr th:only-of-type {\n",
       "        vertical-align: middle;\n",
       "    }\n",
       "\n",
       "    .dataframe tbody tr th {\n",
       "        vertical-align: top;\n",
       "    }\n",
       "\n",
       "    .dataframe thead th {\n",
       "        text-align: right;\n",
       "    }\n",
       "</style>\n",
       "<table border=\"1\" class=\"dataframe\">\n",
       "  <thead>\n",
       "    <tr style=\"text-align: right;\">\n",
       "      <th></th>\n",
       "      <th>OverallScore</th>\n",
       "      <th>SeatComfortRating</th>\n",
       "      <th>ServiceRating</th>\n",
       "      <th>FoodRating</th>\n",
       "      <th>EntertainmentRating</th>\n",
       "      <th>GroundServiceRating</th>\n",
       "      <th>ValueRating</th>\n",
       "      <th>WifiRating</th>\n",
       "    </tr>\n",
       "  </thead>\n",
       "  <tbody>\n",
       "    <tr>\n",
       "      <th>count</th>\n",
       "      <td>125124.000000</td>\n",
       "      <td>129455.000000</td>\n",
       "      <td>129455.000000</td>\n",
       "      <td>129455.000000</td>\n",
       "      <td>129455.000000</td>\n",
       "      <td>129455.000000</td>\n",
       "      <td>129455.000000</td>\n",
       "      <td>129455.000000</td>\n",
       "    </tr>\n",
       "    <tr>\n",
       "      <th>mean</th>\n",
       "      <td>4.556408</td>\n",
       "      <td>2.470202</td>\n",
       "      <td>2.689622</td>\n",
       "      <td>1.989077</td>\n",
       "      <td>1.557190</td>\n",
       "      <td>1.652010</td>\n",
       "      <td>2.637527</td>\n",
       "      <td>0.453926</td>\n",
       "    </tr>\n",
       "    <tr>\n",
       "      <th>std</th>\n",
       "      <td>3.498833</td>\n",
       "      <td>1.620262</td>\n",
       "      <td>1.774499</td>\n",
       "      <td>1.774512</td>\n",
       "      <td>1.751076</td>\n",
       "      <td>1.740252</td>\n",
       "      <td>1.628808</td>\n",
       "      <td>1.078274</td>\n",
       "    </tr>\n",
       "    <tr>\n",
       "      <th>min</th>\n",
       "      <td>1.000000</td>\n",
       "      <td>0.000000</td>\n",
       "      <td>0.000000</td>\n",
       "      <td>0.000000</td>\n",
       "      <td>0.000000</td>\n",
       "      <td>0.000000</td>\n",
       "      <td>0.000000</td>\n",
       "      <td>0.000000</td>\n",
       "    </tr>\n",
       "    <tr>\n",
       "      <th>25%</th>\n",
       "      <td>1.000000</td>\n",
       "      <td>1.000000</td>\n",
       "      <td>1.000000</td>\n",
       "      <td>0.000000</td>\n",
       "      <td>0.000000</td>\n",
       "      <td>0.000000</td>\n",
       "      <td>1.000000</td>\n",
       "      <td>0.000000</td>\n",
       "    </tr>\n",
       "    <tr>\n",
       "      <th>50%</th>\n",
       "      <td>3.000000</td>\n",
       "      <td>2.000000</td>\n",
       "      <td>3.000000</td>\n",
       "      <td>1.000000</td>\n",
       "      <td>1.000000</td>\n",
       "      <td>1.000000</td>\n",
       "      <td>2.000000</td>\n",
       "      <td>0.000000</td>\n",
       "    </tr>\n",
       "    <tr>\n",
       "      <th>75%</th>\n",
       "      <td>8.000000</td>\n",
       "      <td>4.000000</td>\n",
       "      <td>4.000000</td>\n",
       "      <td>4.000000</td>\n",
       "      <td>3.000000</td>\n",
       "      <td>3.000000</td>\n",
       "      <td>4.000000</td>\n",
       "      <td>0.000000</td>\n",
       "    </tr>\n",
       "    <tr>\n",
       "      <th>max</th>\n",
       "      <td>10.000000</td>\n",
       "      <td>5.000000</td>\n",
       "      <td>5.000000</td>\n",
       "      <td>5.000000</td>\n",
       "      <td>5.000000</td>\n",
       "      <td>5.000000</td>\n",
       "      <td>5.000000</td>\n",
       "      <td>5.000000</td>\n",
       "    </tr>\n",
       "  </tbody>\n",
       "</table>\n",
       "</div>"
      ],
      "text/plain": [
       "        OverallScore  SeatComfortRating  ServiceRating     FoodRating  \\\n",
       "count  125124.000000      129455.000000  129455.000000  129455.000000   \n",
       "mean        4.556408           2.470202       2.689622       1.989077   \n",
       "std         3.498833           1.620262       1.774499       1.774512   \n",
       "min         1.000000           0.000000       0.000000       0.000000   \n",
       "25%         1.000000           1.000000       1.000000       0.000000   \n",
       "50%         3.000000           2.000000       3.000000       1.000000   \n",
       "75%         8.000000           4.000000       4.000000       4.000000   \n",
       "max        10.000000           5.000000       5.000000       5.000000   \n",
       "\n",
       "       EntertainmentRating  GroundServiceRating    ValueRating     WifiRating  \n",
       "count        129455.000000        129455.000000  129455.000000  129455.000000  \n",
       "mean              1.557190             1.652010       2.637527       0.453926  \n",
       "std               1.751076             1.740252       1.628808       1.078274  \n",
       "min               0.000000             0.000000       0.000000       0.000000  \n",
       "25%               0.000000             0.000000       1.000000       0.000000  \n",
       "50%               1.000000             1.000000       2.000000       0.000000  \n",
       "75%               3.000000             3.000000       4.000000       0.000000  \n",
       "max               5.000000             5.000000       5.000000       5.000000  "
      ]
     },
     "execution_count": 3,
     "metadata": {},
     "output_type": "execute_result"
    }
   ],
   "source": [
    "dataset.describe()"
   ]
  },
  {
   "cell_type": "code",
   "execution_count": 4,
   "metadata": {},
   "outputs": [
    {
     "name": "stdout",
     "output_type": "stream",
     "text": [
      "<class 'pandas.core.frame.DataFrame'>\n",
      "RangeIndex: 129455 entries, 0 to 129454\n",
      "Data columns (total 22 columns):\n",
      " #   Column               Non-Null Count   Dtype  \n",
      "---  ------               --------------   -----  \n",
      " 0   Aircraft             36424 non-null   object \n",
      " 1   AirlineName          129455 non-null  object \n",
      " 2   CabinType            126437 non-null  object \n",
      " 3   TravelType           91146 non-null   object \n",
      " 4   DateFlown            90993 non-null   object \n",
      " 5   DatePub              129455 non-null  object \n",
      " 6   OverallScore         125124 non-null  float64\n",
      " 7   SeatComfortRating    129455 non-null  int64  \n",
      " 8   ServiceRating        129455 non-null  int64  \n",
      " 9   FoodRating           129455 non-null  int64  \n",
      " 10  EntertainmentRating  129455 non-null  int64  \n",
      " 11  GroundServiceRating  129455 non-null  int64  \n",
      " 12  ValueRating          129455 non-null  int64  \n",
      " 13  WifiRating           129455 non-null  int64  \n",
      " 14  OriginCountry        127777 non-null  object \n",
      " 15  Recommended          129455 non-null  object \n",
      " 16  Review               128631 non-null  object \n",
      " 17  Route                90825 non-null   object \n",
      " 18  Slug                 129455 non-null  object \n",
      " 19  Title                129451 non-null  object \n",
      " 20  TripVerified         59508 non-null   object \n",
      " 21  unique_id            129455 non-null  object \n",
      "dtypes: float64(1), int64(7), object(14)\n",
      "memory usage: 21.7+ MB\n"
     ]
    }
   ],
   "source": [
    "dataset.info()"
   ]
  },
  {
   "cell_type": "code",
   "execution_count": 5,
   "metadata": {},
   "outputs": [],
   "source": [
    "dataset_modified = dataset.copy()"
   ]
  },
  {
   "cell_type": "markdown",
   "metadata": {},
   "source": [
    "## Drop unnecessary columns"
   ]
  },
  {
   "cell_type": "code",
   "execution_count": 6,
   "metadata": {},
   "outputs": [],
   "source": [
    "columns_to_drop = ['Aircraft', 'DatePub', 'OriginCountry', 'Slug', 'Title', 'unique_id']"
   ]
  },
  {
   "cell_type": "code",
   "execution_count": 7,
   "metadata": {
    "scrolled": false
   },
   "outputs": [
    {
     "data": {
      "text/html": [
       "<div>\n",
       "<style scoped>\n",
       "    .dataframe tbody tr th:only-of-type {\n",
       "        vertical-align: middle;\n",
       "    }\n",
       "\n",
       "    .dataframe tbody tr th {\n",
       "        vertical-align: top;\n",
       "    }\n",
       "\n",
       "    .dataframe thead th {\n",
       "        text-align: right;\n",
       "    }\n",
       "</style>\n",
       "<table border=\"1\" class=\"dataframe\">\n",
       "  <thead>\n",
       "    <tr style=\"text-align: right;\">\n",
       "      <th></th>\n",
       "      <th>AirlineName</th>\n",
       "      <th>CabinType</th>\n",
       "      <th>TravelType</th>\n",
       "      <th>DateFlown</th>\n",
       "      <th>OverallScore</th>\n",
       "      <th>SeatComfortRating</th>\n",
       "      <th>ServiceRating</th>\n",
       "      <th>FoodRating</th>\n",
       "      <th>EntertainmentRating</th>\n",
       "      <th>GroundServiceRating</th>\n",
       "      <th>ValueRating</th>\n",
       "      <th>WifiRating</th>\n",
       "      <th>Recommended</th>\n",
       "      <th>Review</th>\n",
       "      <th>Route</th>\n",
       "      <th>TripVerified</th>\n",
       "    </tr>\n",
       "  </thead>\n",
       "  <tbody>\n",
       "    <tr>\n",
       "      <th>0</th>\n",
       "      <td>AB Aviation</td>\n",
       "      <td>Economy Class</td>\n",
       "      <td>Solo Leisure</td>\n",
       "      <td>19-Nov</td>\n",
       "      <td>9.0</td>\n",
       "      <td>4</td>\n",
       "      <td>5</td>\n",
       "      <td>4</td>\n",
       "      <td>0</td>\n",
       "      <td>4</td>\n",
       "      <td>3</td>\n",
       "      <td>0</td>\n",
       "      <td>yes</td>\n",
       "      <td>Moroni to Moheli. Turned out to be a pretty de...</td>\n",
       "      <td>Moroni to Moheli</td>\n",
       "      <td>Trip Verified</td>\n",
       "    </tr>\n",
       "    <tr>\n",
       "      <th>1</th>\n",
       "      <td>AB Aviation</td>\n",
       "      <td>Economy Class</td>\n",
       "      <td>Solo Leisure</td>\n",
       "      <td>19-Jun</td>\n",
       "      <td>1.0</td>\n",
       "      <td>2</td>\n",
       "      <td>2</td>\n",
       "      <td>1</td>\n",
       "      <td>0</td>\n",
       "      <td>1</td>\n",
       "      <td>2</td>\n",
       "      <td>0</td>\n",
       "      <td>no</td>\n",
       "      <td>Moroni to Anjouan. It is a very small airline....</td>\n",
       "      <td>Moroni to Anjouan</td>\n",
       "      <td>Trip Verified</td>\n",
       "    </tr>\n",
       "    <tr>\n",
       "      <th>2</th>\n",
       "      <td>AB Aviation</td>\n",
       "      <td>Economy Class</td>\n",
       "      <td>Solo Leisure</td>\n",
       "      <td>19-Jun</td>\n",
       "      <td>1.0</td>\n",
       "      <td>2</td>\n",
       "      <td>1</td>\n",
       "      <td>1</td>\n",
       "      <td>0</td>\n",
       "      <td>1</td>\n",
       "      <td>2</td>\n",
       "      <td>0</td>\n",
       "      <td>no</td>\n",
       "      <td>Anjouan to Dzaoudzi. A very small airline and ...</td>\n",
       "      <td>Anjouan to Dzaoudzi</td>\n",
       "      <td>Trip Verified</td>\n",
       "    </tr>\n",
       "    <tr>\n",
       "      <th>3</th>\n",
       "      <td>Aerocaribbean</td>\n",
       "      <td>Economy Class</td>\n",
       "      <td>NaN</td>\n",
       "      <td>NaN</td>\n",
       "      <td>8.0</td>\n",
       "      <td>0</td>\n",
       "      <td>0</td>\n",
       "      <td>0</td>\n",
       "      <td>0</td>\n",
       "      <td>0</td>\n",
       "      <td>4</td>\n",
       "      <td>0</td>\n",
       "      <td>yes</td>\n",
       "      <td>Havana - Cayo Coco return. A one hour flight w...</td>\n",
       "      <td>NaN</td>\n",
       "      <td>NaN</td>\n",
       "    </tr>\n",
       "    <tr>\n",
       "      <th>4</th>\n",
       "      <td>Aerocaribbean</td>\n",
       "      <td>NaN</td>\n",
       "      <td>NaN</td>\n",
       "      <td>NaN</td>\n",
       "      <td>1.0</td>\n",
       "      <td>0</td>\n",
       "      <td>0</td>\n",
       "      <td>0</td>\n",
       "      <td>0</td>\n",
       "      <td>0</td>\n",
       "      <td>0</td>\n",
       "      <td>0</td>\n",
       "      <td>no</td>\n",
       "      <td>Holguin to Havana last week. Okay apart from i...</td>\n",
       "      <td>NaN</td>\n",
       "      <td>NaN</td>\n",
       "    </tr>\n",
       "    <tr>\n",
       "      <th>...</th>\n",
       "      <td>...</td>\n",
       "      <td>...</td>\n",
       "      <td>...</td>\n",
       "      <td>...</td>\n",
       "      <td>...</td>\n",
       "      <td>...</td>\n",
       "      <td>...</td>\n",
       "      <td>...</td>\n",
       "      <td>...</td>\n",
       "      <td>...</td>\n",
       "      <td>...</td>\n",
       "      <td>...</td>\n",
       "      <td>...</td>\n",
       "      <td>...</td>\n",
       "      <td>...</td>\n",
       "      <td>...</td>\n",
       "    </tr>\n",
       "    <tr>\n",
       "      <th>129450</th>\n",
       "      <td>Wizz Air</td>\n",
       "      <td>Economy Class</td>\n",
       "      <td>NaN</td>\n",
       "      <td>NaN</td>\n",
       "      <td>NaN</td>\n",
       "      <td>0</td>\n",
       "      <td>0</td>\n",
       "      <td>0</td>\n",
       "      <td>0</td>\n",
       "      <td>0</td>\n",
       "      <td>1</td>\n",
       "      <td>0</td>\n",
       "      <td>no</td>\n",
       "      <td>This airline is terrible! Timetable changes (m...</td>\n",
       "      <td>NaN</td>\n",
       "      <td>NaN</td>\n",
       "    </tr>\n",
       "    <tr>\n",
       "      <th>129451</th>\n",
       "      <td>Wizz Air</td>\n",
       "      <td>Economy Class</td>\n",
       "      <td>NaN</td>\n",
       "      <td>NaN</td>\n",
       "      <td>8.0</td>\n",
       "      <td>0</td>\n",
       "      <td>0</td>\n",
       "      <td>0</td>\n",
       "      <td>0</td>\n",
       "      <td>0</td>\n",
       "      <td>4</td>\n",
       "      <td>0</td>\n",
       "      <td>yes</td>\n",
       "      <td>We often fly with Wizzair to/from Charleroi/Bu...</td>\n",
       "      <td>NaN</td>\n",
       "      <td>NaN</td>\n",
       "    </tr>\n",
       "    <tr>\n",
       "      <th>129452</th>\n",
       "      <td>Wizz Air</td>\n",
       "      <td>Economy Class</td>\n",
       "      <td>NaN</td>\n",
       "      <td>NaN</td>\n",
       "      <td>NaN</td>\n",
       "      <td>0</td>\n",
       "      <td>0</td>\n",
       "      <td>0</td>\n",
       "      <td>0</td>\n",
       "      <td>0</td>\n",
       "      <td>1</td>\n",
       "      <td>0</td>\n",
       "      <td>no</td>\n",
       "      <td>Avoid Wizzair! A group of us had our outgoing ...</td>\n",
       "      <td>NaN</td>\n",
       "      <td>NaN</td>\n",
       "    </tr>\n",
       "    <tr>\n",
       "      <th>129453</th>\n",
       "      <td>Wizz Air</td>\n",
       "      <td>Economy Class</td>\n",
       "      <td>NaN</td>\n",
       "      <td>NaN</td>\n",
       "      <td>5.0</td>\n",
       "      <td>0</td>\n",
       "      <td>0</td>\n",
       "      <td>0</td>\n",
       "      <td>0</td>\n",
       "      <td>0</td>\n",
       "      <td>4</td>\n",
       "      <td>0</td>\n",
       "      <td>yes</td>\n",
       "      <td>PRG-LTN and LTN-PRG were rather good flights. ...</td>\n",
       "      <td>NaN</td>\n",
       "      <td>NaN</td>\n",
       "    </tr>\n",
       "    <tr>\n",
       "      <th>129454</th>\n",
       "      <td>Wizz Air</td>\n",
       "      <td>Economy Class</td>\n",
       "      <td>NaN</td>\n",
       "      <td>NaN</td>\n",
       "      <td>1.0</td>\n",
       "      <td>0</td>\n",
       "      <td>0</td>\n",
       "      <td>0</td>\n",
       "      <td>0</td>\n",
       "      <td>0</td>\n",
       "      <td>1</td>\n",
       "      <td>0</td>\n",
       "      <td>no</td>\n",
       "      <td>London - Kiev. First problem started a few wee...</td>\n",
       "      <td>NaN</td>\n",
       "      <td>NaN</td>\n",
       "    </tr>\n",
       "  </tbody>\n",
       "</table>\n",
       "<p>129455 rows × 16 columns</p>\n",
       "</div>"
      ],
      "text/plain": [
       "          AirlineName      CabinType    TravelType DateFlown  OverallScore  \\\n",
       "0         AB Aviation  Economy Class  Solo Leisure    19-Nov           9.0   \n",
       "1         AB Aviation  Economy Class  Solo Leisure    19-Jun           1.0   \n",
       "2         AB Aviation  Economy Class  Solo Leisure    19-Jun           1.0   \n",
       "3       Aerocaribbean  Economy Class           NaN       NaN           8.0   \n",
       "4       Aerocaribbean            NaN           NaN       NaN           1.0   \n",
       "...               ...            ...           ...       ...           ...   \n",
       "129450       Wizz Air  Economy Class           NaN       NaN           NaN   \n",
       "129451       Wizz Air  Economy Class           NaN       NaN           8.0   \n",
       "129452       Wizz Air  Economy Class           NaN       NaN           NaN   \n",
       "129453       Wizz Air  Economy Class           NaN       NaN           5.0   \n",
       "129454       Wizz Air  Economy Class           NaN       NaN           1.0   \n",
       "\n",
       "        SeatComfortRating  ServiceRating  FoodRating  EntertainmentRating  \\\n",
       "0                       4              5           4                    0   \n",
       "1                       2              2           1                    0   \n",
       "2                       2              1           1                    0   \n",
       "3                       0              0           0                    0   \n",
       "4                       0              0           0                    0   \n",
       "...                   ...            ...         ...                  ...   \n",
       "129450                  0              0           0                    0   \n",
       "129451                  0              0           0                    0   \n",
       "129452                  0              0           0                    0   \n",
       "129453                  0              0           0                    0   \n",
       "129454                  0              0           0                    0   \n",
       "\n",
       "        GroundServiceRating  ValueRating  WifiRating Recommended  \\\n",
       "0                         4            3           0         yes   \n",
       "1                         1            2           0          no   \n",
       "2                         1            2           0          no   \n",
       "3                         0            4           0         yes   \n",
       "4                         0            0           0          no   \n",
       "...                     ...          ...         ...         ...   \n",
       "129450                    0            1           0          no   \n",
       "129451                    0            4           0         yes   \n",
       "129452                    0            1           0          no   \n",
       "129453                    0            4           0         yes   \n",
       "129454                    0            1           0          no   \n",
       "\n",
       "                                                   Review  \\\n",
       "0       Moroni to Moheli. Turned out to be a pretty de...   \n",
       "1       Moroni to Anjouan. It is a very small airline....   \n",
       "2       Anjouan to Dzaoudzi. A very small airline and ...   \n",
       "3       Havana - Cayo Coco return. A one hour flight w...   \n",
       "4       Holguin to Havana last week. Okay apart from i...   \n",
       "...                                                   ...   \n",
       "129450  This airline is terrible! Timetable changes (m...   \n",
       "129451  We often fly with Wizzair to/from Charleroi/Bu...   \n",
       "129452  Avoid Wizzair! A group of us had our outgoing ...   \n",
       "129453  PRG-LTN and LTN-PRG were rather good flights. ...   \n",
       "129454  London - Kiev. First problem started a few wee...   \n",
       "\n",
       "                      Route   TripVerified  \n",
       "0          Moroni to Moheli  Trip Verified  \n",
       "1         Moroni to Anjouan  Trip Verified  \n",
       "2       Anjouan to Dzaoudzi  Trip Verified  \n",
       "3                       NaN            NaN  \n",
       "4                       NaN            NaN  \n",
       "...                     ...            ...  \n",
       "129450                  NaN            NaN  \n",
       "129451                  NaN            NaN  \n",
       "129452                  NaN            NaN  \n",
       "129453                  NaN            NaN  \n",
       "129454                  NaN            NaN  \n",
       "\n",
       "[129455 rows x 16 columns]"
      ]
     },
     "execution_count": 7,
     "metadata": {},
     "output_type": "execute_result"
    }
   ],
   "source": [
    "dataset_modified = dataset_modified.drop(columns=columns_to_drop)\n",
    "dataset_modified"
   ]
  },
  {
   "cell_type": "markdown",
   "metadata": {},
   "source": [
    "## Drop old reviews and reviews with no flight date\n",
    "\n",
    "We'll drop reviews that are more than 10 years old."
   ]
  },
  {
   "cell_type": "code",
   "execution_count": 8,
   "metadata": {},
   "outputs": [],
   "source": [
    "dataset_outdated_dropped = dataset_modified.copy()"
   ]
  },
  {
   "cell_type": "code",
   "execution_count": 9,
   "metadata": {},
   "outputs": [],
   "source": [
    "import datetime as dt"
   ]
  },
  {
   "cell_type": "code",
   "execution_count": 10,
   "metadata": {},
   "outputs": [],
   "source": [
    "dataset_outdated_dropped['DateFlown'] = pd.to_datetime(dataset_outdated_dropped['DateFlown'], format='%y-%b')"
   ]
  },
  {
   "cell_type": "code",
   "execution_count": 11,
   "metadata": {},
   "outputs": [
    {
     "data": {
      "text/plain": [
       "0        2019-11-01\n",
       "1        2019-06-01\n",
       "2        2019-06-01\n",
       "3               NaT\n",
       "4               NaT\n",
       "            ...    \n",
       "129450          NaT\n",
       "129451          NaT\n",
       "129452          NaT\n",
       "129453          NaT\n",
       "129454          NaT\n",
       "Name: DateFlown, Length: 129455, dtype: datetime64[ns]"
      ]
     },
     "execution_count": 11,
     "metadata": {},
     "output_type": "execute_result"
    }
   ],
   "source": [
    "dataset_outdated_dropped['DateFlown']"
   ]
  },
  {
   "cell_type": "code",
   "execution_count": 12,
   "metadata": {},
   "outputs": [
    {
     "name": "stdout",
     "output_type": "stream",
     "text": [
      "No flight date:  38462\n",
      "Older than 2015:  153\n"
     ]
    }
   ],
   "source": [
    "no_flight_date = dataset_outdated_dropped.index[dataset_outdated_dropped['DateFlown'].isna()]\n",
    "older_than_2015 = dataset_outdated_dropped.index[dataset_outdated_dropped['DateFlown'].dt.year < 2015]\n",
    "print(\"No flight date: \", len(no_flight_date))\n",
    "print(\"Older than 2015: \", len(older_than_2015))"
   ]
  },
  {
   "cell_type": "code",
   "execution_count": 13,
   "metadata": {},
   "outputs": [
    {
     "name": "stdout",
     "output_type": "stream",
     "text": [
      "Length of new dataset:  90840\n",
      "Old - (len of indices):  90840\n"
     ]
    }
   ],
   "source": [
    "dataset_outdated_dropped.drop(index=no_flight_date, inplace=True)\n",
    "dataset_outdated_dropped.drop(index=older_than_2015, inplace=True)\n",
    "print(\"Length of new dataset: \", dataset_outdated_dropped.shape[0])\n",
    "print(\"Old - (len of indices): \", dataset_modified.shape[0] - len(no_flight_date) - len(older_than_2015))"
   ]
  },
  {
   "cell_type": "code",
   "execution_count": 14,
   "metadata": {},
   "outputs": [
    {
     "data": {
      "text/html": [
       "<div>\n",
       "<style scoped>\n",
       "    .dataframe tbody tr th:only-of-type {\n",
       "        vertical-align: middle;\n",
       "    }\n",
       "\n",
       "    .dataframe tbody tr th {\n",
       "        vertical-align: top;\n",
       "    }\n",
       "\n",
       "    .dataframe thead th {\n",
       "        text-align: right;\n",
       "    }\n",
       "</style>\n",
       "<table border=\"1\" class=\"dataframe\">\n",
       "  <thead>\n",
       "    <tr style=\"text-align: right;\">\n",
       "      <th></th>\n",
       "      <th>AirlineName</th>\n",
       "      <th>CabinType</th>\n",
       "      <th>TravelType</th>\n",
       "      <th>DateFlown</th>\n",
       "      <th>OverallScore</th>\n",
       "      <th>SeatComfortRating</th>\n",
       "      <th>ServiceRating</th>\n",
       "      <th>FoodRating</th>\n",
       "      <th>EntertainmentRating</th>\n",
       "      <th>GroundServiceRating</th>\n",
       "      <th>ValueRating</th>\n",
       "      <th>WifiRating</th>\n",
       "      <th>Recommended</th>\n",
       "      <th>Review</th>\n",
       "      <th>Route</th>\n",
       "      <th>TripVerified</th>\n",
       "    </tr>\n",
       "  </thead>\n",
       "  <tbody>\n",
       "    <tr>\n",
       "      <th>0</th>\n",
       "      <td>AB Aviation</td>\n",
       "      <td>Economy Class</td>\n",
       "      <td>Solo Leisure</td>\n",
       "      <td>2019-11-01</td>\n",
       "      <td>9.0</td>\n",
       "      <td>4</td>\n",
       "      <td>5</td>\n",
       "      <td>4</td>\n",
       "      <td>0</td>\n",
       "      <td>4</td>\n",
       "      <td>3</td>\n",
       "      <td>0</td>\n",
       "      <td>yes</td>\n",
       "      <td>Moroni to Moheli. Turned out to be a pretty de...</td>\n",
       "      <td>Moroni to Moheli</td>\n",
       "      <td>Trip Verified</td>\n",
       "    </tr>\n",
       "    <tr>\n",
       "      <th>1</th>\n",
       "      <td>AB Aviation</td>\n",
       "      <td>Economy Class</td>\n",
       "      <td>Solo Leisure</td>\n",
       "      <td>2019-06-01</td>\n",
       "      <td>1.0</td>\n",
       "      <td>2</td>\n",
       "      <td>2</td>\n",
       "      <td>1</td>\n",
       "      <td>0</td>\n",
       "      <td>1</td>\n",
       "      <td>2</td>\n",
       "      <td>0</td>\n",
       "      <td>no</td>\n",
       "      <td>Moroni to Anjouan. It is a very small airline....</td>\n",
       "      <td>Moroni to Anjouan</td>\n",
       "      <td>Trip Verified</td>\n",
       "    </tr>\n",
       "    <tr>\n",
       "      <th>2</th>\n",
       "      <td>AB Aviation</td>\n",
       "      <td>Economy Class</td>\n",
       "      <td>Solo Leisure</td>\n",
       "      <td>2019-06-01</td>\n",
       "      <td>1.0</td>\n",
       "      <td>2</td>\n",
       "      <td>1</td>\n",
       "      <td>1</td>\n",
       "      <td>0</td>\n",
       "      <td>1</td>\n",
       "      <td>2</td>\n",
       "      <td>0</td>\n",
       "      <td>no</td>\n",
       "      <td>Anjouan to Dzaoudzi. A very small airline and ...</td>\n",
       "      <td>Anjouan to Dzaoudzi</td>\n",
       "      <td>Trip Verified</td>\n",
       "    </tr>\n",
       "    <tr>\n",
       "      <th>6</th>\n",
       "      <td>AeroItalia</td>\n",
       "      <td>Economy Class</td>\n",
       "      <td>Business</td>\n",
       "      <td>2023-04-01</td>\n",
       "      <td>2.0</td>\n",
       "      <td>1</td>\n",
       "      <td>3</td>\n",
       "      <td>1</td>\n",
       "      <td>0</td>\n",
       "      <td>1</td>\n",
       "      <td>1</td>\n",
       "      <td>0</td>\n",
       "      <td>no</td>\n",
       "      <td>Only 1 check-in desk open for a full plane and...</td>\n",
       "      <td>Milano to Olbia</td>\n",
       "      <td>Trip Verified</td>\n",
       "    </tr>\n",
       "    <tr>\n",
       "      <th>7</th>\n",
       "      <td>Aero VIP</td>\n",
       "      <td>Economy Class</td>\n",
       "      <td>Solo Leisure</td>\n",
       "      <td>2019-04-01</td>\n",
       "      <td>9.0</td>\n",
       "      <td>4</td>\n",
       "      <td>4</td>\n",
       "      <td>0</td>\n",
       "      <td>0</td>\n",
       "      <td>5</td>\n",
       "      <td>4</td>\n",
       "      <td>0</td>\n",
       "      <td>yes</td>\n",
       "      <td>Cascais to Bragança with Aero VIP. Services ar...</td>\n",
       "      <td>Cascais to Bragança</td>\n",
       "      <td>Trip Verified</td>\n",
       "    </tr>\n",
       "    <tr>\n",
       "      <th>...</th>\n",
       "      <td>...</td>\n",
       "      <td>...</td>\n",
       "      <td>...</td>\n",
       "      <td>...</td>\n",
       "      <td>...</td>\n",
       "      <td>...</td>\n",
       "      <td>...</td>\n",
       "      <td>...</td>\n",
       "      <td>...</td>\n",
       "      <td>...</td>\n",
       "      <td>...</td>\n",
       "      <td>...</td>\n",
       "      <td>...</td>\n",
       "      <td>...</td>\n",
       "      <td>...</td>\n",
       "      <td>...</td>\n",
       "    </tr>\n",
       "    <tr>\n",
       "      <th>129200</th>\n",
       "      <td>Wizz Air</td>\n",
       "      <td>Economy Class</td>\n",
       "      <td>Solo Leisure</td>\n",
       "      <td>2015-05-01</td>\n",
       "      <td>8.0</td>\n",
       "      <td>1</td>\n",
       "      <td>1</td>\n",
       "      <td>0</td>\n",
       "      <td>0</td>\n",
       "      <td>2</td>\n",
       "      <td>5</td>\n",
       "      <td>0</td>\n",
       "      <td>yes</td>\n",
       "      <td>If you are going with them, you need to learn ...</td>\n",
       "      <td>Budapest to Barcelona</td>\n",
       "      <td>NaN</td>\n",
       "    </tr>\n",
       "    <tr>\n",
       "      <th>129201</th>\n",
       "      <td>Wizz Air</td>\n",
       "      <td>Economy Class</td>\n",
       "      <td>Family Leisure</td>\n",
       "      <td>2015-06-01</td>\n",
       "      <td>1.0</td>\n",
       "      <td>1</td>\n",
       "      <td>2</td>\n",
       "      <td>1</td>\n",
       "      <td>1</td>\n",
       "      <td>1</td>\n",
       "      <td>1</td>\n",
       "      <td>1</td>\n",
       "      <td>no</td>\n",
       "      <td>We went to Ciampino airport 3 hours early and ...</td>\n",
       "      <td>Rome to Bucharest</td>\n",
       "      <td>NaN</td>\n",
       "    </tr>\n",
       "    <tr>\n",
       "      <th>129202</th>\n",
       "      <td>Wizz Air</td>\n",
       "      <td>Economy Class</td>\n",
       "      <td>Solo Leisure</td>\n",
       "      <td>2015-04-01</td>\n",
       "      <td>1.0</td>\n",
       "      <td>2</td>\n",
       "      <td>1</td>\n",
       "      <td>0</td>\n",
       "      <td>0</td>\n",
       "      <td>2</td>\n",
       "      <td>2</td>\n",
       "      <td>0</td>\n",
       "      <td>no</td>\n",
       "      <td>I had never heard of Wizz Air before but as th...</td>\n",
       "      <td>London Luton to Budapest</td>\n",
       "      <td>NaN</td>\n",
       "    </tr>\n",
       "    <tr>\n",
       "      <th>129203</th>\n",
       "      <td>Wizz Air</td>\n",
       "      <td>Economy Class</td>\n",
       "      <td>Couple Leisure</td>\n",
       "      <td>2015-06-01</td>\n",
       "      <td>1.0</td>\n",
       "      <td>2</td>\n",
       "      <td>2</td>\n",
       "      <td>0</td>\n",
       "      <td>0</td>\n",
       "      <td>1</td>\n",
       "      <td>1</td>\n",
       "      <td>0</td>\n",
       "      <td>no</td>\n",
       "      <td>Very disappointing experience. The airline cha...</td>\n",
       "      <td>Budapest to Tel Aviv</td>\n",
       "      <td>NaN</td>\n",
       "    </tr>\n",
       "    <tr>\n",
       "      <th>129204</th>\n",
       "      <td>Wizz Air</td>\n",
       "      <td>Economy Class</td>\n",
       "      <td>Family Leisure</td>\n",
       "      <td>2015-02-01</td>\n",
       "      <td>1.0</td>\n",
       "      <td>1</td>\n",
       "      <td>1</td>\n",
       "      <td>1</td>\n",
       "      <td>0</td>\n",
       "      <td>1</td>\n",
       "      <td>1</td>\n",
       "      <td>0</td>\n",
       "      <td>no</td>\n",
       "      <td>Wizz Air is hands down the worst airline in al...</td>\n",
       "      <td>Budapest to Dubai</td>\n",
       "      <td>NaN</td>\n",
       "    </tr>\n",
       "  </tbody>\n",
       "</table>\n",
       "<p>90840 rows × 16 columns</p>\n",
       "</div>"
      ],
      "text/plain": [
       "        AirlineName      CabinType      TravelType  DateFlown  OverallScore  \\\n",
       "0       AB Aviation  Economy Class    Solo Leisure 2019-11-01           9.0   \n",
       "1       AB Aviation  Economy Class    Solo Leisure 2019-06-01           1.0   \n",
       "2       AB Aviation  Economy Class    Solo Leisure 2019-06-01           1.0   \n",
       "6        AeroItalia  Economy Class        Business 2023-04-01           2.0   \n",
       "7          Aero VIP  Economy Class    Solo Leisure 2019-04-01           9.0   \n",
       "...             ...            ...             ...        ...           ...   \n",
       "129200     Wizz Air  Economy Class    Solo Leisure 2015-05-01           8.0   \n",
       "129201     Wizz Air  Economy Class  Family Leisure 2015-06-01           1.0   \n",
       "129202     Wizz Air  Economy Class    Solo Leisure 2015-04-01           1.0   \n",
       "129203     Wizz Air  Economy Class  Couple Leisure 2015-06-01           1.0   \n",
       "129204     Wizz Air  Economy Class  Family Leisure 2015-02-01           1.0   \n",
       "\n",
       "        SeatComfortRating  ServiceRating  FoodRating  EntertainmentRating  \\\n",
       "0                       4              5           4                    0   \n",
       "1                       2              2           1                    0   \n",
       "2                       2              1           1                    0   \n",
       "6                       1              3           1                    0   \n",
       "7                       4              4           0                    0   \n",
       "...                   ...            ...         ...                  ...   \n",
       "129200                  1              1           0                    0   \n",
       "129201                  1              2           1                    1   \n",
       "129202                  2              1           0                    0   \n",
       "129203                  2              2           0                    0   \n",
       "129204                  1              1           1                    0   \n",
       "\n",
       "        GroundServiceRating  ValueRating  WifiRating Recommended  \\\n",
       "0                         4            3           0         yes   \n",
       "1                         1            2           0          no   \n",
       "2                         1            2           0          no   \n",
       "6                         1            1           0          no   \n",
       "7                         5            4           0         yes   \n",
       "...                     ...          ...         ...         ...   \n",
       "129200                    2            5           0         yes   \n",
       "129201                    1            1           1          no   \n",
       "129202                    2            2           0          no   \n",
       "129203                    1            1           0          no   \n",
       "129204                    1            1           0          no   \n",
       "\n",
       "                                                   Review  \\\n",
       "0       Moroni to Moheli. Turned out to be a pretty de...   \n",
       "1       Moroni to Anjouan. It is a very small airline....   \n",
       "2       Anjouan to Dzaoudzi. A very small airline and ...   \n",
       "6       Only 1 check-in desk open for a full plane and...   \n",
       "7       Cascais to Bragança with Aero VIP. Services ar...   \n",
       "...                                                   ...   \n",
       "129200  If you are going with them, you need to learn ...   \n",
       "129201  We went to Ciampino airport 3 hours early and ...   \n",
       "129202  I had never heard of Wizz Air before but as th...   \n",
       "129203  Very disappointing experience. The airline cha...   \n",
       "129204  Wizz Air is hands down the worst airline in al...   \n",
       "\n",
       "                           Route   TripVerified  \n",
       "0               Moroni to Moheli  Trip Verified  \n",
       "1              Moroni to Anjouan  Trip Verified  \n",
       "2            Anjouan to Dzaoudzi  Trip Verified  \n",
       "6                Milano to Olbia  Trip Verified  \n",
       "7            Cascais to Bragança  Trip Verified  \n",
       "...                          ...            ...  \n",
       "129200     Budapest to Barcelona            NaN  \n",
       "129201         Rome to Bucharest            NaN  \n",
       "129202  London Luton to Budapest            NaN  \n",
       "129203      Budapest to Tel Aviv            NaN  \n",
       "129204         Budapest to Dubai            NaN  \n",
       "\n",
       "[90840 rows x 16 columns]"
      ]
     },
     "execution_count": 14,
     "metadata": {},
     "output_type": "execute_result"
    }
   ],
   "source": [
    "dataset_outdated_dropped"
   ]
  },
  {
   "cell_type": "code",
   "execution_count": 15,
   "metadata": {},
   "outputs": [
    {
     "data": {
      "text/html": [
       "<div>\n",
       "<style scoped>\n",
       "    .dataframe tbody tr th:only-of-type {\n",
       "        vertical-align: middle;\n",
       "    }\n",
       "\n",
       "    .dataframe tbody tr th {\n",
       "        vertical-align: top;\n",
       "    }\n",
       "\n",
       "    .dataframe thead th {\n",
       "        text-align: right;\n",
       "    }\n",
       "</style>\n",
       "<table border=\"1\" class=\"dataframe\">\n",
       "  <thead>\n",
       "    <tr style=\"text-align: right;\">\n",
       "      <th></th>\n",
       "      <th>AirlineName</th>\n",
       "      <th>CabinType</th>\n",
       "      <th>TravelType</th>\n",
       "      <th>DateFlown</th>\n",
       "      <th>OverallScore</th>\n",
       "      <th>SeatComfortRating</th>\n",
       "      <th>ServiceRating</th>\n",
       "      <th>FoodRating</th>\n",
       "      <th>EntertainmentRating</th>\n",
       "      <th>GroundServiceRating</th>\n",
       "      <th>ValueRating</th>\n",
       "      <th>WifiRating</th>\n",
       "      <th>Recommended</th>\n",
       "      <th>Review</th>\n",
       "      <th>Route</th>\n",
       "      <th>TripVerified</th>\n",
       "    </tr>\n",
       "  </thead>\n",
       "  <tbody>\n",
       "  </tbody>\n",
       "</table>\n",
       "</div>"
      ],
      "text/plain": [
       "Empty DataFrame\n",
       "Columns: [AirlineName, CabinType, TravelType, DateFlown, OverallScore, SeatComfortRating, ServiceRating, FoodRating, EntertainmentRating, GroundServiceRating, ValueRating, WifiRating, Recommended, Review, Route, TripVerified]\n",
       "Index: []"
      ]
     },
     "execution_count": 15,
     "metadata": {},
     "output_type": "execute_result"
    }
   ],
   "source": [
    "dataset_outdated_dropped[(dataset_outdated_dropped['DateFlown'].dt.year < 2015) | (dataset_outdated_dropped['DateFlown'].isna())]"
   ]
  },
  {
   "cell_type": "code",
   "execution_count": 16,
   "metadata": {},
   "outputs": [],
   "source": [
    "del(no_flight_date)\n",
    "del(older_than_2015)"
   ]
  },
  {
   "cell_type": "markdown",
   "metadata": {},
   "source": [
    "## Remove duplicated entries"
   ]
  },
  {
   "cell_type": "code",
   "execution_count": 17,
   "metadata": {},
   "outputs": [],
   "source": [
    "dataset_deduplicated = dataset_outdated_dropped.copy()"
   ]
  },
  {
   "cell_type": "code",
   "execution_count": 18,
   "metadata": {},
   "outputs": [],
   "source": [
    "duplicated_reviews = dataset_deduplicated.index[(dataset_deduplicated.duplicated(subset='Review')) & (dataset_deduplicated['Review'].notna())]"
   ]
  },
  {
   "cell_type": "code",
   "execution_count": 19,
   "metadata": {},
   "outputs": [
    {
     "data": {
      "text/html": [
       "<div>\n",
       "<style scoped>\n",
       "    .dataframe tbody tr th:only-of-type {\n",
       "        vertical-align: middle;\n",
       "    }\n",
       "\n",
       "    .dataframe tbody tr th {\n",
       "        vertical-align: top;\n",
       "    }\n",
       "\n",
       "    .dataframe thead th {\n",
       "        text-align: right;\n",
       "    }\n",
       "</style>\n",
       "<table border=\"1\" class=\"dataframe\">\n",
       "  <thead>\n",
       "    <tr style=\"text-align: right;\">\n",
       "      <th></th>\n",
       "      <th>AirlineName</th>\n",
       "      <th>CabinType</th>\n",
       "      <th>TravelType</th>\n",
       "      <th>DateFlown</th>\n",
       "      <th>OverallScore</th>\n",
       "      <th>SeatComfortRating</th>\n",
       "      <th>ServiceRating</th>\n",
       "      <th>FoodRating</th>\n",
       "      <th>EntertainmentRating</th>\n",
       "      <th>GroundServiceRating</th>\n",
       "      <th>ValueRating</th>\n",
       "      <th>WifiRating</th>\n",
       "      <th>Recommended</th>\n",
       "      <th>Review</th>\n",
       "      <th>Route</th>\n",
       "      <th>TripVerified</th>\n",
       "    </tr>\n",
       "  </thead>\n",
       "  <tbody>\n",
       "    <tr>\n",
       "      <th>0</th>\n",
       "      <td>AB Aviation</td>\n",
       "      <td>Economy Class</td>\n",
       "      <td>Solo Leisure</td>\n",
       "      <td>2019-11-01</td>\n",
       "      <td>9.0</td>\n",
       "      <td>4</td>\n",
       "      <td>5</td>\n",
       "      <td>4</td>\n",
       "      <td>0</td>\n",
       "      <td>4</td>\n",
       "      <td>3</td>\n",
       "      <td>0</td>\n",
       "      <td>yes</td>\n",
       "      <td>Moroni to Moheli. Turned out to be a pretty de...</td>\n",
       "      <td>Moroni to Moheli</td>\n",
       "      <td>Trip Verified</td>\n",
       "    </tr>\n",
       "    <tr>\n",
       "      <th>1</th>\n",
       "      <td>AB Aviation</td>\n",
       "      <td>Economy Class</td>\n",
       "      <td>Solo Leisure</td>\n",
       "      <td>2019-06-01</td>\n",
       "      <td>1.0</td>\n",
       "      <td>2</td>\n",
       "      <td>2</td>\n",
       "      <td>1</td>\n",
       "      <td>0</td>\n",
       "      <td>1</td>\n",
       "      <td>2</td>\n",
       "      <td>0</td>\n",
       "      <td>no</td>\n",
       "      <td>Moroni to Anjouan. It is a very small airline....</td>\n",
       "      <td>Moroni to Anjouan</td>\n",
       "      <td>Trip Verified</td>\n",
       "    </tr>\n",
       "    <tr>\n",
       "      <th>2</th>\n",
       "      <td>AB Aviation</td>\n",
       "      <td>Economy Class</td>\n",
       "      <td>Solo Leisure</td>\n",
       "      <td>2019-06-01</td>\n",
       "      <td>1.0</td>\n",
       "      <td>2</td>\n",
       "      <td>1</td>\n",
       "      <td>1</td>\n",
       "      <td>0</td>\n",
       "      <td>1</td>\n",
       "      <td>2</td>\n",
       "      <td>0</td>\n",
       "      <td>no</td>\n",
       "      <td>Anjouan to Dzaoudzi. A very small airline and ...</td>\n",
       "      <td>Anjouan to Dzaoudzi</td>\n",
       "      <td>Trip Verified</td>\n",
       "    </tr>\n",
       "    <tr>\n",
       "      <th>6</th>\n",
       "      <td>AeroItalia</td>\n",
       "      <td>Economy Class</td>\n",
       "      <td>Business</td>\n",
       "      <td>2023-04-01</td>\n",
       "      <td>2.0</td>\n",
       "      <td>1</td>\n",
       "      <td>3</td>\n",
       "      <td>1</td>\n",
       "      <td>0</td>\n",
       "      <td>1</td>\n",
       "      <td>1</td>\n",
       "      <td>0</td>\n",
       "      <td>no</td>\n",
       "      <td>Only 1 check-in desk open for a full plane and...</td>\n",
       "      <td>Milano to Olbia</td>\n",
       "      <td>Trip Verified</td>\n",
       "    </tr>\n",
       "    <tr>\n",
       "      <th>7</th>\n",
       "      <td>Aero VIP</td>\n",
       "      <td>Economy Class</td>\n",
       "      <td>Solo Leisure</td>\n",
       "      <td>2019-04-01</td>\n",
       "      <td>9.0</td>\n",
       "      <td>4</td>\n",
       "      <td>4</td>\n",
       "      <td>0</td>\n",
       "      <td>0</td>\n",
       "      <td>5</td>\n",
       "      <td>4</td>\n",
       "      <td>0</td>\n",
       "      <td>yes</td>\n",
       "      <td>Cascais to Bragança with Aero VIP. Services ar...</td>\n",
       "      <td>Cascais to Bragança</td>\n",
       "      <td>Trip Verified</td>\n",
       "    </tr>\n",
       "    <tr>\n",
       "      <th>...</th>\n",
       "      <td>...</td>\n",
       "      <td>...</td>\n",
       "      <td>...</td>\n",
       "      <td>...</td>\n",
       "      <td>...</td>\n",
       "      <td>...</td>\n",
       "      <td>...</td>\n",
       "      <td>...</td>\n",
       "      <td>...</td>\n",
       "      <td>...</td>\n",
       "      <td>...</td>\n",
       "      <td>...</td>\n",
       "      <td>...</td>\n",
       "      <td>...</td>\n",
       "      <td>...</td>\n",
       "      <td>...</td>\n",
       "    </tr>\n",
       "    <tr>\n",
       "      <th>129200</th>\n",
       "      <td>Wizz Air</td>\n",
       "      <td>Economy Class</td>\n",
       "      <td>Solo Leisure</td>\n",
       "      <td>2015-05-01</td>\n",
       "      <td>8.0</td>\n",
       "      <td>1</td>\n",
       "      <td>1</td>\n",
       "      <td>0</td>\n",
       "      <td>0</td>\n",
       "      <td>2</td>\n",
       "      <td>5</td>\n",
       "      <td>0</td>\n",
       "      <td>yes</td>\n",
       "      <td>If you are going with them, you need to learn ...</td>\n",
       "      <td>Budapest to Barcelona</td>\n",
       "      <td>NaN</td>\n",
       "    </tr>\n",
       "    <tr>\n",
       "      <th>129201</th>\n",
       "      <td>Wizz Air</td>\n",
       "      <td>Economy Class</td>\n",
       "      <td>Family Leisure</td>\n",
       "      <td>2015-06-01</td>\n",
       "      <td>1.0</td>\n",
       "      <td>1</td>\n",
       "      <td>2</td>\n",
       "      <td>1</td>\n",
       "      <td>1</td>\n",
       "      <td>1</td>\n",
       "      <td>1</td>\n",
       "      <td>1</td>\n",
       "      <td>no</td>\n",
       "      <td>We went to Ciampino airport 3 hours early and ...</td>\n",
       "      <td>Rome to Bucharest</td>\n",
       "      <td>NaN</td>\n",
       "    </tr>\n",
       "    <tr>\n",
       "      <th>129202</th>\n",
       "      <td>Wizz Air</td>\n",
       "      <td>Economy Class</td>\n",
       "      <td>Solo Leisure</td>\n",
       "      <td>2015-04-01</td>\n",
       "      <td>1.0</td>\n",
       "      <td>2</td>\n",
       "      <td>1</td>\n",
       "      <td>0</td>\n",
       "      <td>0</td>\n",
       "      <td>2</td>\n",
       "      <td>2</td>\n",
       "      <td>0</td>\n",
       "      <td>no</td>\n",
       "      <td>I had never heard of Wizz Air before but as th...</td>\n",
       "      <td>London Luton to Budapest</td>\n",
       "      <td>NaN</td>\n",
       "    </tr>\n",
       "    <tr>\n",
       "      <th>129203</th>\n",
       "      <td>Wizz Air</td>\n",
       "      <td>Economy Class</td>\n",
       "      <td>Couple Leisure</td>\n",
       "      <td>2015-06-01</td>\n",
       "      <td>1.0</td>\n",
       "      <td>2</td>\n",
       "      <td>2</td>\n",
       "      <td>0</td>\n",
       "      <td>0</td>\n",
       "      <td>1</td>\n",
       "      <td>1</td>\n",
       "      <td>0</td>\n",
       "      <td>no</td>\n",
       "      <td>Very disappointing experience. The airline cha...</td>\n",
       "      <td>Budapest to Tel Aviv</td>\n",
       "      <td>NaN</td>\n",
       "    </tr>\n",
       "    <tr>\n",
       "      <th>129204</th>\n",
       "      <td>Wizz Air</td>\n",
       "      <td>Economy Class</td>\n",
       "      <td>Family Leisure</td>\n",
       "      <td>2015-02-01</td>\n",
       "      <td>1.0</td>\n",
       "      <td>1</td>\n",
       "      <td>1</td>\n",
       "      <td>1</td>\n",
       "      <td>0</td>\n",
       "      <td>1</td>\n",
       "      <td>1</td>\n",
       "      <td>0</td>\n",
       "      <td>no</td>\n",
       "      <td>Wizz Air is hands down the worst airline in al...</td>\n",
       "      <td>Budapest to Dubai</td>\n",
       "      <td>NaN</td>\n",
       "    </tr>\n",
       "  </tbody>\n",
       "</table>\n",
       "<p>90826 rows × 16 columns</p>\n",
       "</div>"
      ],
      "text/plain": [
       "        AirlineName      CabinType      TravelType  DateFlown  OverallScore  \\\n",
       "0       AB Aviation  Economy Class    Solo Leisure 2019-11-01           9.0   \n",
       "1       AB Aviation  Economy Class    Solo Leisure 2019-06-01           1.0   \n",
       "2       AB Aviation  Economy Class    Solo Leisure 2019-06-01           1.0   \n",
       "6        AeroItalia  Economy Class        Business 2023-04-01           2.0   \n",
       "7          Aero VIP  Economy Class    Solo Leisure 2019-04-01           9.0   \n",
       "...             ...            ...             ...        ...           ...   \n",
       "129200     Wizz Air  Economy Class    Solo Leisure 2015-05-01           8.0   \n",
       "129201     Wizz Air  Economy Class  Family Leisure 2015-06-01           1.0   \n",
       "129202     Wizz Air  Economy Class    Solo Leisure 2015-04-01           1.0   \n",
       "129203     Wizz Air  Economy Class  Couple Leisure 2015-06-01           1.0   \n",
       "129204     Wizz Air  Economy Class  Family Leisure 2015-02-01           1.0   \n",
       "\n",
       "        SeatComfortRating  ServiceRating  FoodRating  EntertainmentRating  \\\n",
       "0                       4              5           4                    0   \n",
       "1                       2              2           1                    0   \n",
       "2                       2              1           1                    0   \n",
       "6                       1              3           1                    0   \n",
       "7                       4              4           0                    0   \n",
       "...                   ...            ...         ...                  ...   \n",
       "129200                  1              1           0                    0   \n",
       "129201                  1              2           1                    1   \n",
       "129202                  2              1           0                    0   \n",
       "129203                  2              2           0                    0   \n",
       "129204                  1              1           1                    0   \n",
       "\n",
       "        GroundServiceRating  ValueRating  WifiRating Recommended  \\\n",
       "0                         4            3           0         yes   \n",
       "1                         1            2           0          no   \n",
       "2                         1            2           0          no   \n",
       "6                         1            1           0          no   \n",
       "7                         5            4           0         yes   \n",
       "...                     ...          ...         ...         ...   \n",
       "129200                    2            5           0         yes   \n",
       "129201                    1            1           1          no   \n",
       "129202                    2            2           0          no   \n",
       "129203                    1            1           0          no   \n",
       "129204                    1            1           0          no   \n",
       "\n",
       "                                                   Review  \\\n",
       "0       Moroni to Moheli. Turned out to be a pretty de...   \n",
       "1       Moroni to Anjouan. It is a very small airline....   \n",
       "2       Anjouan to Dzaoudzi. A very small airline and ...   \n",
       "6       Only 1 check-in desk open for a full plane and...   \n",
       "7       Cascais to Bragança with Aero VIP. Services ar...   \n",
       "...                                                   ...   \n",
       "129200  If you are going with them, you need to learn ...   \n",
       "129201  We went to Ciampino airport 3 hours early and ...   \n",
       "129202  I had never heard of Wizz Air before but as th...   \n",
       "129203  Very disappointing experience. The airline cha...   \n",
       "129204  Wizz Air is hands down the worst airline in al...   \n",
       "\n",
       "                           Route   TripVerified  \n",
       "0               Moroni to Moheli  Trip Verified  \n",
       "1              Moroni to Anjouan  Trip Verified  \n",
       "2            Anjouan to Dzaoudzi  Trip Verified  \n",
       "6                Milano to Olbia  Trip Verified  \n",
       "7            Cascais to Bragança  Trip Verified  \n",
       "...                          ...            ...  \n",
       "129200     Budapest to Barcelona            NaN  \n",
       "129201         Rome to Bucharest            NaN  \n",
       "129202  London Luton to Budapest            NaN  \n",
       "129203      Budapest to Tel Aviv            NaN  \n",
       "129204         Budapest to Dubai            NaN  \n",
       "\n",
       "[90826 rows x 16 columns]"
      ]
     },
     "execution_count": 19,
     "metadata": {},
     "output_type": "execute_result"
    }
   ],
   "source": [
    "dataset_deduplicated.drop(index=duplicated_reviews, inplace=True)\n",
    "dataset_deduplicated"
   ]
  },
  {
   "cell_type": "code",
   "execution_count": 20,
   "metadata": {},
   "outputs": [
    {
     "name": "stdout",
     "output_type": "stream",
     "text": [
      "Duplicate entries removed:  14\n"
     ]
    }
   ],
   "source": [
    "print(\"Duplicate entries removed: \", dataset_outdated_dropped.shape[0] - dataset_deduplicated.shape[0])"
   ]
  },
  {
   "cell_type": "markdown",
   "metadata": {},
   "source": [
    "# Clean up the `Route` column\n",
    "\n",
    "We want to eventually split the `Route` column into `Origin` and `Destination` columns. Before we do that, we make sure that it's standardized.\n",
    "\n",
    "## Strip whitespace"
   ]
  },
  {
   "cell_type": "code",
   "execution_count": 21,
   "metadata": {},
   "outputs": [],
   "source": [
    "dataset_route_stripped = dataset_deduplicated.copy()"
   ]
  },
  {
   "cell_type": "code",
   "execution_count": 22,
   "metadata": {},
   "outputs": [],
   "source": [
    "dataset_route_stripped['Route'] = dataset_route_stripped['Route'].str.strip('.!?,& \\n\\t')"
   ]
  },
  {
   "cell_type": "markdown",
   "metadata": {},
   "source": [
    "## Remove entries with no `Route`"
   ]
  },
  {
   "cell_type": "code",
   "execution_count": 23,
   "metadata": {},
   "outputs": [
    {
     "data": {
      "text/plain": [
       "Int64Index([   947,   1473,   1518,   1672,   1802,   1952,   5047,   5588,\n",
       "              6269,   6319,\n",
       "            ...\n",
       "            128192, 128377, 128412, 128421, 128472, 128483, 128492, 128517,\n",
       "            128530, 128541],\n",
       "           dtype='int64', length=300)"
      ]
     },
     "execution_count": 23,
     "metadata": {},
     "output_type": "execute_result"
    }
   ],
   "source": [
    "no_route = dataset_route_stripped.index[dataset_route_stripped['Route'].isna()]\n",
    "no_route"
   ]
  },
  {
   "cell_type": "code",
   "execution_count": 24,
   "metadata": {},
   "outputs": [],
   "source": [
    "dataset_route_stripped.drop(index=no_route, inplace=True)"
   ]
  },
  {
   "cell_type": "markdown",
   "metadata": {},
   "source": [
    "In the future, we could possibly fill these in by using the `Review` column."
   ]
  },
  {
   "cell_type": "markdown",
   "metadata": {},
   "source": [
    "## Split into Origin+Destination and Layover\n",
    "\n",
    "If we look at the structure of the `Route` column, most of them are of the form \"[Origin] to [Destination]\" or \"[Origin] to [Destination] via [Layover].\" We deal with those entries that have `\"via\"`, split on it, and put them into new columns in our data."
   ]
  },
  {
   "cell_type": "code",
   "execution_count": 25,
   "metadata": {},
   "outputs": [
    {
     "data": {
      "text/html": [
       "<div>\n",
       "<style scoped>\n",
       "    .dataframe tbody tr th:only-of-type {\n",
       "        vertical-align: middle;\n",
       "    }\n",
       "\n",
       "    .dataframe tbody tr th {\n",
       "        vertical-align: top;\n",
       "    }\n",
       "\n",
       "    .dataframe thead th {\n",
       "        text-align: right;\n",
       "    }\n",
       "</style>\n",
       "<table border=\"1\" class=\"dataframe\">\n",
       "  <thead>\n",
       "    <tr style=\"text-align: right;\">\n",
       "      <th></th>\n",
       "      <th>Route</th>\n",
       "    </tr>\n",
       "  </thead>\n",
       "  <tbody>\n",
       "    <tr>\n",
       "      <th>11</th>\n",
       "      <td>Sofia to Amsterdam via Ljubljana</td>\n",
       "    </tr>\n",
       "    <tr>\n",
       "      <th>15</th>\n",
       "      <td>Pristina to Zürich via Ljubliana</td>\n",
       "    </tr>\n",
       "    <tr>\n",
       "      <th>19</th>\n",
       "      <td>Paris to Skopje via Ljubljana</td>\n",
       "    </tr>\n",
       "    <tr>\n",
       "      <th>101</th>\n",
       "      <td>Ixtapa Zihuatanejo to Acapulco via Mexico City</td>\n",
       "    </tr>\n",
       "    <tr>\n",
       "      <th>174</th>\n",
       "      <td>Buenos Aires to Brussels via Rome</td>\n",
       "    </tr>\n",
       "    <tr>\n",
       "      <th>...</th>\n",
       "      <td>...</td>\n",
       "    </tr>\n",
       "    <tr>\n",
       "      <th>128583</th>\n",
       "      <td>Milan to Nur-Sultan via Budapest</td>\n",
       "    </tr>\n",
       "    <tr>\n",
       "      <th>128618</th>\n",
       "      <td>Barcelona to Thessaloniki via Budapest</td>\n",
       "    </tr>\n",
       "    <tr>\n",
       "      <th>128730</th>\n",
       "      <td>Baku to Frankfurt via Budapest</td>\n",
       "    </tr>\n",
       "    <tr>\n",
       "      <th>128844</th>\n",
       "      <td>Luton to Dubai via Katowice</td>\n",
       "    </tr>\n",
       "    <tr>\n",
       "      <th>129036</th>\n",
       "      <td>Luton to Moscow via Vilnius</td>\n",
       "    </tr>\n",
       "  </tbody>\n",
       "</table>\n",
       "<p>23895 rows × 1 columns</p>\n",
       "</div>"
      ],
      "text/plain": [
       "                                                 Route\n",
       "11                    Sofia to Amsterdam via Ljubljana\n",
       "15                    Pristina to Zürich via Ljubliana\n",
       "19                       Paris to Skopje via Ljubljana\n",
       "101     Ixtapa Zihuatanejo to Acapulco via Mexico City\n",
       "174                  Buenos Aires to Brussels via Rome\n",
       "...                                                ...\n",
       "128583                Milan to Nur-Sultan via Budapest\n",
       "128618          Barcelona to Thessaloniki via Budapest\n",
       "128730                  Baku to Frankfurt via Budapest\n",
       "128844                     Luton to Dubai via Katowice\n",
       "129036                     Luton to Moscow via Vilnius\n",
       "\n",
       "[23895 rows x 1 columns]"
      ]
     },
     "execution_count": 25,
     "metadata": {},
     "output_type": "execute_result"
    }
   ],
   "source": [
    "dataset_route_stripped.loc[dataset_route_stripped['Route'].str.contains(' via '), ['Route']]"
   ]
  },
  {
   "cell_type": "code",
   "execution_count": 26,
   "metadata": {},
   "outputs": [],
   "source": [
    "dataset_no_layovers = dataset_route_stripped.copy()"
   ]
  },
  {
   "cell_type": "markdown",
   "metadata": {},
   "source": [
    "### Look for typos or variants of `\" via \"` and clean them"
   ]
  },
  {
   "cell_type": "code",
   "execution_count": 27,
   "metadata": {},
   "outputs": [
    {
     "data": {
      "text/plain": [
       "11319             Bologna to Johannesburgvia Paris\n",
       "15073                              Latvia to Turku\n",
       "15423                            Monrovia to Accra\n",
       "22027     Baton Rouge to College Stationvia Dallas\n",
       "45741         Hong Kong to Reykjavik =via Helsinki\n",
       "90270                            HKT to BRUvia DOH\n",
       "95635              Varanasi to Bangkok via Kolkata\n",
       "121411            Helena to Indianapolisvia Denver\n",
       "125204              Des Moines to Fresnovia Denver\n",
       "Name: Route, dtype: object"
      ]
     },
     "execution_count": 27,
     "metadata": {},
     "output_type": "execute_result"
    }
   ],
   "source": [
    "dataset_no_layovers.loc[(dataset_no_layovers['Route'].str.contains('.+via ')) & (dataset_no_layovers['Route'].str.contains(' via ') == False), 'Route']"
   ]
  },
  {
   "cell_type": "code",
   "execution_count": 28,
   "metadata": {},
   "outputs": [],
   "source": [
    "via_edit = [11319, 22027, 45741, 90270, 121411, 125204]"
   ]
  },
  {
   "cell_type": "code",
   "execution_count": 29,
   "metadata": {},
   "outputs": [
    {
     "data": {
      "text/plain": [
       "11319             Bologna to Johannesburg via Paris\n",
       "22027     Baton Rouge to College Station via Dallas\n",
       "45741         Hong Kong to Reykjavik = via Helsinki\n",
       "90270                            HKT to BRU via DOH\n",
       "121411            Helena to Indianapolis via Denver\n",
       "125204              Des Moines to Fresno via Denver\n",
       "Name: Route, dtype: object"
      ]
     },
     "execution_count": 29,
     "metadata": {},
     "output_type": "execute_result"
    }
   ],
   "source": [
    "dataset_no_layovers.loc[via_edit, 'Route'] = dataset_no_layovers.loc[via_edit, 'Route'].replace(to_replace='via ', value=' via ', regex=True)\n",
    "dataset_no_layovers.loc[via_edit, 'Route']"
   ]
  },
  {
   "cell_type": "code",
   "execution_count": 30,
   "metadata": {},
   "outputs": [
    {
     "data": {
      "text/plain": [
       "16386    Honolulu to Manila viaTokyo\n",
       "76671              PRG to YYZ viaFRA\n",
       "76689              LAX to WRO viaMUC\n",
       "Name: Route, dtype: object"
      ]
     },
     "execution_count": 30,
     "metadata": {},
     "output_type": "execute_result"
    }
   ],
   "source": [
    "dataset_no_layovers.loc[(dataset_no_layovers['Route'].str.contains(' via.+')) & (dataset_no_layovers['Route'].str.contains(' via ') == False), 'Route']"
   ]
  },
  {
   "cell_type": "code",
   "execution_count": 31,
   "metadata": {},
   "outputs": [
    {
     "data": {
      "text/plain": [
       "Int64Index([16386, 76671, 76689], dtype='int64')"
      ]
     },
     "execution_count": 31,
     "metadata": {},
     "output_type": "execute_result"
    }
   ],
   "source": [
    "via_edit = dataset_no_layovers.index[(dataset_no_layovers['Route'].str.contains(' via.+')) & (dataset_no_layovers['Route'].str.contains(' via ') == False)]\n",
    "via_edit"
   ]
  },
  {
   "cell_type": "code",
   "execution_count": 32,
   "metadata": {},
   "outputs": [
    {
     "data": {
      "text/plain": [
       "16386    Honolulu to Manila via Tokyo\n",
       "76671              PRG to YYZ via FRA\n",
       "76689              LAX to WRO via MUC\n",
       "Name: Route, dtype: object"
      ]
     },
     "execution_count": 32,
     "metadata": {},
     "output_type": "execute_result"
    }
   ],
   "source": [
    "dataset_no_layovers.loc[via_edit, 'Route'] = dataset_no_layovers.loc[via_edit, 'Route'].replace(to_replace=' via', value=' via ', regex=True)\n",
    "dataset_no_layovers.loc[via_edit, 'Route']"
   ]
  },
  {
   "cell_type": "code",
   "execution_count": 33,
   "metadata": {},
   "outputs": [
    {
     "name": "stdout",
     "output_type": "stream",
     "text": [
      "Contains \" via \":  23904\n",
      "Contains \".+via \":  23907\n",
      "Contains \" via.+\":  23904\n"
     ]
    }
   ],
   "source": [
    "print(\"Contains \\\" via \\\": \", dataset_no_layovers['Route'].str.contains(' via ').sum())\n",
    "print(\"Contains \\\".+via \\\": \", dataset_no_layovers['Route'].str.contains('.+via ').sum())\n",
    "print(\"Contains \\\" via.+\\\": \", dataset_no_layovers['Route'].str.contains(' via.+').sum())"
   ]
  },
  {
   "cell_type": "markdown",
   "metadata": {},
   "source": [
    "### Split on `\" via \"`"
   ]
  },
  {
   "cell_type": "code",
   "execution_count": 34,
   "metadata": {},
   "outputs": [
    {
     "data": {
      "text/html": [
       "<div>\n",
       "<style scoped>\n",
       "    .dataframe tbody tr th:only-of-type {\n",
       "        vertical-align: middle;\n",
       "    }\n",
       "\n",
       "    .dataframe tbody tr th {\n",
       "        vertical-align: top;\n",
       "    }\n",
       "\n",
       "    .dataframe thead th {\n",
       "        text-align: right;\n",
       "    }\n",
       "</style>\n",
       "<table border=\"1\" class=\"dataframe\">\n",
       "  <thead>\n",
       "    <tr style=\"text-align: right;\">\n",
       "      <th></th>\n",
       "      <th>0</th>\n",
       "      <th>1</th>\n",
       "    </tr>\n",
       "  </thead>\n",
       "  <tbody>\n",
       "    <tr>\n",
       "      <th>0</th>\n",
       "      <td>Moroni to Moheli</td>\n",
       "      <td>None</td>\n",
       "    </tr>\n",
       "    <tr>\n",
       "      <th>1</th>\n",
       "      <td>Moroni to Anjouan</td>\n",
       "      <td>None</td>\n",
       "    </tr>\n",
       "    <tr>\n",
       "      <th>2</th>\n",
       "      <td>Anjouan to Dzaoudzi</td>\n",
       "      <td>None</td>\n",
       "    </tr>\n",
       "    <tr>\n",
       "      <th>6</th>\n",
       "      <td>Milano to Olbia</td>\n",
       "      <td>None</td>\n",
       "    </tr>\n",
       "    <tr>\n",
       "      <th>7</th>\n",
       "      <td>Cascais to Bragança</td>\n",
       "      <td>None</td>\n",
       "    </tr>\n",
       "    <tr>\n",
       "      <th>...</th>\n",
       "      <td>...</td>\n",
       "      <td>...</td>\n",
       "    </tr>\n",
       "    <tr>\n",
       "      <th>129200</th>\n",
       "      <td>Budapest to Barcelona</td>\n",
       "      <td>None</td>\n",
       "    </tr>\n",
       "    <tr>\n",
       "      <th>129201</th>\n",
       "      <td>Rome to Bucharest</td>\n",
       "      <td>None</td>\n",
       "    </tr>\n",
       "    <tr>\n",
       "      <th>129202</th>\n",
       "      <td>London Luton to Budapest</td>\n",
       "      <td>None</td>\n",
       "    </tr>\n",
       "    <tr>\n",
       "      <th>129203</th>\n",
       "      <td>Budapest to Tel Aviv</td>\n",
       "      <td>None</td>\n",
       "    </tr>\n",
       "    <tr>\n",
       "      <th>129204</th>\n",
       "      <td>Budapest to Dubai</td>\n",
       "      <td>None</td>\n",
       "    </tr>\n",
       "  </tbody>\n",
       "</table>\n",
       "<p>90526 rows × 2 columns</p>\n",
       "</div>"
      ],
      "text/plain": [
       "                               0     1\n",
       "0               Moroni to Moheli  None\n",
       "1              Moroni to Anjouan  None\n",
       "2            Anjouan to Dzaoudzi  None\n",
       "6                Milano to Olbia  None\n",
       "7            Cascais to Bragança  None\n",
       "...                          ...   ...\n",
       "129200     Budapest to Barcelona  None\n",
       "129201         Rome to Bucharest  None\n",
       "129202  London Luton to Budapest  None\n",
       "129203      Budapest to Tel Aviv  None\n",
       "129204         Budapest to Dubai  None\n",
       "\n",
       "[90526 rows x 2 columns]"
      ]
     },
     "execution_count": 34,
     "metadata": {},
     "output_type": "execute_result"
    }
   ],
   "source": [
    "via_splitted = dataset_no_layovers['Route'].str.split(' via ', regex=True, expand=True)\n",
    "via_splitted"
   ]
  },
  {
   "cell_type": "markdown",
   "metadata": {},
   "source": [
    "### Add column without \"via layover\" into dataset and remove old `Route` column."
   ]
  },
  {
   "cell_type": "code",
   "execution_count": 35,
   "metadata": {},
   "outputs": [
    {
     "data": {
      "text/html": [
       "<div>\n",
       "<style scoped>\n",
       "    .dataframe tbody tr th:only-of-type {\n",
       "        vertical-align: middle;\n",
       "    }\n",
       "\n",
       "    .dataframe tbody tr th {\n",
       "        vertical-align: top;\n",
       "    }\n",
       "\n",
       "    .dataframe thead th {\n",
       "        text-align: right;\n",
       "    }\n",
       "</style>\n",
       "<table border=\"1\" class=\"dataframe\">\n",
       "  <thead>\n",
       "    <tr style=\"text-align: right;\">\n",
       "      <th></th>\n",
       "      <th>AirlineName</th>\n",
       "      <th>CabinType</th>\n",
       "      <th>TravelType</th>\n",
       "      <th>DateFlown</th>\n",
       "      <th>OverallScore</th>\n",
       "      <th>SeatComfortRating</th>\n",
       "      <th>ServiceRating</th>\n",
       "      <th>FoodRating</th>\n",
       "      <th>EntertainmentRating</th>\n",
       "      <th>GroundServiceRating</th>\n",
       "      <th>ValueRating</th>\n",
       "      <th>WifiRating</th>\n",
       "      <th>Recommended</th>\n",
       "      <th>Review</th>\n",
       "      <th>TripVerified</th>\n",
       "      <th>NewRoute</th>\n",
       "    </tr>\n",
       "  </thead>\n",
       "  <tbody>\n",
       "    <tr>\n",
       "      <th>0</th>\n",
       "      <td>AB Aviation</td>\n",
       "      <td>Economy Class</td>\n",
       "      <td>Solo Leisure</td>\n",
       "      <td>2019-11-01</td>\n",
       "      <td>9.0</td>\n",
       "      <td>4</td>\n",
       "      <td>5</td>\n",
       "      <td>4</td>\n",
       "      <td>0</td>\n",
       "      <td>4</td>\n",
       "      <td>3</td>\n",
       "      <td>0</td>\n",
       "      <td>yes</td>\n",
       "      <td>Moroni to Moheli. Turned out to be a pretty de...</td>\n",
       "      <td>Trip Verified</td>\n",
       "      <td>Moroni to Moheli</td>\n",
       "    </tr>\n",
       "    <tr>\n",
       "      <th>1</th>\n",
       "      <td>AB Aviation</td>\n",
       "      <td>Economy Class</td>\n",
       "      <td>Solo Leisure</td>\n",
       "      <td>2019-06-01</td>\n",
       "      <td>1.0</td>\n",
       "      <td>2</td>\n",
       "      <td>2</td>\n",
       "      <td>1</td>\n",
       "      <td>0</td>\n",
       "      <td>1</td>\n",
       "      <td>2</td>\n",
       "      <td>0</td>\n",
       "      <td>no</td>\n",
       "      <td>Moroni to Anjouan. It is a very small airline....</td>\n",
       "      <td>Trip Verified</td>\n",
       "      <td>Moroni to Anjouan</td>\n",
       "    </tr>\n",
       "    <tr>\n",
       "      <th>2</th>\n",
       "      <td>AB Aviation</td>\n",
       "      <td>Economy Class</td>\n",
       "      <td>Solo Leisure</td>\n",
       "      <td>2019-06-01</td>\n",
       "      <td>1.0</td>\n",
       "      <td>2</td>\n",
       "      <td>1</td>\n",
       "      <td>1</td>\n",
       "      <td>0</td>\n",
       "      <td>1</td>\n",
       "      <td>2</td>\n",
       "      <td>0</td>\n",
       "      <td>no</td>\n",
       "      <td>Anjouan to Dzaoudzi. A very small airline and ...</td>\n",
       "      <td>Trip Verified</td>\n",
       "      <td>Anjouan to Dzaoudzi</td>\n",
       "    </tr>\n",
       "    <tr>\n",
       "      <th>6</th>\n",
       "      <td>AeroItalia</td>\n",
       "      <td>Economy Class</td>\n",
       "      <td>Business</td>\n",
       "      <td>2023-04-01</td>\n",
       "      <td>2.0</td>\n",
       "      <td>1</td>\n",
       "      <td>3</td>\n",
       "      <td>1</td>\n",
       "      <td>0</td>\n",
       "      <td>1</td>\n",
       "      <td>1</td>\n",
       "      <td>0</td>\n",
       "      <td>no</td>\n",
       "      <td>Only 1 check-in desk open for a full plane and...</td>\n",
       "      <td>Trip Verified</td>\n",
       "      <td>Milano to Olbia</td>\n",
       "    </tr>\n",
       "    <tr>\n",
       "      <th>7</th>\n",
       "      <td>Aero VIP</td>\n",
       "      <td>Economy Class</td>\n",
       "      <td>Solo Leisure</td>\n",
       "      <td>2019-04-01</td>\n",
       "      <td>9.0</td>\n",
       "      <td>4</td>\n",
       "      <td>4</td>\n",
       "      <td>0</td>\n",
       "      <td>0</td>\n",
       "      <td>5</td>\n",
       "      <td>4</td>\n",
       "      <td>0</td>\n",
       "      <td>yes</td>\n",
       "      <td>Cascais to Bragança with Aero VIP. Services ar...</td>\n",
       "      <td>Trip Verified</td>\n",
       "      <td>Cascais to Bragança</td>\n",
       "    </tr>\n",
       "    <tr>\n",
       "      <th>...</th>\n",
       "      <td>...</td>\n",
       "      <td>...</td>\n",
       "      <td>...</td>\n",
       "      <td>...</td>\n",
       "      <td>...</td>\n",
       "      <td>...</td>\n",
       "      <td>...</td>\n",
       "      <td>...</td>\n",
       "      <td>...</td>\n",
       "      <td>...</td>\n",
       "      <td>...</td>\n",
       "      <td>...</td>\n",
       "      <td>...</td>\n",
       "      <td>...</td>\n",
       "      <td>...</td>\n",
       "      <td>...</td>\n",
       "    </tr>\n",
       "    <tr>\n",
       "      <th>129200</th>\n",
       "      <td>Wizz Air</td>\n",
       "      <td>Economy Class</td>\n",
       "      <td>Solo Leisure</td>\n",
       "      <td>2015-05-01</td>\n",
       "      <td>8.0</td>\n",
       "      <td>1</td>\n",
       "      <td>1</td>\n",
       "      <td>0</td>\n",
       "      <td>0</td>\n",
       "      <td>2</td>\n",
       "      <td>5</td>\n",
       "      <td>0</td>\n",
       "      <td>yes</td>\n",
       "      <td>If you are going with them, you need to learn ...</td>\n",
       "      <td>NaN</td>\n",
       "      <td>Budapest to Barcelona</td>\n",
       "    </tr>\n",
       "    <tr>\n",
       "      <th>129201</th>\n",
       "      <td>Wizz Air</td>\n",
       "      <td>Economy Class</td>\n",
       "      <td>Family Leisure</td>\n",
       "      <td>2015-06-01</td>\n",
       "      <td>1.0</td>\n",
       "      <td>1</td>\n",
       "      <td>2</td>\n",
       "      <td>1</td>\n",
       "      <td>1</td>\n",
       "      <td>1</td>\n",
       "      <td>1</td>\n",
       "      <td>1</td>\n",
       "      <td>no</td>\n",
       "      <td>We went to Ciampino airport 3 hours early and ...</td>\n",
       "      <td>NaN</td>\n",
       "      <td>Rome to Bucharest</td>\n",
       "    </tr>\n",
       "    <tr>\n",
       "      <th>129202</th>\n",
       "      <td>Wizz Air</td>\n",
       "      <td>Economy Class</td>\n",
       "      <td>Solo Leisure</td>\n",
       "      <td>2015-04-01</td>\n",
       "      <td>1.0</td>\n",
       "      <td>2</td>\n",
       "      <td>1</td>\n",
       "      <td>0</td>\n",
       "      <td>0</td>\n",
       "      <td>2</td>\n",
       "      <td>2</td>\n",
       "      <td>0</td>\n",
       "      <td>no</td>\n",
       "      <td>I had never heard of Wizz Air before but as th...</td>\n",
       "      <td>NaN</td>\n",
       "      <td>London Luton to Budapest</td>\n",
       "    </tr>\n",
       "    <tr>\n",
       "      <th>129203</th>\n",
       "      <td>Wizz Air</td>\n",
       "      <td>Economy Class</td>\n",
       "      <td>Couple Leisure</td>\n",
       "      <td>2015-06-01</td>\n",
       "      <td>1.0</td>\n",
       "      <td>2</td>\n",
       "      <td>2</td>\n",
       "      <td>0</td>\n",
       "      <td>0</td>\n",
       "      <td>1</td>\n",
       "      <td>1</td>\n",
       "      <td>0</td>\n",
       "      <td>no</td>\n",
       "      <td>Very disappointing experience. The airline cha...</td>\n",
       "      <td>NaN</td>\n",
       "      <td>Budapest to Tel Aviv</td>\n",
       "    </tr>\n",
       "    <tr>\n",
       "      <th>129204</th>\n",
       "      <td>Wizz Air</td>\n",
       "      <td>Economy Class</td>\n",
       "      <td>Family Leisure</td>\n",
       "      <td>2015-02-01</td>\n",
       "      <td>1.0</td>\n",
       "      <td>1</td>\n",
       "      <td>1</td>\n",
       "      <td>1</td>\n",
       "      <td>0</td>\n",
       "      <td>1</td>\n",
       "      <td>1</td>\n",
       "      <td>0</td>\n",
       "      <td>no</td>\n",
       "      <td>Wizz Air is hands down the worst airline in al...</td>\n",
       "      <td>NaN</td>\n",
       "      <td>Budapest to Dubai</td>\n",
       "    </tr>\n",
       "  </tbody>\n",
       "</table>\n",
       "<p>90526 rows × 16 columns</p>\n",
       "</div>"
      ],
      "text/plain": [
       "        AirlineName      CabinType      TravelType  DateFlown  OverallScore  \\\n",
       "0       AB Aviation  Economy Class    Solo Leisure 2019-11-01           9.0   \n",
       "1       AB Aviation  Economy Class    Solo Leisure 2019-06-01           1.0   \n",
       "2       AB Aviation  Economy Class    Solo Leisure 2019-06-01           1.0   \n",
       "6        AeroItalia  Economy Class        Business 2023-04-01           2.0   \n",
       "7          Aero VIP  Economy Class    Solo Leisure 2019-04-01           9.0   \n",
       "...             ...            ...             ...        ...           ...   \n",
       "129200     Wizz Air  Economy Class    Solo Leisure 2015-05-01           8.0   \n",
       "129201     Wizz Air  Economy Class  Family Leisure 2015-06-01           1.0   \n",
       "129202     Wizz Air  Economy Class    Solo Leisure 2015-04-01           1.0   \n",
       "129203     Wizz Air  Economy Class  Couple Leisure 2015-06-01           1.0   \n",
       "129204     Wizz Air  Economy Class  Family Leisure 2015-02-01           1.0   \n",
       "\n",
       "        SeatComfortRating  ServiceRating  FoodRating  EntertainmentRating  \\\n",
       "0                       4              5           4                    0   \n",
       "1                       2              2           1                    0   \n",
       "2                       2              1           1                    0   \n",
       "6                       1              3           1                    0   \n",
       "7                       4              4           0                    0   \n",
       "...                   ...            ...         ...                  ...   \n",
       "129200                  1              1           0                    0   \n",
       "129201                  1              2           1                    1   \n",
       "129202                  2              1           0                    0   \n",
       "129203                  2              2           0                    0   \n",
       "129204                  1              1           1                    0   \n",
       "\n",
       "        GroundServiceRating  ValueRating  WifiRating Recommended  \\\n",
       "0                         4            3           0         yes   \n",
       "1                         1            2           0          no   \n",
       "2                         1            2           0          no   \n",
       "6                         1            1           0          no   \n",
       "7                         5            4           0         yes   \n",
       "...                     ...          ...         ...         ...   \n",
       "129200                    2            5           0         yes   \n",
       "129201                    1            1           1          no   \n",
       "129202                    2            2           0          no   \n",
       "129203                    1            1           0          no   \n",
       "129204                    1            1           0          no   \n",
       "\n",
       "                                                   Review   TripVerified  \\\n",
       "0       Moroni to Moheli. Turned out to be a pretty de...  Trip Verified   \n",
       "1       Moroni to Anjouan. It is a very small airline....  Trip Verified   \n",
       "2       Anjouan to Dzaoudzi. A very small airline and ...  Trip Verified   \n",
       "6       Only 1 check-in desk open for a full plane and...  Trip Verified   \n",
       "7       Cascais to Bragança with Aero VIP. Services ar...  Trip Verified   \n",
       "...                                                   ...            ...   \n",
       "129200  If you are going with them, you need to learn ...            NaN   \n",
       "129201  We went to Ciampino airport 3 hours early and ...            NaN   \n",
       "129202  I had never heard of Wizz Air before but as th...            NaN   \n",
       "129203  Very disappointing experience. The airline cha...            NaN   \n",
       "129204  Wizz Air is hands down the worst airline in al...            NaN   \n",
       "\n",
       "                        NewRoute  \n",
       "0               Moroni to Moheli  \n",
       "1              Moroni to Anjouan  \n",
       "2            Anjouan to Dzaoudzi  \n",
       "6                Milano to Olbia  \n",
       "7            Cascais to Bragança  \n",
       "...                          ...  \n",
       "129200     Budapest to Barcelona  \n",
       "129201         Rome to Bucharest  \n",
       "129202  London Luton to Budapest  \n",
       "129203      Budapest to Tel Aviv  \n",
       "129204         Budapest to Dubai  \n",
       "\n",
       "[90526 rows x 16 columns]"
      ]
     },
     "execution_count": 35,
     "metadata": {},
     "output_type": "execute_result"
    }
   ],
   "source": [
    "dataset_no_layovers['NewRoute'] = via_splitted[0]\n",
    "dataset_no_layovers.drop(columns='Route', inplace=True)\n",
    "dataset_no_layovers"
   ]
  },
  {
   "cell_type": "markdown",
   "metadata": {},
   "source": [
    "## Clean up `NewRoute` to make them all have `\" to \"`"
   ]
  },
  {
   "cell_type": "markdown",
   "metadata": {},
   "source": [
    "#### Look for typos and variants of `\" to \"` and clean"
   ]
  },
  {
   "cell_type": "code",
   "execution_count": 36,
   "metadata": {},
   "outputs": [],
   "source": [
    "dataset_correct_to = dataset_no_layovers.copy()"
   ]
  },
  {
   "cell_type": "code",
   "execution_count": 37,
   "metadata": {},
   "outputs": [
    {
     "data": {
      "text/plain": [
       "8006                                              YYZto EWR\n",
       "8048      Sault Ste. Marie, Canada - Toronto - Frankfurt...\n",
       "9139                                Tel Avivito Malta (MLA)\n",
       "11586                                 Toronto to Birmingham\n",
       "21382                                             PIEto DSM\n",
       "21620                            Richmondto Fort Lauderdale\n",
       "48465                                             NCEto KIX\n",
       "52808                                             CGKto AMS\n",
       "68191                                             SANto LHR\n",
       "112319                                 Jakartato Yogyakarta\n",
       "118173                                        Parisnto Kiev\n",
       "Name: NewRoute, dtype: object"
      ]
     },
     "execution_count": 37,
     "metadata": {},
     "output_type": "execute_result"
    }
   ],
   "source": [
    "dataset_correct_to.loc[(dataset_correct_to['NewRoute'].str.contains('.+to ')) & (dataset_correct_to['NewRoute'].str.contains(' to ') == False), 'NewRoute']"
   ]
  },
  {
   "cell_type": "code",
   "execution_count": 38,
   "metadata": {},
   "outputs": [],
   "source": [
    "to_edit = [8006, 9139, 21382, 21620, 48465, 52808, 68191, 112319, 118173]"
   ]
  },
  {
   "cell_type": "code",
   "execution_count": 39,
   "metadata": {},
   "outputs": [
    {
     "data": {
      "text/plain": [
       "8006                       YYZ to EWR\n",
       "9139         Tel Avivi to Malta (MLA)\n",
       "21382                      PIE to DSM\n",
       "21620     Richmond to Fort Lauderdale\n",
       "48465                      NCE to KIX\n",
       "52808                      CGK to AMS\n",
       "68191                      SAN to LHR\n",
       "112319          Jakarta to Yogyakarta\n",
       "118173                 Parisn to Kiev\n",
       "Name: NewRoute, dtype: object"
      ]
     },
     "execution_count": 39,
     "metadata": {},
     "output_type": "execute_result"
    }
   ],
   "source": [
    "dataset_correct_to.loc[to_edit, 'NewRoute'] = dataset_correct_to.loc[to_edit, 'NewRoute'].replace(to_replace='to ', value=' to ', regex=True)\n",
    "dataset_correct_to.loc[to_edit, 'NewRoute']"
   ]
  },
  {
   "cell_type": "code",
   "execution_count": 40,
   "metadata": {},
   "outputs": [
    {
     "data": {
      "text/plain": [
       "14758       Bangalore toChennai\n",
       "25388                 MCO toLAX\n",
       "27081                 JFK toTLV\n",
       "28090           Krabi toBangkok\n",
       "42443       Nuremburg toHamburg\n",
       "50368           Mumbai toJaipur\n",
       "69576       Sydney to- New York\n",
       "79387                 LHR toBKK\n",
       "80303                 LGW toJFK\n",
       "88932                 SYV toLHR\n",
       "94500               LUN toi HKG\n",
       "102501              MSP top LAS\n",
       "106404    Frankfurt toBucharest\n",
       "108220              SIN toi MFM\n",
       "123134                BXH toCPT\n",
       "Name: NewRoute, dtype: object"
      ]
     },
     "execution_count": 40,
     "metadata": {},
     "output_type": "execute_result"
    }
   ],
   "source": [
    "dataset_correct_to.loc[(dataset_correct_to['NewRoute'].str.contains(' to.+')) & (dataset_correct_to['NewRoute'].str.contains(' to ') == False), 'NewRoute']"
   ]
  },
  {
   "cell_type": "code",
   "execution_count": 41,
   "metadata": {},
   "outputs": [],
   "source": [
    "# All of them seem to be right so we include all of them\n",
    "to_edit = dataset_correct_to.index[(dataset_correct_to['NewRoute'].str.contains(' to.+')) & (dataset_correct_to['NewRoute'].str.contains(' to ') == False)]"
   ]
  },
  {
   "cell_type": "code",
   "execution_count": 42,
   "metadata": {},
   "outputs": [
    {
     "data": {
      "text/plain": [
       "14758       Bangalore to Chennai\n",
       "25388                 MCO to LAX\n",
       "27081                 JFK to TLV\n",
       "28090           Krabi to Bangkok\n",
       "42443       Nuremburg to Hamburg\n",
       "50368           Mumbai to Jaipur\n",
       "69576       Sydney to - New York\n",
       "79387                 LHR to BKK\n",
       "80303                 LGW to JFK\n",
       "88932                 SYV to LHR\n",
       "94500               LUN to i HKG\n",
       "102501              MSP to p LAS\n",
       "106404    Frankfurt to Bucharest\n",
       "108220              SIN to i MFM\n",
       "123134                BXH to CPT\n",
       "Name: NewRoute, dtype: object"
      ]
     },
     "execution_count": 42,
     "metadata": {},
     "output_type": "execute_result"
    }
   ],
   "source": [
    "dataset_correct_to.loc[to_edit, 'NewRoute'] = dataset_correct_to.loc[to_edit, 'NewRoute'].replace(to_replace=' to', value=' to ', regex=True)\n",
    "dataset_correct_to.loc[to_edit, 'NewRoute']"
   ]
  },
  {
   "cell_type": "markdown",
   "metadata": {},
   "source": [
    "Notice that there are still typos on some of them. We will deal with them later, as well as the inconsistencies."
   ]
  },
  {
   "cell_type": "markdown",
   "metadata": {},
   "source": [
    "### Look for `\"from\"` in `NewRoute` and change them all to be of the form \"X to Y\"\n",
    "\n",
    "Some Route entries are of the form \"From X to Y\" or \"To Y from X\", or something like it and we want to just make it all \"X to Y\"."
   ]
  },
  {
   "cell_type": "code",
   "execution_count": 43,
   "metadata": {},
   "outputs": [
    {
     "data": {
      "text/html": [
       "<div>\n",
       "<style scoped>\n",
       "    .dataframe tbody tr th:only-of-type {\n",
       "        vertical-align: middle;\n",
       "    }\n",
       "\n",
       "    .dataframe tbody tr th {\n",
       "        vertical-align: top;\n",
       "    }\n",
       "\n",
       "    .dataframe thead th {\n",
       "        text-align: right;\n",
       "    }\n",
       "</style>\n",
       "<table border=\"1\" class=\"dataframe\">\n",
       "  <thead>\n",
       "    <tr style=\"text-align: right;\">\n",
       "      <th></th>\n",
       "      <th>NewRoute</th>\n",
       "      <th>Review</th>\n",
       "    </tr>\n",
       "  </thead>\n",
       "  <tbody>\n",
       "    <tr>\n",
       "      <th>47290</th>\n",
       "      <td>To Sydney from Heathrow</td>\n",
       "      <td>Flew out to Sydney from Heathrow on the 14th M...</td>\n",
       "    </tr>\n",
       "    <tr>\n",
       "      <th>49598</th>\n",
       "      <td>From King Shaka to O.R Tambo</td>\n",
       "      <td>Staff were semi friendly but not respectful to...</td>\n",
       "    </tr>\n",
       "    <tr>\n",
       "      <th>66396</th>\n",
       "      <td>Metro Airport from Boston Logan</td>\n",
       "      <td>On a flight back to Detroit Metro Airport from...</td>\n",
       "    </tr>\n",
       "    <tr>\n",
       "      <th>82707</th>\n",
       "      <td>Manila from Brisbane</td>\n",
       "      <td>Flight to Manila from Brisbane 07/12/2017, onl...</td>\n",
       "    </tr>\n",
       "    <tr>\n",
       "      <th>88497</th>\n",
       "      <td>from Rome (CIA) to Stansted (London)</td>\n",
       "      <td>On November 7th I flew Ryanair from Rome (CIA)...</td>\n",
       "    </tr>\n",
       "  </tbody>\n",
       "</table>\n",
       "</div>"
      ],
      "text/plain": [
       "                                   NewRoute  \\\n",
       "47290               To Sydney from Heathrow   \n",
       "49598          From King Shaka to O.R Tambo   \n",
       "66396       Metro Airport from Boston Logan   \n",
       "82707                  Manila from Brisbane   \n",
       "88497  from Rome (CIA) to Stansted (London)   \n",
       "\n",
       "                                                  Review  \n",
       "47290  Flew out to Sydney from Heathrow on the 14th M...  \n",
       "49598  Staff were semi friendly but not respectful to...  \n",
       "66396  On a flight back to Detroit Metro Airport from...  \n",
       "82707  Flight to Manila from Brisbane 07/12/2017, onl...  \n",
       "88497  On November 7th I flew Ryanair from Rome (CIA)...  "
      ]
     },
     "execution_count": 43,
     "metadata": {},
     "output_type": "execute_result"
    }
   ],
   "source": [
    "dataset_correct_to.loc[dataset_correct_to['NewRoute'].str.contains('from', case=False), ['NewRoute', 'Review']]"
   ]
  },
  {
   "cell_type": "code",
   "execution_count": 44,
   "metadata": {},
   "outputs": [
    {
     "data": {
      "text/html": [
       "<div>\n",
       "<style scoped>\n",
       "    .dataframe tbody tr th:only-of-type {\n",
       "        vertical-align: middle;\n",
       "    }\n",
       "\n",
       "    .dataframe tbody tr th {\n",
       "        vertical-align: top;\n",
       "    }\n",
       "\n",
       "    .dataframe thead th {\n",
       "        text-align: right;\n",
       "    }\n",
       "</style>\n",
       "<table border=\"1\" class=\"dataframe\">\n",
       "  <thead>\n",
       "    <tr style=\"text-align: right;\">\n",
       "      <th></th>\n",
       "      <th>NewRoute</th>\n",
       "      <th>Review</th>\n",
       "    </tr>\n",
       "  </thead>\n",
       "  <tbody>\n",
       "    <tr>\n",
       "      <th>49598</th>\n",
       "      <td>From King Shaka to O.R Tambo</td>\n",
       "      <td>Staff were semi friendly but not respectful to...</td>\n",
       "    </tr>\n",
       "    <tr>\n",
       "      <th>88497</th>\n",
       "      <td>from Rome (CIA) to Stansted (London)</td>\n",
       "      <td>On November 7th I flew Ryanair from Rome (CIA)...</td>\n",
       "    </tr>\n",
       "  </tbody>\n",
       "</table>\n",
       "</div>"
      ],
      "text/plain": [
       "                                   NewRoute  \\\n",
       "49598          From King Shaka to O.R Tambo   \n",
       "88497  from Rome (CIA) to Stansted (London)   \n",
       "\n",
       "                                                  Review  \n",
       "49598  Staff were semi friendly but not respectful to...  \n",
       "88497  On November 7th I flew Ryanair from Rome (CIA)...  "
      ]
     },
     "execution_count": 44,
     "metadata": {},
     "output_type": "execute_result"
    }
   ],
   "source": [
    "# Index of Routes in the form \"From X to Y\"\n",
    "from_to = dataset_correct_to.index[dataset_correct_to['NewRoute'].str.match('from ', case=False)]\n",
    "dataset_correct_to.loc[from_to, ['NewRoute', 'Review']]"
   ]
  },
  {
   "cell_type": "code",
   "execution_count": 45,
   "metadata": {},
   "outputs": [
    {
     "data": {
      "text/plain": [
       "49598            King Shaka to O.R Tambo\n",
       "88497    Rome (CIA) to Stansted (London)\n",
       "Name: NewRoute, dtype: object"
      ]
     },
     "execution_count": 45,
     "metadata": {},
     "output_type": "execute_result"
    }
   ],
   "source": [
    "dataset_correct_to.loc[from_to, 'NewRoute'] = dataset_correct_to.loc[from_to, 'NewRoute'].replace('[Ff]rom ', '', regex=True)\n",
    "dataset_correct_to.loc[from_to, 'NewRoute']"
   ]
  },
  {
   "cell_type": "code",
   "execution_count": 46,
   "metadata": {},
   "outputs": [
    {
     "data": {
      "text/plain": [
       "47290    To Sydney from Heathrow\n",
       "Name: NewRoute, dtype: object"
      ]
     },
     "execution_count": 46,
     "metadata": {},
     "output_type": "execute_result"
    }
   ],
   "source": [
    "# Index of Routes in the form \"To Y from X\"\n",
    "to_from = dataset_correct_to.index[dataset_correct_to['NewRoute'].str.match('to .+ from', case=False)]\n",
    "dataset_correct_to.loc[to_from, 'NewRoute']"
   ]
  },
  {
   "cell_type": "markdown",
   "metadata": {},
   "source": [
    "Let's split them at \" from \" to get the place names and insert it back."
   ]
  },
  {
   "cell_type": "code",
   "execution_count": 47,
   "metadata": {},
   "outputs": [
    {
     "data": {
      "text/plain": [
       "47290    [To Sydney, Heathrow]\n",
       "Name: NewRoute, dtype: object"
      ]
     },
     "execution_count": 47,
     "metadata": {},
     "output_type": "execute_result"
    }
   ],
   "source": [
    "to_from_split = dataset_correct_to.loc[to_from, 'NewRoute'].str.split(' [Ff]rom ', regex=True)\n",
    "to_from_split"
   ]
  },
  {
   "cell_type": "code",
   "execution_count": 48,
   "metadata": {},
   "outputs": [
    {
     "data": {
      "text/plain": [
       "47290    Heathrow To Sydney\n",
       "Name: NewRoute, dtype: object"
      ]
     },
     "execution_count": 48,
     "metadata": {},
     "output_type": "execute_result"
    }
   ],
   "source": [
    "to_from_route = (to_from_split.str[1] + \" \").str.cat(to_from_split.str[0])\n",
    "to_from_route"
   ]
  },
  {
   "cell_type": "code",
   "execution_count": 49,
   "metadata": {},
   "outputs": [
    {
     "data": {
      "text/html": [
       "<div>\n",
       "<style scoped>\n",
       "    .dataframe tbody tr th:only-of-type {\n",
       "        vertical-align: middle;\n",
       "    }\n",
       "\n",
       "    .dataframe tbody tr th {\n",
       "        vertical-align: top;\n",
       "    }\n",
       "\n",
       "    .dataframe thead th {\n",
       "        text-align: right;\n",
       "    }\n",
       "</style>\n",
       "<table border=\"1\" class=\"dataframe\">\n",
       "  <thead>\n",
       "    <tr style=\"text-align: right;\">\n",
       "      <th></th>\n",
       "      <th>AirlineName</th>\n",
       "      <th>Review</th>\n",
       "      <th>NewRoute</th>\n",
       "    </tr>\n",
       "  </thead>\n",
       "  <tbody>\n",
       "    <tr>\n",
       "      <th>47290</th>\n",
       "      <td>Etihad Airways</td>\n",
       "      <td>Flew out to Sydney from Heathrow on the 14th M...</td>\n",
       "      <td>Heathrow To Sydney</td>\n",
       "    </tr>\n",
       "  </tbody>\n",
       "</table>\n",
       "</div>"
      ],
      "text/plain": [
       "          AirlineName                                             Review  \\\n",
       "47290  Etihad Airways  Flew out to Sydney from Heathrow on the 14th M...   \n",
       "\n",
       "                 NewRoute  \n",
       "47290  Heathrow To Sydney  "
      ]
     },
     "execution_count": 49,
     "metadata": {},
     "output_type": "execute_result"
    }
   ],
   "source": [
    "dataset_correct_to.loc[to_from, 'NewRoute'] = to_from_route\n",
    "dataset_correct_to.loc[to_from, ['AirlineName', 'Review', 'NewRoute']]"
   ]
  },
  {
   "cell_type": "markdown",
   "metadata": {},
   "source": [
    "Finally, let's look at the ones with just \"from\" in the middle."
   ]
  },
  {
   "cell_type": "code",
   "execution_count": 50,
   "metadata": {},
   "outputs": [
    {
     "data": {
      "text/plain": [
       "66396    Metro Airport from Boston Logan\n",
       "82707               Manila from Brisbane\n",
       "Name: NewRoute, dtype: object"
      ]
     },
     "execution_count": 50,
     "metadata": {},
     "output_type": "execute_result"
    }
   ],
   "source": [
    "# Index of Routes in the form \"Y from X\"\n",
    "only_from = dataset_correct_to.index[dataset_correct_to['NewRoute'].str.contains(' from ', case=False)]\n",
    "dataset_correct_to.loc[only_from, 'NewRoute']"
   ]
  },
  {
   "cell_type": "code",
   "execution_count": 51,
   "metadata": {},
   "outputs": [
    {
     "data": {
      "text/plain": [
       "66396    [Metro Airport, Boston Logan]\n",
       "82707               [Manila, Brisbane]\n",
       "Name: NewRoute, dtype: object"
      ]
     },
     "execution_count": 51,
     "metadata": {},
     "output_type": "execute_result"
    }
   ],
   "source": [
    "only_from_split = dataset_correct_to.loc[only_from, 'NewRoute'].str.split(' [Ff]rom ', regex=True)\n",
    "only_from_split"
   ]
  },
  {
   "cell_type": "markdown",
   "metadata": {},
   "source": [
    "We do a similar thing from above and concatenate these to be \"X to Y\". Note that as before, the origin is the second entry."
   ]
  },
  {
   "cell_type": "code",
   "execution_count": 52,
   "metadata": {},
   "outputs": [
    {
     "data": {
      "text/plain": [
       "66396    Boston Logan to Metro Airport\n",
       "82707               Brisbane to Manila\n",
       "Name: NewRoute, dtype: object"
      ]
     },
     "metadata": {},
     "output_type": "display_data"
    },
    {
     "name": "stdout",
     "output_type": "stream",
     "text": [
      "Before\n"
     ]
    },
    {
     "data": {
      "text/html": [
       "<div>\n",
       "<style scoped>\n",
       "    .dataframe tbody tr th:only-of-type {\n",
       "        vertical-align: middle;\n",
       "    }\n",
       "\n",
       "    .dataframe tbody tr th {\n",
       "        vertical-align: top;\n",
       "    }\n",
       "\n",
       "    .dataframe thead th {\n",
       "        text-align: right;\n",
       "    }\n",
       "</style>\n",
       "<table border=\"1\" class=\"dataframe\">\n",
       "  <thead>\n",
       "    <tr style=\"text-align: right;\">\n",
       "      <th></th>\n",
       "      <th>AirlineName</th>\n",
       "      <th>Review</th>\n",
       "      <th>NewRoute</th>\n",
       "    </tr>\n",
       "  </thead>\n",
       "  <tbody>\n",
       "    <tr>\n",
       "      <th>66396</th>\n",
       "      <td>Jetblue Airways</td>\n",
       "      <td>On a flight back to Detroit Metro Airport from...</td>\n",
       "      <td>Metro Airport from Boston Logan</td>\n",
       "    </tr>\n",
       "    <tr>\n",
       "      <th>82707</th>\n",
       "      <td>Philippine Airlines</td>\n",
       "      <td>Flight to Manila from Brisbane 07/12/2017, onl...</td>\n",
       "      <td>Manila from Brisbane</td>\n",
       "    </tr>\n",
       "  </tbody>\n",
       "</table>\n",
       "</div>"
      ],
      "text/plain": [
       "               AirlineName                                             Review  \\\n",
       "66396      Jetblue Airways  On a flight back to Detroit Metro Airport from...   \n",
       "82707  Philippine Airlines  Flight to Manila from Brisbane 07/12/2017, onl...   \n",
       "\n",
       "                              NewRoute  \n",
       "66396  Metro Airport from Boston Logan  \n",
       "82707             Manila from Brisbane  "
      ]
     },
     "metadata": {},
     "output_type": "display_data"
    },
    {
     "name": "stdout",
     "output_type": "stream",
     "text": [
      "After\n"
     ]
    },
    {
     "data": {
      "text/html": [
       "<div>\n",
       "<style scoped>\n",
       "    .dataframe tbody tr th:only-of-type {\n",
       "        vertical-align: middle;\n",
       "    }\n",
       "\n",
       "    .dataframe tbody tr th {\n",
       "        vertical-align: top;\n",
       "    }\n",
       "\n",
       "    .dataframe thead th {\n",
       "        text-align: right;\n",
       "    }\n",
       "</style>\n",
       "<table border=\"1\" class=\"dataframe\">\n",
       "  <thead>\n",
       "    <tr style=\"text-align: right;\">\n",
       "      <th></th>\n",
       "      <th>AirlineName</th>\n",
       "      <th>Review</th>\n",
       "      <th>NewRoute</th>\n",
       "    </tr>\n",
       "  </thead>\n",
       "  <tbody>\n",
       "    <tr>\n",
       "      <th>66396</th>\n",
       "      <td>Jetblue Airways</td>\n",
       "      <td>On a flight back to Detroit Metro Airport from...</td>\n",
       "      <td>Boston Logan to Metro Airport</td>\n",
       "    </tr>\n",
       "    <tr>\n",
       "      <th>82707</th>\n",
       "      <td>Philippine Airlines</td>\n",
       "      <td>Flight to Manila from Brisbane 07/12/2017, onl...</td>\n",
       "      <td>Brisbane to Manila</td>\n",
       "    </tr>\n",
       "  </tbody>\n",
       "</table>\n",
       "</div>"
      ],
      "text/plain": [
       "               AirlineName                                             Review  \\\n",
       "66396      Jetblue Airways  On a flight back to Detroit Metro Airport from...   \n",
       "82707  Philippine Airlines  Flight to Manila from Brisbane 07/12/2017, onl...   \n",
       "\n",
       "                            NewRoute  \n",
       "66396  Boston Logan to Metro Airport  \n",
       "82707             Brisbane to Manila  "
      ]
     },
     "metadata": {},
     "output_type": "display_data"
    }
   ],
   "source": [
    "only_from_route = (only_from_split.str[1] + \" to \").str.cat(only_from_split.str[0])\n",
    "display(only_from_route)\n",
    "\n",
    "print(\"Before\")\n",
    "display(dataset_correct_to.loc[only_from, ['AirlineName', 'Review', 'NewRoute']])\n",
    "\n",
    "dataset_correct_to.loc[only_from, 'NewRoute'] = only_from_route\n",
    "print(\"After\")\n",
    "display(dataset_correct_to.loc[only_from, ['AirlineName', 'Review', 'NewRoute']])"
   ]
  },
  {
   "cell_type": "markdown",
   "metadata": {},
   "source": [
    "Check if there are any more \"from\" in `NewRoute`."
   ]
  },
  {
   "cell_type": "code",
   "execution_count": 53,
   "metadata": {},
   "outputs": [
    {
     "data": {
      "text/plain": [
       "False"
      ]
     },
     "execution_count": 53,
     "metadata": {},
     "output_type": "execute_result"
    }
   ],
   "source": [
    "dataset_correct_to['NewRoute'].str.contains('from').any()"
   ]
  },
  {
   "cell_type": "markdown",
   "metadata": {},
   "source": [
    "We're done with the `\"from\"`."
   ]
  },
  {
   "cell_type": "markdown",
   "metadata": {},
   "source": [
    "### Look for `\" - \"` variants and examine if they should be changed to `\" to \"`\n",
    "\n",
    "Several entries use ` - ` instead of ` to `, but some could be part of place names."
   ]
  },
  {
   "cell_type": "code",
   "execution_count": 54,
   "metadata": {},
   "outputs": [
    {
     "data": {
      "text/plain": [
       "8048      Sault Ste. Marie, Canada - Toronto - Frankfurt...\n",
       "12196                     Toronto - YYZ to Manchester - MAN\n",
       "17649                                Bandung - Kuala Lumpur\n",
       "19089                        Destin - Fort Walton to Boston\n",
       "23156                         Fargo to New York - LaGuardia\n",
       "24966                                 Charlotte - Frankfurt\n",
       "25023                   Dallas Fort Worth - London Heathrow\n",
       "27255                                             REC - VCP\n",
       "29879                                      Lyons - Brussels\n",
       "33094                                      LHR - EDI to LHR\n",
       "34810                                      Legazpi - Manila\n",
       "61446                                   Da Nang - Hong Kong\n",
       "69576                                  Sydney to - New York\n",
       "71384                       Bogotá to São Paulo - Guarulhos\n",
       "76518                                   Los Angeles - Delhi\n",
       "89127                            Melbourne - Dubai - London\n",
       "92364                              London Gatwick - Bangkok\n",
       "94873                            Jakarta to TMC - Tambolaka\n",
       "99132                  New York - La Guardia to Orlando MCO\n",
       "109439                                   Manchester - Crete\n",
       "113443                                   Dublin - Charlotte\n",
       "115677                            London Heathrow - Seattle\n",
       "115791                   London Heathrow - Ho Chi Minh City\n",
       "Name: NewRoute, dtype: object"
      ]
     },
     "execution_count": 54,
     "metadata": {},
     "output_type": "execute_result"
    }
   ],
   "source": [
    "dataset_correct_to.loc[(dataset_correct_to['NewRoute'].str.contains(' - ')), 'NewRoute']"
   ]
  },
  {
   "cell_type": "code",
   "execution_count": 55,
   "metadata": {},
   "outputs": [],
   "source": [
    "# Index of all the above except for the ones that don't mean \"to\"\n",
    "dash_edit = dataset_correct_to.index[(dataset_correct_to['NewRoute'].str.contains(' - '))].drop([12196, 19089, 23156, 99132])"
   ]
  },
  {
   "cell_type": "code",
   "execution_count": 56,
   "metadata": {},
   "outputs": [
    {
     "data": {
      "text/plain": [
       "8048      Sault Ste. Marie, Canada to Toronto to Frankfu...\n",
       "17649                               Bandung to Kuala Lumpur\n",
       "24966                                Charlotte to Frankfurt\n",
       "25023                  Dallas Fort Worth to London Heathrow\n",
       "27255                                            REC to VCP\n",
       "29879                                     Lyons to Brussels\n",
       "33094                                     LHR to EDI to LHR\n",
       "34810                                     Legazpi to Manila\n",
       "61446                                  Da Nang to Hong Kong\n",
       "69576                                 Sydney to to New York\n",
       "71384                      Bogotá to São Paulo to Guarulhos\n",
       "76518                                  Los Angeles to Delhi\n",
       "89127                          Melbourne to Dubai to London\n",
       "92364                             London Gatwick to Bangkok\n",
       "94873                           Jakarta to TMC to Tambolaka\n",
       "109439                                  Manchester to Crete\n",
       "113443                                  Dublin to Charlotte\n",
       "115677                           London Heathrow to Seattle\n",
       "115791                  London Heathrow to Ho Chi Minh City\n",
       "Name: NewRoute, dtype: object"
      ]
     },
     "execution_count": 56,
     "metadata": {},
     "output_type": "execute_result"
    }
   ],
   "source": [
    "dataset_correct_to.loc[dash_edit, 'NewRoute'] = dataset_correct_to.loc[dash_edit, 'NewRoute'].replace(to_replace=' - ', value=' to ', regex=True)\n",
    "dataset_correct_to.loc[dash_edit, 'NewRoute']"
   ]
  },
  {
   "cell_type": "code",
   "execution_count": 57,
   "metadata": {},
   "outputs": [
    {
     "data": {
      "text/plain": [
       "8043      YWG-LHR\n",
       "8979      KIV-LIS\n",
       "15531     GRR-ORD\n",
       "17245     SYD-LAX\n",
       "18244     HKG-HKT\n",
       "29855     BRU-CPH\n",
       "33182     YVR-LIS\n",
       "33542     MAN-LHR\n",
       "33554     LHR-BOM\n",
       "33626     LHR-DEN\n",
       "33627     ORD-LHR\n",
       "33628     LHR-GLA\n",
       "33629     GLA-LHR\n",
       "36505     FRA-WDH\n",
       "36506     WDH-FRA\n",
       "39846     CAN-CGO\n",
       "45846     MAN-GOI\n",
       "48367     AMS-BKK\n",
       "48606     LAX-DMM\n",
       "67973     SEA-ORF\n",
       "68230     DCA-NRT\n",
       "76894     MRS-KIX\n",
       "79391     SIN-KUL\n",
       "79447     LHR-KUL\n",
       "88660     SYD-AKL\n",
       "88723     SYD-LHR\n",
       "91271     SIN-LHR\n",
       "91274     LHR-SIN\n",
       "102778    ORD-MSP\n",
       "104962    HUX-YEG\n",
       "121625    YYC-LAS\n",
       "123876    LAX-FRA\n",
       "126523    DEN-GRR\n",
       "129105    VNO-FMM\n",
       "Name: NewRoute, dtype: object"
      ]
     },
     "execution_count": 57,
     "metadata": {},
     "output_type": "execute_result"
    }
   ],
   "source": [
    "dataset_correct_to.loc[(dataset_correct_to['NewRoute'].str.fullmatch('.{3}-.{3}')), 'NewRoute']"
   ]
  },
  {
   "cell_type": "markdown",
   "metadata": {},
   "source": [
    "All of the `\"-\"` above mean `\" to \"`, so they will all be changed to `\" to \"`."
   ]
  },
  {
   "cell_type": "code",
   "execution_count": 58,
   "metadata": {},
   "outputs": [
    {
     "data": {
      "text/plain": [
       "8043      YWG to LHR\n",
       "8979      KIV to LIS\n",
       "15531     GRR to ORD\n",
       "17245     SYD to LAX\n",
       "18244     HKG to HKT\n",
       "29855     BRU to CPH\n",
       "33182     YVR to LIS\n",
       "33542     MAN to LHR\n",
       "33554     LHR to BOM\n",
       "33626     LHR to DEN\n",
       "33627     ORD to LHR\n",
       "33628     LHR to GLA\n",
       "33629     GLA to LHR\n",
       "36505     FRA to WDH\n",
       "36506     WDH to FRA\n",
       "39846     CAN to CGO\n",
       "45846     MAN to GOI\n",
       "48367     AMS to BKK\n",
       "48606     LAX to DMM\n",
       "67973     SEA to ORF\n",
       "68230     DCA to NRT\n",
       "76894     MRS to KIX\n",
       "79391     SIN to KUL\n",
       "79447     LHR to KUL\n",
       "88660     SYD to AKL\n",
       "88723     SYD to LHR\n",
       "91271     SIN to LHR\n",
       "91274     LHR to SIN\n",
       "102778    ORD to MSP\n",
       "104962    HUX to YEG\n",
       "121625    YYC to LAS\n",
       "123876    LAX to FRA\n",
       "126523    DEN to GRR\n",
       "129105    VNO to FMM\n",
       "Name: NewRoute, dtype: object"
      ]
     },
     "execution_count": 58,
     "metadata": {},
     "output_type": "execute_result"
    }
   ],
   "source": [
    "dash_edit = dataset_correct_to.index[(dataset_correct_to['NewRoute'].str.fullmatch('.{3}-.{3}'))]\n",
    "dataset_correct_to.loc[dash_edit, 'NewRoute'] = dataset_correct_to.loc[dash_edit, 'NewRoute'].replace(to_replace='-', value=' to ', regex=True)\n",
    "dataset_correct_to.loc[dash_edit, 'NewRoute']"
   ]
  },
  {
   "cell_type": "code",
   "execution_count": 59,
   "metadata": {},
   "outputs": [
    {
     "data": {
      "text/plain": [
       "8054                  YUL-LHR-YYZ-MEX\n",
       "12256                  Toronto-Venice\n",
       "13803                     IAD-CDG-CAI\n",
       "19729                 Oakland-Seattle\n",
       "31854              Edinburgh-Florence\n",
       "35380                     SFO-PVG-SGN\n",
       "39803                        AKL-LHR \n",
       "47291     Tokyo-Abu Dhabi-Los Angeles\n",
       "51308              Bucharest-Brussels\n",
       "74651             CAI-AMS and AMS-IAD\n",
       "80511                     LGW-CPH-JFK\n",
       "91288                     MEL-DOH-BAH\n",
       "101738                 Detroit-Cancun\n",
       "107451                    GVA-ZRH-GRU\n",
       "117226                    HAN-HUI-HAN\n",
       "123992              Vienna-IST-Rostov\n",
       "126536                    TPA-IAD-LHR\n",
       "Name: NewRoute, dtype: object"
      ]
     },
     "execution_count": 59,
     "metadata": {},
     "output_type": "execute_result"
    }
   ],
   "source": [
    "# Route which contains a \"-\" but not a \" to \"\n",
    "dataset_correct_to.loc[(dataset_correct_to['NewRoute'].str.contains('-')) & (dataset_correct_to['NewRoute'].str.contains(' to ') == False), 'NewRoute']"
   ]
  },
  {
   "cell_type": "markdown",
   "metadata": {},
   "source": [
    "All of the `\"-\"` above mean `\" to \"`, so they will all be changed to `\" to \"`."
   ]
  },
  {
   "cell_type": "code",
   "execution_count": 60,
   "metadata": {},
   "outputs": [],
   "source": [
    "dash_edit = dataset_correct_to.index[(dataset_correct_to['NewRoute'].str.contains('-')) & (dataset_correct_to['NewRoute'].str.contains(' to ') == False)]"
   ]
  },
  {
   "cell_type": "code",
   "execution_count": 61,
   "metadata": {},
   "outputs": [
    {
     "data": {
      "text/plain": [
       "8054               YUL to LHR to YYZ to MEX\n",
       "12256                     Toronto to Venice\n",
       "13803                     IAD to CDG to CAI\n",
       "19729                    Oakland to Seattle\n",
       "31854                 Edinburgh to Florence\n",
       "35380                     SFO to PVG to SGN\n",
       "39803                           AKL to LHR \n",
       "47291     Tokyo to Abu Dhabi to Los Angeles\n",
       "51308                 Bucharest to Brussels\n",
       "74651             CAI to AMS and AMS to IAD\n",
       "80511                     LGW to CPH to JFK\n",
       "91288                     MEL to DOH to BAH\n",
       "101738                    Detroit to Cancun\n",
       "107451                    GVA to ZRH to GRU\n",
       "117226                    HAN to HUI to HAN\n",
       "123992              Vienna to IST to Rostov\n",
       "126536                    TPA to IAD to LHR\n",
       "Name: NewRoute, dtype: object"
      ]
     },
     "execution_count": 61,
     "metadata": {},
     "output_type": "execute_result"
    }
   ],
   "source": [
    "dataset_correct_to.loc[dash_edit, 'NewRoute'] = dataset_correct_to.loc[dash_edit, 'NewRoute'].replace(to_replace='-', value=' to ', regex=True)\n",
    "dataset_correct_to.loc[dash_edit, 'NewRoute']"
   ]
  },
  {
   "cell_type": "code",
   "execution_count": 62,
   "metadata": {},
   "outputs": [
    {
     "data": {
      "text/plain": [
       "['Ixtapa-Zihuatanejo to Mexico City',\n",
       " 'Point-à-pitre to Saint Martin',\n",
       " 'Point-a-Pietre to Melville Hall',\n",
       " 'St-Denis de La Reunion to Mauritius',\n",
       " 'Petropavlovsk-Kamchatsky to Moscow',\n",
       " 'Moscow to Nur-Sultan',\n",
       " 'Nur-Sultan to Seoul',\n",
       " 'London to Nur-Sultan',\n",
       " 'St-Petersburg to Istanbul',\n",
       " 'Paris to Fort-de-France',\n",
       " 'Saint-Petersburg to Aktobe',\n",
       " 'Pointe-à-Pitre to Paris-Orly',\n",
       " 'Pointe-à-Pitre to Paris Orly',\n",
       " 'Paris Orly to Pointe-à-Pitre',\n",
       " 'St Petersburg to Ust-Kamenogorsk',\n",
       " 'Saint-Petersburg to Rome',\n",
       " 'Petropavlovsk-Kamchatsky to Moscow',\n",
       " 'Dublin to Rome-Fiumicino',\n",
       " 'Veracruz to Mexico-City',\n",
       " 'Guadalajara to Chicago O-Hare',\n",
       " 'Mexico City to Seattle-Tacoma',\n",
       " 'Geneva to Tokyo-Narita',\n",
       " 'Coya-Coco to Montreal',\n",
       " 'Bangkok to Washington-Dulles',\n",
       " 'Lyon Saint-Exupéry to Dublin',\n",
       " 'Rouyn-Noranda to Johannesburg',\n",
       " 'Prince-George to Toronto',\n",
       " 'Montreal to Tokyo-Narita',\n",
       " 'Paris-Orly to São Paulo',\n",
       " 'Paris Orly to Pointe-à-Pitre',\n",
       " 'Paris Orly to Pointe-à-Pitre',\n",
       " 'Toronto - YYZ to Manchester - MAN',\n",
       " 'Paris-Orly to Cayenne',\n",
       " 'Point-a-Pitre to Marseille',\n",
       " 'New-York to Paris',\n",
       " 'Paris-CDG to Milan-LIN',\n",
       " 'St-Petersburg to Brussels',\n",
       " 'Perth to U-Tapao',\n",
       " 'Dallas Fort-Worth to Shreveport',\n",
       " 'Stewart-Newburgh to Toronto',\n",
       " 'Eilat to Tel Aviv-Yafo',\n",
       " 'Tokyo-Haneda to Sydney',\n",
       " 'Okayama to Tokyo-Haneda',\n",
       " 'Anchorage to Dallas Fort-Worth',\n",
       " 'Washington-Dulles to Narita',\n",
       " 'Idaho falls to Phoenix-Mesa',\n",
       " 'Rome-Fiumicino to Milan-Linate',\n",
       " 'Phoenix to Tri-Cities',\n",
       " 'Kauai-Lihue to Seattle',\n",
       " 'Orlando to Tri-Cities',\n",
       " 'Phoenix-Mesa Gateway to South Bend',\n",
       " 'Burlington to St. Pete-Clearwater',\n",
       " 'Destin - Fort Walton to Boston',\n",
       " 'Provo to Phoenix-Mesa',\n",
       " 'Mid-America to St. Petersburg/Clearwater',\n",
       " 'New Orleans to Raleigh-Durham',\n",
       " 'Sanford /Orlando to Raleigh-Durham',\n",
       " 'Indianapolis to St. Pete-Clearwater',\n",
       " 'Springfield to Destin-Fort Walton Beach',\n",
       " 'Santa Ana to Dallas Fort-Worth',\n",
       " 'Baltimore-Washington to Asheville',\n",
       " 'Wilkes-Barre to St. Petersburg',\n",
       " 'Sacramento to Dallas Fort-Worth',\n",
       " 'Wilkes-Barre to Charlotte',\n",
       " 'Dallas Fort-Worth to Omaha',\n",
       " 'Dallas Fort-Worth to Columbus',\n",
       " 'Honolulu to Dallas Fort-Worth',\n",
       " 'Phoenix-Mesa Gateway to Wichita, KS',\n",
       " 'Asheville NC to St Pete-Clearwater',\n",
       " 'Tokyo to Dallas Fort-Worth',\n",
       " 'Honolulu to Dallas Fort-Worth',\n",
       " 'Dallas Fort-Worth to Barcelona',\n",
       " 'Wilkes-Barre/Scranton to Cancun',\n",
       " 'Dallas Fort-Worth to Miami',\n",
       " 'Ontario to Dallas Fort-Worth',\n",
       " 'Cancun to Dallas Fort-Worth',\n",
       " 'Chicago to Wilkes-Barre/Scranton',\n",
       " 'Portland to Dallas Fort-Worth',\n",
       " 'Dallas Fort-Worth to Costa Rica',\n",
       " 'Dallas Fort-Worth to Fort Walton Beach',\n",
       " 'Dallas Fort-Worth to Hartford',\n",
       " 'Phoenix to Dallas Fort-Worth',\n",
       " 'Pensacola to Dallas Fort-Worth',\n",
       " 'New Orleans to Dallas Fort-Worth',\n",
       " 'Boston to Dallas Fort-Worth',\n",
       " 'Raleigh-Durham to Oklahoma City',\n",
       " 'Los Angeles to Dallas Fort-Worth',\n",
       " 'Cancun to Dallas Fort-Worth',\n",
       " 'Cincinnati to Dallas Fort-Worth',\n",
       " 'Fargo to New York - LaGuardia',\n",
       " 'Shreveport to Dallas-Fort Worth',\n",
       " 'Columbus to Dallas Fort-Worth',\n",
       " 'Dallas-Fort Worth to Seattle',\n",
       " 'London Heathrow to Dallas Fort-Worth',\n",
       " 'Destin-Fort Walton to Charlotte',\n",
       " 'Omaha to Dallas Fort-Worth',\n",
       " 'Seattle to Wilkes-Barre',\n",
       " 'New York JFK to Port-au-Prince',\n",
       " 'Sacramento to Scranton Wilkes-Barre',\n",
       " 'Manado to Jakarta Soekarno-Hatta',\n",
       " 'Medina-MED to Dhaka-DAC',\n",
       " 'Cluj-Napoca to Barcelona',\n",
       " 'Cluj-Napoca to Bucharest',\n",
       " 'Lisbon to Cluj-Napoca',\n",
       " 'Atlanta to Dallas Fort-Worth',\n",
       " 'Cluj-Napoca to Dublin',\n",
       " 'Tel Aviv-Yafo to Vienna',\n",
       " 'Cluj-Napoca to Birmingham',\n",
       " 'Cluj-Napoca to Bucharest',\n",
       " 'U-Tapao to Koh Samui',\n",
       " 'Dallas Fort-Worth to Toulouse',\n",
       " 'Warsaw to London-Heathrow',\n",
       " 'London-Heathrow to Warsaw',\n",
       " 'Yogyakarta Kulon Progo to Jakarta Soekarno-Hatta',\n",
       " 'Kunming to Shangri-La',\n",
       " 'Sint Maarten to Pointe-à-Pitre',\n",
       " 'Paris Orly to Pointe-à-Pitre',\n",
       " 'Paris Orly to Pointe-à-Pitre',\n",
       " 'Paris Orly to Pointe-à-Pitre / Martinique',\n",
       " 'Paris-CDG to Prague',\n",
       " 'Moscow to Tel-Aviv',\n",
       " 'Nairobi to Tel-Aviv.',\n",
       " 'Moscow to Abu-dhabi',\n",
       " 'Saint-Petersburg to Denpasar',\n",
       " 'Stansted to Cologne-Bonn',\n",
       " 'Düsseldorf to Berlin-Tegel',\n",
       " 'Abu-Dhabi to Manchester',\n",
       " 'Helsinki-Vantaa to Jyväskylä',\n",
       " 'Saint-Petersburg to Zurich',\n",
       " 'Halifax to Kitchener-Waterloo',\n",
       " 'Vienna to Kemi-Tornio',\n",
       " 'Halifax to Kitchener-Waterloo',\n",
       " 'Nur-Sultan to Almaty',\n",
       " 'Dubai to U-tapao',\n",
       " 'Nur-Sultan to Bucharest',\n",
       " 'Tel-Aviv to Tbilisi',\n",
       " 'Paris-Orly to Newark',\n",
       " 'Berlin-Tegel to London Heathrow',\n",
       " 'Heho to Nyaung-U',\n",
       " 'Jakarta Soekarno-Hatta to Manado',\n",
       " 'Denpasar-Bali to Perth',\n",
       " 'Denpasar-Bali to London',\n",
       " 'Denpasar-Bali to Jakarta',\n",
       " 'Dallas Fort-Worth to Tel Aviv',\n",
       " 'Raleigh-Durham to Philadelphia',\n",
       " 'Sydney to Tel-Aviv',\n",
       " 'Cancun to Dallas Fort-Worth',\n",
       " 'Las Vegas to Dallas Fort-Worth',\n",
       " 'Las Vegas to Dallas Fort-Worth',\n",
       " 'Orlando to Dallas Fort-Worth',\n",
       " 'Dallas Fort-Worth to Las Vegas',\n",
       " 'Bangkok-Suvarnabhumi (BKK) to Vancouver (YVR)',\n",
       " 'Dallas Fort-Worth to Las Vegas',\n",
       " 'Seattle to Saint-Louis',\n",
       " 'Philadelphia to Dallas Fort-Worth',\n",
       " 'Miami to New York-LGA',\n",
       " 'Austin-Bergstrom to Philadelphia',\n",
       " 'Trenton-Mercer to Detroit',\n",
       " 'Raleigh-Durham to Denver',\n",
       " 'Washington-Dulles to Orlando International',\n",
       " 'LHR-KEF-BOS to BOS-KEF-LHR',\n",
       " 'New York JFK to Tokyo-Haneda',\n",
       " 'Hanoi to Ho Chi-Minh',\n",
       " 'Nairobi to Dar-Es-Salam',\n",
       " 'Fort Lauderdale to Raleigh-Durham',\n",
       " 'New York to Port-au-Prince',\n",
       " 'Brisbane to Denpasar-Bali',\n",
       " 'Mombasa to Dar-es-Salam',\n",
       " 'New York-JFK to San Jose',\n",
       " 'Brussels to New-York',\n",
       " 'Adelaide to Melbourne-Avalon',\n",
       " 'Los Angeles to Kailua-Kona',\n",
       " 'Minneapolis to Hartford-Bradley',\n",
       " 'Salt Lake City to Raleigh-Durham',\n",
       " 'Santo Domingo to Fort-Lauderdale',\n",
       " 'Greenville-Spartanburg to San Antonio',\n",
       " 'Raleigh-Durham to Boston',\n",
       " 'Orlando to New York-JFK',\n",
       " 'Washington-Reagan to Boston',\n",
       " 'Raleigh-Durham to Las Vegas',\n",
       " 'Nashville to Minneapolis-Saint Paul',\n",
       " 'Orlando to Wilkes-Barre',\n",
       " 'Tampa to Raleigh-Durham',\n",
       " 'Raleigh-Durham to LaGuardia',\n",
       " 'Clermont-Ferrand to Newark',\n",
       " 'Barcelona to New-york',\n",
       " 'Honolulu to Seoul-Incheon',\n",
       " 'Santiago-Chile to New York',\n",
       " 'London to Saint-Petersburg',\n",
       " 'Guarulhos to Gothenburg-Landvetter',\n",
       " 'Amsterdam to Minneapolis-St. Paul',\n",
       " 'Cluj-Napoca to Miami',\n",
       " 'Johannesburg to Dallas-Fort Worth',\n",
       " 'Munich to Tel Aviv-Yafo',\n",
       " 'Bucharest to Nur-Sultan',\n",
       " 'Berlin-Tegel to Munich',\n",
       " 'Toulouse to New-York',\n",
       " 'Berlin-Tegel to Frankfurt',\n",
       " 'Berlin-TXL to Frankfurt',\n",
       " 'New-York to Paris',\n",
       " 'Paris CDG to Tunis-Carthage',\n",
       " 'Yokota to Seattle-Tacoma',\n",
       " 'Oslo to Longyearbyen-Svalbard',\n",
       " 'Oslo to New York-JFK',\n",
       " 'Sharm el-Sheikh to Cairo',\n",
       " 'Moscow to Sharm el-Sheikh',\n",
       " 'Barcelona to Sharm el-Sheik',\n",
       " 'Moscow to Baden-Baden',\n",
       " 'St. Petersburg to Rostov-on-Don',\n",
       " 'Mont-Tremblant to Toronto',\n",
       " 'Moscow (DME) to Ulan-Ude',\n",
       " 'Denpasar-Bali to Brisbane',\n",
       " 'Brisbane to Denpasar-Bali',\n",
       " 'Tel-Aviv to Berlin',\n",
       " 'Tel Aviv-Yafo to Paphos',\n",
       " 'Rome-Ciampino to Dublin',\n",
       " 'Manchester to Rome-Ciampino',\n",
       " 'Dublin to Cluj-Napoca',\n",
       " 'London Stansted to Stockholm-Skavsta',\n",
       " 'Cologne to Berlin-Schonefeld',\n",
       " 'Alicante to Newcastle-upon-Tyne',\n",
       " 'Cologne-Bonn to Berlin',\n",
       " 'Frankfurt-Hahn to Fuerteventura',\n",
       " 'Frankfurt-Hahn to Rome Ciampino',\n",
       " 'Ust-Kamenogorsk to Karaganda',\n",
       " 'STT- Downtown to STX Downtown',\n",
       " 'Tri-Cities to Tampa',\n",
       " 'Siborong-Borong to Jakarta',\n",
       " 'Dallas Fort-Worth to Miami',\n",
       " 'Dallas Fort-Worth to Cozumel',\n",
       " 'Ixtapa-Zihuatanejo to Minneapolis',\n",
       " 'Las Vegas to Dallas-Fort Worth',\n",
       " 'Nashville to Minneapolis St-Paul',\n",
       " 'Juan Santamaria to Baltimore-Washington',\n",
       " 'Dallas Fort-Worth to Las Vegas',\n",
       " 'Dallas Fort-Worth to Las Vegas',\n",
       " 'Reno-Tahoe to Las vegas',\n",
       " 'Las Vegas to Dallas Fort-Worth',\n",
       " 'Boston to Fort-Lauderdale',\n",
       " 'Detroit to Dallas Fort-Worth',\n",
       " 'Indianapolis to Chicago-Midway',\n",
       " 'Las Vegas to Dallas Fort-Worth',\n",
       " 'Los Angeles to Dallas Fort-Worth',\n",
       " 'New York - La Guardia to Orlando MCO',\n",
       " 'Miami to Dallas Fort-Worth',\n",
       " 'DAY-TPA to TPA-DAY',\n",
       " 'Dallas Fort-Worth to Tampa',\n",
       " 'Las Vegas to Dallas Fort-Worth',\n",
       " 'Cancun to Dallas Fort-Worth',\n",
       " 'Dallas Fort-Worth to Panama City',\n",
       " 'Akron-Canton to Fort Myers',\n",
       " 'Dallas-Fort Worth to Atlanta',\n",
       " 'Dallas-Fort Worth to Detroit Metro',\n",
       " 'Orlando to Dallas Fort-Worth',\n",
       " 'Baltimore to Dallas-Fort Worth',\n",
       " 'Paramaribo to Port-of-Spain',\n",
       " 'Montreal to Puerto-Plata',\n",
       " 'Brussel to Saint-Petersburg',\n",
       " 'Amsterdam to Cluj-Napoca',\n",
       " 'Bucharest to Cluj-Napoca',\n",
       " 'Athens to Cluj-Napoca',\n",
       " 'Tel-Aviv to Paris',\n",
       " 'Rotterdam-The Hague to Girona',\n",
       " 'Sochi to Moscow-Domodedovo',\n",
       " 'Ulan-Ude to Moscow',\n",
       " 'Dallas Fort-Worth to Naples',\n",
       " 'İstanbul to Tel Aviv-Yafo',\n",
       " 'Calgary to London-Gatwick',\n",
       " 'Kathmandu to Dallas Fort-Worth',\n",
       " 'Istanbul to Dallas Fort-Worth',\n",
       " 'Tel-Aviv to Newark',\n",
       " 'Cluj-Napoca to Lisbon',\n",
       " 'Dublin to Nur-Sultan',\n",
       " 'Raleigh-Durham to Seattle',\n",
       " 'Moscow-Vnukovo to Berlin-Bradenburg',\n",
       " 'Istanbul to Basel-Mulhouse',\n",
       " 'Kathmandu to Cluj-Napoca',\n",
       " 'Minneapolis to Wilkes-Barre/Scranton',\n",
       " 'Winnipeg to New York-LGA',\n",
       " 'Lisbon to Sharm el-Sheikh',\n",
       " 'Cluj-Napoca to New York',\n",
       " 'Boston to Tri-Cities',\n",
       " 'Los Angeles to Tokyo-Narita',\n",
       " 'New Orleans to David-Panama',\n",
       " 'Chicago to Tokyo-Narita',\n",
       " 'Guiyang to Kuala-Lumpur',\n",
       " 'Tel-Aviv to Chicago',\n",
       " 'Frankfurt-Hahn to Belgrade',\n",
       " 'Birmingham to Tel-Aviv',\n",
       " 'Frankfurt-Hahn to Sibiu',\n",
       " 'Cluj-Napoca to Berlin',\n",
       " 'Barcelona to Cluj-Napoca',\n",
       " 'Milan to Nur-Sultan',\n",
       " 'Luton to Moscow-Vnukovo',\n",
       " 'Luton to Cluj-Napoca',\n",
       " 'Cluj-napoca to Liverpool',\n",
       " 'Luton to Cluj-Napoca',\n",
       " 'Luton to Cluj-Napoca',\n",
       " 'Cluj-napoca to Treviso',\n",
       " 'Cluj-Napoca to Luton',\n",
       " 'Cluj-Napoca to Dortmund',\n",
       " 'Cluj-Napoca to Charleroi']"
      ]
     },
     "execution_count": 62,
     "metadata": {},
     "output_type": "execute_result"
    }
   ],
   "source": [
    "dataset_correct_to.loc[(dataset_correct_to['NewRoute'].str.contains('-')), 'NewRoute'].to_list()"
   ]
  },
  {
   "cell_type": "markdown",
   "metadata": {},
   "source": [
    "For the rest of the `Route` that contains `\"-\"`, they should be part of the name, so we're done with this part."
   ]
  },
  {
   "cell_type": "markdown",
   "metadata": {},
   "source": [
    "### Look for `\" and \"` and `\" & \"` and examine if they should be changed to `\" to \"`"
   ]
  },
  {
   "cell_type": "code",
   "execution_count": 63,
   "metadata": {},
   "outputs": [
    {
     "data": {
      "text/html": [
       "<div>\n",
       "<style scoped>\n",
       "    .dataframe tbody tr th:only-of-type {\n",
       "        vertical-align: middle;\n",
       "    }\n",
       "\n",
       "    .dataframe tbody tr th {\n",
       "        vertical-align: top;\n",
       "    }\n",
       "\n",
       "    .dataframe thead th {\n",
       "        text-align: right;\n",
       "    }\n",
       "</style>\n",
       "<table border=\"1\" class=\"dataframe\">\n",
       "  <thead>\n",
       "    <tr style=\"text-align: right;\">\n",
       "      <th></th>\n",
       "      <th>NewRoute</th>\n",
       "      <th>Review</th>\n",
       "    </tr>\n",
       "  </thead>\n",
       "  <tbody>\n",
       "    <tr>\n",
       "      <th>12342</th>\n",
       "      <td>Geneva and Paris CDG</td>\n",
       "      <td>This short flight was the first shuttle of the...</td>\n",
       "    </tr>\n",
       "    <tr>\n",
       "      <th>24955</th>\n",
       "      <td>Philadelphia and San Diego</td>\n",
       "      <td>I fly AA moderately regularly between Philadel...</td>\n",
       "    </tr>\n",
       "    <tr>\n",
       "      <th>80509</th>\n",
       "      <td>Stockholm and Malmö</td>\n",
       "      <td>DY 4053, 5 June. For the second time this year...</td>\n",
       "    </tr>\n",
       "    <tr>\n",
       "      <th>115553</th>\n",
       "      <td>Ho Chi Minh City and Phu Quoc</td>\n",
       "      <td>The flight between Ho Chi Minh City and Phu Qu...</td>\n",
       "    </tr>\n",
       "  </tbody>\n",
       "</table>\n",
       "</div>"
      ],
      "text/plain": [
       "                             NewRoute  \\\n",
       "12342            Geneva and Paris CDG   \n",
       "24955      Philadelphia and San Diego   \n",
       "80509             Stockholm and Malmö   \n",
       "115553  Ho Chi Minh City and Phu Quoc   \n",
       "\n",
       "                                                   Review  \n",
       "12342   This short flight was the first shuttle of the...  \n",
       "24955   I fly AA moderately regularly between Philadel...  \n",
       "80509   DY 4053, 5 June. For the second time this year...  \n",
       "115553  The flight between Ho Chi Minh City and Phu Qu...  "
      ]
     },
     "execution_count": 63,
     "metadata": {},
     "output_type": "execute_result"
    }
   ],
   "source": [
    "dataset_correct_to.loc[\n",
    "    (dataset_correct_to['NewRoute'].str.contains(' and '))\n",
    "    & (dataset_correct_to['NewRoute'].str.contains(' to ') == False),\n",
    "    ['NewRoute', 'Review']]"
   ]
  },
  {
   "cell_type": "code",
   "execution_count": 64,
   "metadata": {},
   "outputs": [
    {
     "data": {
      "text/plain": [
       "['This short flight was the first shuttle of the day between Geneva and Paris, no need to say that it was full. However, the staff well managed everyone to enter the plane on time. The only thing is that everyone kept their luggage to save time and, since there was no room anymore in the plane for additional luggage, many had to put their luggage back into the trunk. I guess Air France should advise passengers that, when the plane is full, it is better to register your bag. With so many passengers willing to save time and limited space, we ended up leaving the airport 20mn late because of those passengers. For the rest, it was very early and I felt asleep for the first 30mn. It was a really nice surprise to find a pain au chocolat waiting for me on my tablet. Usually, flight attendants do not serve you while you are asleep, especially in Economy class. I was very thankful the AF FA did it for me. Upon arrival, our luggage were delivered super fast and I was able to go to work in Paris as a usual commuter. Thank you Air France.',\n",
       " \"I fly AA moderately regularly between Philadelphia and San Diego. I often travel with surfboards and pay the $150 each way for this service ($200 internationally). However, AA takes no responsibility for damage to the surfboard even though I am effectively paying for an additional ticket to travel. I think this is completely messed up. This past trip I took a board out to my daughter that she built this past summer. It was packed exceptionally well. Wrapped in bubble wrap, covered in cardboard on all surfaces and more bubble wrap on the rails of the board and the whole thing put into a padded surfboard travel bag. Got it to San Diego and the rails were crushed in two places and there was a big heel dent in the bottom on the board. It was like the baggage handlers went out of their way to destroy the surfboard. OK, AA will pay the damages. Nope, the fine print says they are not responsible and they turn their backs. That's it. Game over. I hate AA big time. But there is no other choice. Good luck.\",\n",
       " 'DY 4053, 5 June. For the second time this year I flew Norwegian between Stockholm and Malmö. For the second time there was a 2 hour delay due to mechanical problems. No compensation at all. The even wanted to charge 30SEK for a cup of coffee.  Never again Norwegian!',\n",
       " 'The flight between Ho Chi Minh City and Phu Quoc island takes around 40 minutes so that they do not serve food on the flight. Every customer was provided with a small bottle of water and a piece of wet tissue. Moreover, there was no entertainment during the flight. Fortunately, I was seated near the windows and could see the sights below. The flight went through Mekong delta which consists of the long rivers and the large rice fields.']"
      ]
     },
     "execution_count": 64,
     "metadata": {},
     "output_type": "execute_result"
    }
   ],
   "source": [
    "dataset_correct_to.loc[\n",
    "    (dataset_correct_to['NewRoute'].str.contains(' and '))\n",
    "    & (dataset_correct_to['NewRoute'].str.contains(' to ') == False),\n",
    "    'Review'].to_list()"
   ]
  },
  {
   "cell_type": "markdown",
   "metadata": {},
   "source": [
    "The reviews indicate that the `\" and \"` represent `\" to \"` and should be changed."
   ]
  },
  {
   "cell_type": "code",
   "execution_count": 65,
   "metadata": {},
   "outputs": [],
   "source": [
    "and_edit = dataset_correct_to.index[\n",
    "    (dataset_correct_to['NewRoute'].str.contains(' and '))\n",
    "    & (dataset_correct_to['NewRoute'].str.contains(' to ') == False)\n",
    "]"
   ]
  },
  {
   "cell_type": "code",
   "execution_count": 66,
   "metadata": {},
   "outputs": [
    {
     "data": {
      "text/plain": [
       "12342              Geneva to Paris CDG\n",
       "24955        Philadelphia to San Diego\n",
       "80509               Stockholm to Malmö\n",
       "115553    Ho Chi Minh City to Phu Quoc\n",
       "Name: NewRoute, dtype: object"
      ]
     },
     "execution_count": 66,
     "metadata": {},
     "output_type": "execute_result"
    }
   ],
   "source": [
    "dataset_correct_to.loc[and_edit, 'NewRoute'] = dataset_correct_to.loc[and_edit, 'NewRoute'].str.replace(' and ', ' to ', regex=True)\n",
    "dataset_correct_to.loc[and_edit, 'NewRoute']"
   ]
  },
  {
   "cell_type": "code",
   "execution_count": 67,
   "metadata": {},
   "outputs": [
    {
     "data": {
      "text/plain": [
       "['WUH to BKI and return',\n",
       " 'Cincinnati and Lexington to Destin/Fort Walton',\n",
       " 'Trinidad and Tobago to Havana',\n",
       " 'New York to Trinidad and Tobago',\n",
       " 'SYD to HNL and return',\n",
       " 'Beijing to Brussels and Berlin to Beijing',\n",
       " 'New York JFK to Turks and Caicos',\n",
       " 'Clermont-Ferrand to Newark',\n",
       " 'Cracow to Lima and return',\n",
       " 'CAI to AMS and AMS to IAD',\n",
       " 'LGW to JFK and return',\n",
       " 'Kristiansand to Gdansk',\n",
       " 'Stansted to Malta and return',\n",
       " 'Kansas City to Philadelphia and return',\n",
       " 'Trinidad and Tobago to LaGuardia',\n",
       " 'Valencia, Spain to Paris and Lyon to Rome to Valencia',\n",
       " 'Turks and Caicos to Montréal',\n",
       " 'Moscow to Trinidad and Tobago',\n",
       " 'Kristiansand to Bergen',\n",
       " 'Los Angeles to Keflavik and Amsterdam',\n",
       " 'Samarkand to Tel Aviv']"
      ]
     },
     "execution_count": 67,
     "metadata": {},
     "output_type": "execute_result"
    }
   ],
   "source": [
    "dataset_correct_to.loc[\n",
    "    (dataset_correct_to['NewRoute'].str.contains('.+and '))\n",
    "    & (dataset_correct_to['NewRoute'].str.contains('land|grand', case=False) == False),\n",
    "    'NewRoute'\n",
    "].to_list()"
   ]
  },
  {
   "cell_type": "code",
   "execution_count": 68,
   "metadata": {},
   "outputs": [
    {
     "data": {
      "text/plain": [
       "18121                     WUH to BKI and return\n",
       "52129                     SYD to HNL and return\n",
       "54962         Manchester to Auckland and return\n",
       "73262                 Cracow to Lima and return\n",
       "80346                     LGW to JFK and return\n",
       "88556              Stansted to Malta and return\n",
       "98865    Kansas City to Philadelphia and return\n",
       "Name: NewRoute, dtype: object"
      ]
     },
     "execution_count": 68,
     "metadata": {},
     "output_type": "execute_result"
    }
   ],
   "source": [
    "and_return = dataset_correct_to.index[(dataset_correct_to['NewRoute'].str.contains('and return'))]\n",
    "dataset_correct_to.loc[and_return, 'NewRoute']"
   ]
  },
  {
   "cell_type": "markdown",
   "metadata": {},
   "source": [
    "For these, we just count the non-return flight."
   ]
  },
  {
   "cell_type": "code",
   "execution_count": 69,
   "metadata": {},
   "outputs": [
    {
     "data": {
      "text/plain": [
       "18121                     WUH to BKI\n",
       "52129                     SYD to HNL\n",
       "54962         Manchester to Auckland\n",
       "73262                 Cracow to Lima\n",
       "80346                     LGW to JFK\n",
       "88556              Stansted to Malta\n",
       "98865    Kansas City to Philadelphia\n",
       "Name: NewRoute, dtype: object"
      ]
     },
     "execution_count": 69,
     "metadata": {},
     "output_type": "execute_result"
    }
   ],
   "source": [
    "dataset_correct_to.loc[and_return, 'NewRoute'] = dataset_correct_to.loc[and_return, 'NewRoute'].replace(to_replace=' and return', value='', regex=True)\n",
    "dataset_correct_to.loc[and_return, 'NewRoute']"
   ]
  },
  {
   "cell_type": "code",
   "execution_count": 70,
   "metadata": {},
   "outputs": [
    {
     "data": {
      "text/plain": [
       "['Cincinnati and Lexington to Destin/Fort Walton',\n",
       " 'Beijing to Brussels and Berlin to Beijing',\n",
       " 'CAI to AMS and AMS to IAD',\n",
       " 'Valencia, Spain to Paris and Lyon to Rome to Valencia',\n",
       " 'Los Angeles to Keflavik and Amsterdam']"
      ]
     },
     "execution_count": 70,
     "metadata": {},
     "output_type": "execute_result"
    }
   ],
   "source": [
    "dataset_correct_to.loc[\n",
    "    (dataset_correct_to['NewRoute'].str.contains('.+and '))\n",
    "    & (dataset_correct_to['NewRoute'].str.contains('land|grand|trinidad|caicos|samarkand|sand|ferrand', case=False) == False),\n",
    "    'NewRoute'\n",
    "].to_list()"
   ]
  },
  {
   "cell_type": "markdown",
   "metadata": {},
   "source": [
    "These have multiple origin/destinations, so we just remove them from our dataset."
   ]
  },
  {
   "cell_type": "code",
   "execution_count": 71,
   "metadata": {},
   "outputs": [],
   "source": [
    "and_remove = dataset_correct_to.index[\n",
    "    (dataset_correct_to['NewRoute'].str.contains('.+and '))\n",
    "    & (dataset_correct_to['NewRoute'].str.contains('land|grand|trinidad|caicos|samarkand|sand|ferrand', case=False) == False)\n",
    "]\n",
    "dataset_correct_to.drop(index=and_remove, inplace=True)"
   ]
  },
  {
   "cell_type": "code",
   "execution_count": 72,
   "metadata": {},
   "outputs": [
    {
     "data": {
      "text/plain": [
       "126528    Milwaukee, WI to Los Angeles & San Francisco\n",
       "Name: NewRoute, dtype: object"
      ]
     },
     "execution_count": 72,
     "metadata": {},
     "output_type": "execute_result"
    }
   ],
   "source": [
    "dataset_correct_to.loc[(dataset_correct_to['NewRoute'].str.contains('&')), 'NewRoute']"
   ]
  },
  {
   "cell_type": "code",
   "execution_count": 73,
   "metadata": {},
   "outputs": [],
   "source": [
    "and_remove = dataset_correct_to.index[(dataset_correct_to['NewRoute'].str.contains('&'))]\n",
    "dataset_correct_to.drop(index=and_remove, inplace=True)"
   ]
  },
  {
   "cell_type": "code",
   "execution_count": 74,
   "metadata": {},
   "outputs": [
    {
     "data": {
      "text/plain": [
       "Series([], Name: NewRoute, dtype: object)"
      ]
     },
     "execution_count": 74,
     "metadata": {},
     "output_type": "execute_result"
    }
   ],
   "source": [
    "dataset_correct_to.loc[\n",
    "    (dataset_correct_to['NewRoute'].str.contains(' and.+'))\n",
    "    & (dataset_correct_to['NewRoute'].str.contains('land|grand|trinidad|caicos|samarkand|sand|ferrand', case=False) == False),\n",
    "    'NewRoute'\n",
    "]"
   ]
  },
  {
   "cell_type": "markdown",
   "metadata": {},
   "source": [
    "We've now handled all of the `\" and \"`."
   ]
  },
  {
   "cell_type": "markdown",
   "metadata": {},
   "source": [
    "### Check that every entry has `\" to \"` and correct things that don't\n",
    "\n",
    "Before we split `NewRoute` on `\" to \"`, we need to make sure that every `NewRoute` indeed contains this substring."
   ]
  },
  {
   "cell_type": "code",
   "execution_count": 75,
   "metadata": {},
   "outputs": [
    {
     "name": "stdout",
     "output_type": "stream",
     "text": [
      "Number of entries without \" to \": 60\n"
     ]
    }
   ],
   "source": [
    "count_no_to = dataset_correct_to.loc[dataset_correct_to['NewRoute'].str.contains(' to ') == False, 'NewRoute'].count()\n",
    "print(\"Number of entries without \\\" to \\\":\", count_no_to)"
   ]
  },
  {
   "cell_type": "code",
   "execution_count": 76,
   "metadata": {},
   "outputs": [
    {
     "data": {
      "text/plain": [
       "35064          Hong Kong To Shanghai\n",
       "35353                     SYD yo DXB\n",
       "38637           Jieyang To Vancouver\n",
       "39728                     SYD yo PEK\n",
       "40260     Edinburgh To Fuerteventura\n",
       "47290             Heathrow To Sydney\n",
       "64798                    CHC t0o HBA\n",
       "67492          Atlanta yo La Guardia\n",
       "68963                    JKF tpo KWI\n",
       "74032        Frankfurt TO Washington\n",
       "90502                     doh TO sof\n",
       "95174                     AKL ro SIN\n",
       "117695         Washington tyo Tehran\n",
       "Name: NewRoute, dtype: object"
      ]
     },
     "execution_count": 76,
     "metadata": {},
     "output_type": "execute_result"
    }
   ],
   "source": [
    "# Index of NewRoutes with various misspellings of \" to \"\n",
    "wrong_to = dataset_correct_to.index[\n",
    "    (dataset_correct_to['NewRoute'].str.contains(' to ') == False)\n",
    "    & (dataset_correct_to['NewRoute'].str.contains(' [rty]o | tyo | t[p0]o | t.?o ', case=False))]\n",
    "dataset_correct_to.loc[wrong_to, 'NewRoute']"
   ]
  },
  {
   "cell_type": "code",
   "execution_count": 77,
   "metadata": {},
   "outputs": [
    {
     "data": {
      "text/plain": [
       "35064          Hong Kong to Shanghai\n",
       "35353                     SYD to DXB\n",
       "38637           Jieyang to Vancouver\n",
       "39728                     SYD to PEK\n",
       "40260     Edinburgh to Fuerteventura\n",
       "47290             Heathrow to Sydney\n",
       "64798                     CHC to HBA\n",
       "67492          Atlanta to La Guardia\n",
       "68963                     JKF to KWI\n",
       "74032        Frankfurt to Washington\n",
       "90502                     doh to sof\n",
       "95174                     AKL to SIN\n",
       "117695          Washington to Tehran\n",
       "Name: NewRoute, dtype: object"
      ]
     },
     "execution_count": 77,
     "metadata": {},
     "output_type": "execute_result"
    }
   ],
   "source": [
    "dataset_correct_to.loc[wrong_to, 'NewRoute'] = dataset_correct_to.loc[wrong_to, 'NewRoute'].replace([' [Tyr]o ',' TO ', ' tyo ', ' t[p0]o ', ' \\xa0to '], ' to ',\n",
    "                                                     regex=True)\n",
    "dataset_correct_to.loc[wrong_to, 'NewRoute']"
   ]
  },
  {
   "cell_type": "markdown",
   "metadata": {},
   "source": [
    "Let's look at those with `\"to\"` but not `\" to \"`."
   ]
  },
  {
   "cell_type": "code",
   "execution_count": 78,
   "metadata": {},
   "outputs": [
    {
     "data": {
      "text/plain": [
       "11586             Toronto to Birmingham\n",
       "22732                     Washington to\n",
       "70816             Sao Jose do Rio Preto\n",
       "97932     Raleigh/Durham to Albuquerque\n",
       "105686                          Toronto\n",
       "118351           SeattletoJacklsonville\n",
       "Name: NewRoute, dtype: object"
      ]
     },
     "execution_count": 78,
     "metadata": {},
     "output_type": "execute_result"
    }
   ],
   "source": [
    "dataset_correct_to.loc[(dataset_correct_to['NewRoute'].str.contains('to')) &\n",
    "                        (dataset_correct_to['NewRoute'].str.contains(' to ') == False), 'NewRoute']"
   ]
  },
  {
   "cell_type": "code",
   "execution_count": 79,
   "metadata": {},
   "outputs": [
    {
     "name": "stdout",
     "output_type": "stream",
     "text": [
      "Before fixing:\n"
     ]
    },
    {
     "data": {
      "text/html": [
       "<div>\n",
       "<style scoped>\n",
       "    .dataframe tbody tr th:only-of-type {\n",
       "        vertical-align: middle;\n",
       "    }\n",
       "\n",
       "    .dataframe tbody tr th {\n",
       "        vertical-align: top;\n",
       "    }\n",
       "\n",
       "    .dataframe thead th {\n",
       "        text-align: right;\n",
       "    }\n",
       "</style>\n",
       "<table border=\"1\" class=\"dataframe\">\n",
       "  <thead>\n",
       "    <tr style=\"text-align: right;\">\n",
       "      <th></th>\n",
       "      <th>NewRoute</th>\n",
       "    </tr>\n",
       "  </thead>\n",
       "  <tbody>\n",
       "    <tr>\n",
       "      <th>11586</th>\n",
       "      <td>Toronto to Birmingham</td>\n",
       "    </tr>\n",
       "    <tr>\n",
       "      <th>97932</th>\n",
       "      <td>Raleigh/Durham to Albuquerque</td>\n",
       "    </tr>\n",
       "    <tr>\n",
       "      <th>118351</th>\n",
       "      <td>SeattletoJacklsonville</td>\n",
       "    </tr>\n",
       "  </tbody>\n",
       "</table>\n",
       "</div>"
      ],
      "text/plain": [
       "                             NewRoute\n",
       "11586           Toronto to Birmingham\n",
       "97932   Raleigh/Durham to Albuquerque\n",
       "118351         SeattletoJacklsonville"
      ]
     },
     "metadata": {},
     "output_type": "display_data"
    },
    {
     "name": "stdout",
     "output_type": "stream",
     "text": [
      "After fixing:\n"
     ]
    },
    {
     "data": {
      "text/html": [
       "<div>\n",
       "<style scoped>\n",
       "    .dataframe tbody tr th:only-of-type {\n",
       "        vertical-align: middle;\n",
       "    }\n",
       "\n",
       "    .dataframe tbody tr th {\n",
       "        vertical-align: top;\n",
       "    }\n",
       "\n",
       "    .dataframe thead th {\n",
       "        text-align: right;\n",
       "    }\n",
       "</style>\n",
       "<table border=\"1\" class=\"dataframe\">\n",
       "  <thead>\n",
       "    <tr style=\"text-align: right;\">\n",
       "      <th></th>\n",
       "      <th>NewRoute</th>\n",
       "    </tr>\n",
       "  </thead>\n",
       "  <tbody>\n",
       "    <tr>\n",
       "      <th>11586</th>\n",
       "      <td>Toronto to Birmingham</td>\n",
       "    </tr>\n",
       "    <tr>\n",
       "      <th>97932</th>\n",
       "      <td>Raleigh/Durham to Albuquerque</td>\n",
       "    </tr>\n",
       "    <tr>\n",
       "      <th>118351</th>\n",
       "      <td>Seattle to Jacksonville</td>\n",
       "    </tr>\n",
       "  </tbody>\n",
       "</table>\n",
       "</div>"
      ],
      "text/plain": [
       "                             NewRoute\n",
       "11586           Toronto to Birmingham\n",
       "97932   Raleigh/Durham to Albuquerque\n",
       "118351        Seattle to Jacksonville"
      ]
     },
     "metadata": {},
     "output_type": "display_data"
    }
   ],
   "source": [
    "print(\"Before fixing:\")\n",
    "display(dataset_correct_to.loc[[11586, 97932, 118351], ['NewRoute']])\n",
    "\n",
    "dataset_correct_to.loc[[11586, 97932, 118351], 'NewRoute'] = ['Toronto to Birmingham',\n",
    "                                                              'Raleigh/Durham to Albuquerque',\n",
    "                                                              'Seattle to Jacksonville']\n",
    "print(\"After fixing:\")\n",
    "display(dataset_correct_to.loc[[11586, 97932, 118351], ['NewRoute']])"
   ]
  },
  {
   "cell_type": "markdown",
   "metadata": {},
   "source": [
    "The rest of the entries with no `\" to \"` seem to only have one place in the `NewRoute` column, so we just remove them."
   ]
  },
  {
   "cell_type": "code",
   "execution_count": 80,
   "metadata": {},
   "outputs": [
    {
     "name": "stdout",
     "output_type": "stream",
     "text": [
      "Rows removed: 44\n"
     ]
    }
   ],
   "source": [
    "#dataset_correct_to.loc[(dataset_correct_to['NewRoute'].str.contains(' to ') == False), 'NewRoute']\n",
    "no_to = dataset_correct_to.index[(dataset_correct_to['NewRoute'].str.contains(' to ') == False)]\n",
    "dataset_correct_to.drop(index=no_to, inplace=True)\n",
    "\n",
    "print(\"Rows removed:\", len(no_to))\n",
    "del(no_to)"
   ]
  },
  {
   "cell_type": "markdown",
   "metadata": {},
   "source": [
    "# Split `NewRoute` into Origin and Destination"
   ]
  },
  {
   "cell_type": "markdown",
   "metadata": {},
   "source": [
    "## Split `NewRoute` into `Origin` and `Destination` columns\n",
    "Now, all of our entries have a `\" to \"`, which means we can split on it and create `Origin` and `Destination` columns."
   ]
  },
  {
   "cell_type": "code",
   "execution_count": 81,
   "metadata": {},
   "outputs": [
    {
     "data": {
      "text/plain": [
       "(90476, 16)"
      ]
     },
     "execution_count": 81,
     "metadata": {},
     "output_type": "execute_result"
    }
   ],
   "source": [
    "dataset_origin_destination = dataset_correct_to.copy()\n",
    "dataset_origin_destination.shape"
   ]
  },
  {
   "cell_type": "code",
   "execution_count": 82,
   "metadata": {},
   "outputs": [
    {
     "data": {
      "text/html": [
       "<div>\n",
       "<style scoped>\n",
       "    .dataframe tbody tr th:only-of-type {\n",
       "        vertical-align: middle;\n",
       "    }\n",
       "\n",
       "    .dataframe tbody tr th {\n",
       "        vertical-align: top;\n",
       "    }\n",
       "\n",
       "    .dataframe thead th {\n",
       "        text-align: right;\n",
       "    }\n",
       "</style>\n",
       "<table border=\"1\" class=\"dataframe\">\n",
       "  <thead>\n",
       "    <tr style=\"text-align: right;\">\n",
       "      <th></th>\n",
       "      <th>origin</th>\n",
       "      <th>destination</th>\n",
       "      <th>2</th>\n",
       "      <th>3</th>\n",
       "    </tr>\n",
       "  </thead>\n",
       "  <tbody>\n",
       "    <tr>\n",
       "      <th>0</th>\n",
       "      <td>Moroni</td>\n",
       "      <td>Moheli</td>\n",
       "      <td>None</td>\n",
       "      <td>None</td>\n",
       "    </tr>\n",
       "    <tr>\n",
       "      <th>1</th>\n",
       "      <td>Moroni</td>\n",
       "      <td>Anjouan</td>\n",
       "      <td>None</td>\n",
       "      <td>None</td>\n",
       "    </tr>\n",
       "    <tr>\n",
       "      <th>2</th>\n",
       "      <td>Anjouan</td>\n",
       "      <td>Dzaoudzi</td>\n",
       "      <td>None</td>\n",
       "      <td>None</td>\n",
       "    </tr>\n",
       "    <tr>\n",
       "      <th>6</th>\n",
       "      <td>Milano</td>\n",
       "      <td>Olbia</td>\n",
       "      <td>None</td>\n",
       "      <td>None</td>\n",
       "    </tr>\n",
       "    <tr>\n",
       "      <th>7</th>\n",
       "      <td>Cascais</td>\n",
       "      <td>Bragança</td>\n",
       "      <td>None</td>\n",
       "      <td>None</td>\n",
       "    </tr>\n",
       "    <tr>\n",
       "      <th>...</th>\n",
       "      <td>...</td>\n",
       "      <td>...</td>\n",
       "      <td>...</td>\n",
       "      <td>...</td>\n",
       "    </tr>\n",
       "    <tr>\n",
       "      <th>129200</th>\n",
       "      <td>Budapest</td>\n",
       "      <td>Barcelona</td>\n",
       "      <td>None</td>\n",
       "      <td>None</td>\n",
       "    </tr>\n",
       "    <tr>\n",
       "      <th>129201</th>\n",
       "      <td>Rome</td>\n",
       "      <td>Bucharest</td>\n",
       "      <td>None</td>\n",
       "      <td>None</td>\n",
       "    </tr>\n",
       "    <tr>\n",
       "      <th>129202</th>\n",
       "      <td>London Luton</td>\n",
       "      <td>Budapest</td>\n",
       "      <td>None</td>\n",
       "      <td>None</td>\n",
       "    </tr>\n",
       "    <tr>\n",
       "      <th>129203</th>\n",
       "      <td>Budapest</td>\n",
       "      <td>Tel Aviv</td>\n",
       "      <td>None</td>\n",
       "      <td>None</td>\n",
       "    </tr>\n",
       "    <tr>\n",
       "      <th>129204</th>\n",
       "      <td>Budapest</td>\n",
       "      <td>Dubai</td>\n",
       "      <td>None</td>\n",
       "      <td>None</td>\n",
       "    </tr>\n",
       "  </tbody>\n",
       "</table>\n",
       "<p>90476 rows × 4 columns</p>\n",
       "</div>"
      ],
      "text/plain": [
       "              origin destination     2     3\n",
       "0             Moroni      Moheli  None  None\n",
       "1             Moroni     Anjouan  None  None\n",
       "2            Anjouan    Dzaoudzi  None  None\n",
       "6             Milano       Olbia  None  None\n",
       "7            Cascais    Bragança  None  None\n",
       "...              ...         ...   ...   ...\n",
       "129200      Budapest   Barcelona  None  None\n",
       "129201          Rome   Bucharest  None  None\n",
       "129202  London Luton    Budapest  None  None\n",
       "129203      Budapest    Tel Aviv  None  None\n",
       "129204      Budapest       Dubai  None  None\n",
       "\n",
       "[90476 rows x 4 columns]"
      ]
     },
     "execution_count": 82,
     "metadata": {},
     "output_type": "execute_result"
    }
   ],
   "source": [
    "origin_destination_split = dataset_origin_destination['NewRoute'].str.split(' to ', expand=True).rename(columns={0:'origin', 1:'destination'})\n",
    "origin_destination_split"
   ]
  },
  {
   "cell_type": "markdown",
   "metadata": {},
   "source": [
    "## Remove entries with multiple `\" to \"`s"
   ]
  },
  {
   "cell_type": "markdown",
   "metadata": {},
   "source": [
    "We will drop all the entries which have multiple destinations (indicated by a non-null value in row 2 or 3 of the above df)."
   ]
  },
  {
   "cell_type": "code",
   "execution_count": 83,
   "metadata": {},
   "outputs": [],
   "source": [
    "# Index of entries with multiple destinations in the `NewRoute` column\n",
    "multiple_destinations = origin_destination_split.index[origin_destination_split[2].notna()]"
   ]
  },
  {
   "cell_type": "code",
   "execution_count": 84,
   "metadata": {},
   "outputs": [],
   "source": [
    "dataset_origin_destination.drop(index=multiple_destinations, inplace=True)\n",
    "origin_destination_split.drop(index=multiple_destinations, inplace=True)"
   ]
  },
  {
   "cell_type": "code",
   "execution_count": 85,
   "metadata": {},
   "outputs": [
    {
     "data": {
      "text/html": [
       "<div>\n",
       "<style scoped>\n",
       "    .dataframe tbody tr th:only-of-type {\n",
       "        vertical-align: middle;\n",
       "    }\n",
       "\n",
       "    .dataframe tbody tr th {\n",
       "        vertical-align: top;\n",
       "    }\n",
       "\n",
       "    .dataframe thead th {\n",
       "        text-align: right;\n",
       "    }\n",
       "</style>\n",
       "<table border=\"1\" class=\"dataframe\">\n",
       "  <thead>\n",
       "    <tr style=\"text-align: right;\">\n",
       "      <th></th>\n",
       "      <th>AirlineName</th>\n",
       "      <th>CabinType</th>\n",
       "      <th>TravelType</th>\n",
       "      <th>DateFlown</th>\n",
       "      <th>OverallScore</th>\n",
       "      <th>SeatComfortRating</th>\n",
       "      <th>ServiceRating</th>\n",
       "      <th>FoodRating</th>\n",
       "      <th>EntertainmentRating</th>\n",
       "      <th>GroundServiceRating</th>\n",
       "      <th>ValueRating</th>\n",
       "      <th>WifiRating</th>\n",
       "      <th>Recommended</th>\n",
       "      <th>Review</th>\n",
       "      <th>TripVerified</th>\n",
       "      <th>NewRoute</th>\n",
       "      <th>Origin</th>\n",
       "      <th>Destination</th>\n",
       "    </tr>\n",
       "  </thead>\n",
       "  <tbody>\n",
       "    <tr>\n",
       "      <th>0</th>\n",
       "      <td>AB Aviation</td>\n",
       "      <td>Economy Class</td>\n",
       "      <td>Solo Leisure</td>\n",
       "      <td>2019-11-01</td>\n",
       "      <td>9.0</td>\n",
       "      <td>4</td>\n",
       "      <td>5</td>\n",
       "      <td>4</td>\n",
       "      <td>0</td>\n",
       "      <td>4</td>\n",
       "      <td>3</td>\n",
       "      <td>0</td>\n",
       "      <td>yes</td>\n",
       "      <td>Moroni to Moheli. Turned out to be a pretty de...</td>\n",
       "      <td>Trip Verified</td>\n",
       "      <td>Moroni to Moheli</td>\n",
       "      <td>Moroni</td>\n",
       "      <td>Moheli</td>\n",
       "    </tr>\n",
       "    <tr>\n",
       "      <th>1</th>\n",
       "      <td>AB Aviation</td>\n",
       "      <td>Economy Class</td>\n",
       "      <td>Solo Leisure</td>\n",
       "      <td>2019-06-01</td>\n",
       "      <td>1.0</td>\n",
       "      <td>2</td>\n",
       "      <td>2</td>\n",
       "      <td>1</td>\n",
       "      <td>0</td>\n",
       "      <td>1</td>\n",
       "      <td>2</td>\n",
       "      <td>0</td>\n",
       "      <td>no</td>\n",
       "      <td>Moroni to Anjouan. It is a very small airline....</td>\n",
       "      <td>Trip Verified</td>\n",
       "      <td>Moroni to Anjouan</td>\n",
       "      <td>Moroni</td>\n",
       "      <td>Anjouan</td>\n",
       "    </tr>\n",
       "    <tr>\n",
       "      <th>2</th>\n",
       "      <td>AB Aviation</td>\n",
       "      <td>Economy Class</td>\n",
       "      <td>Solo Leisure</td>\n",
       "      <td>2019-06-01</td>\n",
       "      <td>1.0</td>\n",
       "      <td>2</td>\n",
       "      <td>1</td>\n",
       "      <td>1</td>\n",
       "      <td>0</td>\n",
       "      <td>1</td>\n",
       "      <td>2</td>\n",
       "      <td>0</td>\n",
       "      <td>no</td>\n",
       "      <td>Anjouan to Dzaoudzi. A very small airline and ...</td>\n",
       "      <td>Trip Verified</td>\n",
       "      <td>Anjouan to Dzaoudzi</td>\n",
       "      <td>Anjouan</td>\n",
       "      <td>Dzaoudzi</td>\n",
       "    </tr>\n",
       "    <tr>\n",
       "      <th>6</th>\n",
       "      <td>AeroItalia</td>\n",
       "      <td>Economy Class</td>\n",
       "      <td>Business</td>\n",
       "      <td>2023-04-01</td>\n",
       "      <td>2.0</td>\n",
       "      <td>1</td>\n",
       "      <td>3</td>\n",
       "      <td>1</td>\n",
       "      <td>0</td>\n",
       "      <td>1</td>\n",
       "      <td>1</td>\n",
       "      <td>0</td>\n",
       "      <td>no</td>\n",
       "      <td>Only 1 check-in desk open for a full plane and...</td>\n",
       "      <td>Trip Verified</td>\n",
       "      <td>Milano to Olbia</td>\n",
       "      <td>Milano</td>\n",
       "      <td>Olbia</td>\n",
       "    </tr>\n",
       "    <tr>\n",
       "      <th>7</th>\n",
       "      <td>Aero VIP</td>\n",
       "      <td>Economy Class</td>\n",
       "      <td>Solo Leisure</td>\n",
       "      <td>2019-04-01</td>\n",
       "      <td>9.0</td>\n",
       "      <td>4</td>\n",
       "      <td>4</td>\n",
       "      <td>0</td>\n",
       "      <td>0</td>\n",
       "      <td>5</td>\n",
       "      <td>4</td>\n",
       "      <td>0</td>\n",
       "      <td>yes</td>\n",
       "      <td>Cascais to Bragança with Aero VIP. Services ar...</td>\n",
       "      <td>Trip Verified</td>\n",
       "      <td>Cascais to Bragança</td>\n",
       "      <td>Cascais</td>\n",
       "      <td>Bragança</td>\n",
       "    </tr>\n",
       "  </tbody>\n",
       "</table>\n",
       "</div>"
      ],
      "text/plain": [
       "   AirlineName      CabinType    TravelType  DateFlown  OverallScore  \\\n",
       "0  AB Aviation  Economy Class  Solo Leisure 2019-11-01           9.0   \n",
       "1  AB Aviation  Economy Class  Solo Leisure 2019-06-01           1.0   \n",
       "2  AB Aviation  Economy Class  Solo Leisure 2019-06-01           1.0   \n",
       "6   AeroItalia  Economy Class      Business 2023-04-01           2.0   \n",
       "7     Aero VIP  Economy Class  Solo Leisure 2019-04-01           9.0   \n",
       "\n",
       "   SeatComfortRating  ServiceRating  FoodRating  EntertainmentRating  \\\n",
       "0                  4              5           4                    0   \n",
       "1                  2              2           1                    0   \n",
       "2                  2              1           1                    0   \n",
       "6                  1              3           1                    0   \n",
       "7                  4              4           0                    0   \n",
       "\n",
       "   GroundServiceRating  ValueRating  WifiRating Recommended  \\\n",
       "0                    4            3           0         yes   \n",
       "1                    1            2           0          no   \n",
       "2                    1            2           0          no   \n",
       "6                    1            1           0          no   \n",
       "7                    5            4           0         yes   \n",
       "\n",
       "                                              Review   TripVerified  \\\n",
       "0  Moroni to Moheli. Turned out to be a pretty de...  Trip Verified   \n",
       "1  Moroni to Anjouan. It is a very small airline....  Trip Verified   \n",
       "2  Anjouan to Dzaoudzi. A very small airline and ...  Trip Verified   \n",
       "6  Only 1 check-in desk open for a full plane and...  Trip Verified   \n",
       "7  Cascais to Bragança with Aero VIP. Services ar...  Trip Verified   \n",
       "\n",
       "              NewRoute   Origin Destination  \n",
       "0     Moroni to Moheli   Moroni      Moheli  \n",
       "1    Moroni to Anjouan   Moroni     Anjouan  \n",
       "2  Anjouan to Dzaoudzi  Anjouan    Dzaoudzi  \n",
       "6      Milano to Olbia   Milano       Olbia  \n",
       "7  Cascais to Bragança  Cascais    Bragança  "
      ]
     },
     "execution_count": 85,
     "metadata": {},
     "output_type": "execute_result"
    }
   ],
   "source": [
    "dataset_origin_destination[['Origin', 'Destination']] = origin_destination_split[['origin', 'destination']]\n",
    "dataset_origin_destination.head()"
   ]
  },
  {
   "cell_type": "code",
   "execution_count": 86,
   "metadata": {},
   "outputs": [
    {
     "data": {
      "text/plain": [
       "(90430, 18)"
      ]
     },
     "execution_count": 86,
     "metadata": {},
     "output_type": "execute_result"
    }
   ],
   "source": [
    "dataset_origin_destination.shape"
   ]
  },
  {
   "cell_type": "code",
   "execution_count": 87,
   "metadata": {},
   "outputs": [],
   "source": [
    "dataset_origin_destination.drop(columns='NewRoute', inplace=True)"
   ]
  },
  {
   "cell_type": "code",
   "execution_count": 88,
   "metadata": {},
   "outputs": [
    {
     "data": {
      "text/html": [
       "<div>\n",
       "<style scoped>\n",
       "    .dataframe tbody tr th:only-of-type {\n",
       "        vertical-align: middle;\n",
       "    }\n",
       "\n",
       "    .dataframe tbody tr th {\n",
       "        vertical-align: top;\n",
       "    }\n",
       "\n",
       "    .dataframe thead th {\n",
       "        text-align: right;\n",
       "    }\n",
       "</style>\n",
       "<table border=\"1\" class=\"dataframe\">\n",
       "  <thead>\n",
       "    <tr style=\"text-align: right;\">\n",
       "      <th></th>\n",
       "      <th>AirlineName</th>\n",
       "      <th>CabinType</th>\n",
       "      <th>TravelType</th>\n",
       "      <th>DateFlown</th>\n",
       "      <th>OverallScore</th>\n",
       "      <th>SeatComfortRating</th>\n",
       "      <th>ServiceRating</th>\n",
       "      <th>FoodRating</th>\n",
       "      <th>EntertainmentRating</th>\n",
       "      <th>GroundServiceRating</th>\n",
       "      <th>ValueRating</th>\n",
       "      <th>WifiRating</th>\n",
       "      <th>Recommended</th>\n",
       "      <th>Review</th>\n",
       "      <th>TripVerified</th>\n",
       "      <th>Origin</th>\n",
       "      <th>Destination</th>\n",
       "    </tr>\n",
       "  </thead>\n",
       "  <tbody>\n",
       "    <tr>\n",
       "      <th>0</th>\n",
       "      <td>AB Aviation</td>\n",
       "      <td>Economy Class</td>\n",
       "      <td>Solo Leisure</td>\n",
       "      <td>2019-11-01</td>\n",
       "      <td>9.0</td>\n",
       "      <td>4</td>\n",
       "      <td>5</td>\n",
       "      <td>4</td>\n",
       "      <td>0</td>\n",
       "      <td>4</td>\n",
       "      <td>3</td>\n",
       "      <td>0</td>\n",
       "      <td>yes</td>\n",
       "      <td>Moroni to Moheli. Turned out to be a pretty de...</td>\n",
       "      <td>Trip Verified</td>\n",
       "      <td>Moroni</td>\n",
       "      <td>Moheli</td>\n",
       "    </tr>\n",
       "    <tr>\n",
       "      <th>1</th>\n",
       "      <td>AB Aviation</td>\n",
       "      <td>Economy Class</td>\n",
       "      <td>Solo Leisure</td>\n",
       "      <td>2019-06-01</td>\n",
       "      <td>1.0</td>\n",
       "      <td>2</td>\n",
       "      <td>2</td>\n",
       "      <td>1</td>\n",
       "      <td>0</td>\n",
       "      <td>1</td>\n",
       "      <td>2</td>\n",
       "      <td>0</td>\n",
       "      <td>no</td>\n",
       "      <td>Moroni to Anjouan. It is a very small airline....</td>\n",
       "      <td>Trip Verified</td>\n",
       "      <td>Moroni</td>\n",
       "      <td>Anjouan</td>\n",
       "    </tr>\n",
       "    <tr>\n",
       "      <th>2</th>\n",
       "      <td>AB Aviation</td>\n",
       "      <td>Economy Class</td>\n",
       "      <td>Solo Leisure</td>\n",
       "      <td>2019-06-01</td>\n",
       "      <td>1.0</td>\n",
       "      <td>2</td>\n",
       "      <td>1</td>\n",
       "      <td>1</td>\n",
       "      <td>0</td>\n",
       "      <td>1</td>\n",
       "      <td>2</td>\n",
       "      <td>0</td>\n",
       "      <td>no</td>\n",
       "      <td>Anjouan to Dzaoudzi. A very small airline and ...</td>\n",
       "      <td>Trip Verified</td>\n",
       "      <td>Anjouan</td>\n",
       "      <td>Dzaoudzi</td>\n",
       "    </tr>\n",
       "    <tr>\n",
       "      <th>6</th>\n",
       "      <td>AeroItalia</td>\n",
       "      <td>Economy Class</td>\n",
       "      <td>Business</td>\n",
       "      <td>2023-04-01</td>\n",
       "      <td>2.0</td>\n",
       "      <td>1</td>\n",
       "      <td>3</td>\n",
       "      <td>1</td>\n",
       "      <td>0</td>\n",
       "      <td>1</td>\n",
       "      <td>1</td>\n",
       "      <td>0</td>\n",
       "      <td>no</td>\n",
       "      <td>Only 1 check-in desk open for a full plane and...</td>\n",
       "      <td>Trip Verified</td>\n",
       "      <td>Milano</td>\n",
       "      <td>Olbia</td>\n",
       "    </tr>\n",
       "    <tr>\n",
       "      <th>7</th>\n",
       "      <td>Aero VIP</td>\n",
       "      <td>Economy Class</td>\n",
       "      <td>Solo Leisure</td>\n",
       "      <td>2019-04-01</td>\n",
       "      <td>9.0</td>\n",
       "      <td>4</td>\n",
       "      <td>4</td>\n",
       "      <td>0</td>\n",
       "      <td>0</td>\n",
       "      <td>5</td>\n",
       "      <td>4</td>\n",
       "      <td>0</td>\n",
       "      <td>yes</td>\n",
       "      <td>Cascais to Bragança with Aero VIP. Services ar...</td>\n",
       "      <td>Trip Verified</td>\n",
       "      <td>Cascais</td>\n",
       "      <td>Bragança</td>\n",
       "    </tr>\n",
       "  </tbody>\n",
       "</table>\n",
       "</div>"
      ],
      "text/plain": [
       "   AirlineName      CabinType    TravelType  DateFlown  OverallScore  \\\n",
       "0  AB Aviation  Economy Class  Solo Leisure 2019-11-01           9.0   \n",
       "1  AB Aviation  Economy Class  Solo Leisure 2019-06-01           1.0   \n",
       "2  AB Aviation  Economy Class  Solo Leisure 2019-06-01           1.0   \n",
       "6   AeroItalia  Economy Class      Business 2023-04-01           2.0   \n",
       "7     Aero VIP  Economy Class  Solo Leisure 2019-04-01           9.0   \n",
       "\n",
       "   SeatComfortRating  ServiceRating  FoodRating  EntertainmentRating  \\\n",
       "0                  4              5           4                    0   \n",
       "1                  2              2           1                    0   \n",
       "2                  2              1           1                    0   \n",
       "6                  1              3           1                    0   \n",
       "7                  4              4           0                    0   \n",
       "\n",
       "   GroundServiceRating  ValueRating  WifiRating Recommended  \\\n",
       "0                    4            3           0         yes   \n",
       "1                    1            2           0          no   \n",
       "2                    1            2           0          no   \n",
       "6                    1            1           0          no   \n",
       "7                    5            4           0         yes   \n",
       "\n",
       "                                              Review   TripVerified   Origin  \\\n",
       "0  Moroni to Moheli. Turned out to be a pretty de...  Trip Verified   Moroni   \n",
       "1  Moroni to Anjouan. It is a very small airline....  Trip Verified   Moroni   \n",
       "2  Anjouan to Dzaoudzi. A very small airline and ...  Trip Verified  Anjouan   \n",
       "6  Only 1 check-in desk open for a full plane and...  Trip Verified   Milano   \n",
       "7  Cascais to Bragança with Aero VIP. Services ar...  Trip Verified  Cascais   \n",
       "\n",
       "  Destination  \n",
       "0      Moheli  \n",
       "1     Anjouan  \n",
       "2    Dzaoudzi  \n",
       "6       Olbia  \n",
       "7    Bragança  "
      ]
     },
     "execution_count": 88,
     "metadata": {},
     "output_type": "execute_result"
    }
   ],
   "source": [
    "dataset_origin_destination.head()"
   ]
  },
  {
   "cell_type": "markdown",
   "metadata": {},
   "source": [
    "## Clean up `Origin` and `Destination` columns"
   ]
  },
  {
   "cell_type": "code",
   "execution_count": 89,
   "metadata": {},
   "outputs": [],
   "source": [
    "dataset_origin_destination['Origin'] = dataset_origin_destination['Origin'].str.strip(' =?[0-9],')\n",
    "dataset_origin_destination['Destination'] = dataset_origin_destination['Destination'].str.strip(' =?[0-9],')"
   ]
  },
  {
   "cell_type": "markdown",
   "metadata": {},
   "source": [
    "# Standardize city and airport names"
   ]
  },
  {
   "cell_type": "markdown",
   "metadata": {},
   "source": [
    "## Load city and airport dictionaries"
   ]
  },
  {
   "cell_type": "code",
   "execution_count": 90,
   "metadata": {},
   "outputs": [
    {
     "data": {
      "text/html": [
       "<div>\n",
       "<style scoped>\n",
       "    .dataframe tbody tr th:only-of-type {\n",
       "        vertical-align: middle;\n",
       "    }\n",
       "\n",
       "    .dataframe tbody tr th {\n",
       "        vertical-align: top;\n",
       "    }\n",
       "\n",
       "    .dataframe thead th {\n",
       "        text-align: right;\n",
       "    }\n",
       "</style>\n",
       "<table border=\"1\" class=\"dataframe\">\n",
       "  <thead>\n",
       "    <tr style=\"text-align: right;\">\n",
       "      <th></th>\n",
       "      <th>Code</th>\n",
       "      <th>Name</th>\n",
       "      <th>city_id</th>\n",
       "    </tr>\n",
       "  </thead>\n",
       "  <tbody>\n",
       "    <tr>\n",
       "      <th>0</th>\n",
       "      <td>AAL</td>\n",
       "      <td>NaN</td>\n",
       "      <td>1</td>\n",
       "    </tr>\n",
       "    <tr>\n",
       "      <th>1</th>\n",
       "      <td>AES</td>\n",
       "      <td>NaN</td>\n",
       "      <td>2</td>\n",
       "    </tr>\n",
       "    <tr>\n",
       "      <th>2</th>\n",
       "      <td>AAR</td>\n",
       "      <td>Tirstrup</td>\n",
       "      <td>3</td>\n",
       "    </tr>\n",
       "    <tr>\n",
       "      <th>3</th>\n",
       "      <td>ZID</td>\n",
       "      <td>NaN</td>\n",
       "      <td>3</td>\n",
       "    </tr>\n",
       "    <tr>\n",
       "      <th>4</th>\n",
       "      <td>JEG</td>\n",
       "      <td>NaN</td>\n",
       "      <td>4</td>\n",
       "    </tr>\n",
       "    <tr>\n",
       "      <th>...</th>\n",
       "      <td>...</td>\n",
       "      <td>...</td>\n",
       "      <td>...</td>\n",
       "    </tr>\n",
       "    <tr>\n",
       "      <th>3582</th>\n",
       "      <td>ALA</td>\n",
       "      <td>Almaty International Airport</td>\n",
       "      <td>82</td>\n",
       "    </tr>\n",
       "    <tr>\n",
       "      <th>3583</th>\n",
       "      <td>HLA</td>\n",
       "      <td>Lanseria International Airport</td>\n",
       "      <td>3470</td>\n",
       "    </tr>\n",
       "    <tr>\n",
       "      <th>3584</th>\n",
       "      <td>IPC</td>\n",
       "      <td>Mataveri International Airport</td>\n",
       "      <td>3474</td>\n",
       "    </tr>\n",
       "    <tr>\n",
       "      <th>3585</th>\n",
       "      <td>VII</td>\n",
       "      <td>NaN</td>\n",
       "      <td>3247</td>\n",
       "    </tr>\n",
       "    <tr>\n",
       "      <th>3586</th>\n",
       "      <td>SAW</td>\n",
       "      <td>Istanbul Sabiha Gokcen International Airport</td>\n",
       "      <td>1348</td>\n",
       "    </tr>\n",
       "  </tbody>\n",
       "</table>\n",
       "<p>3587 rows × 3 columns</p>\n",
       "</div>"
      ],
      "text/plain": [
       "     Code                                          Name  city_id\n",
       "0     AAL                                           NaN        1\n",
       "1     AES                                           NaN        2\n",
       "2     AAR                                      Tirstrup        3\n",
       "3     ZID                                           NaN        3\n",
       "4     JEG                                           NaN        4\n",
       "...   ...                                           ...      ...\n",
       "3582  ALA                  Almaty International Airport       82\n",
       "3583  HLA                Lanseria International Airport     3470\n",
       "3584  IPC                Mataveri International Airport     3474\n",
       "3585  VII                                           NaN     3247\n",
       "3586  SAW  Istanbul Sabiha Gokcen International Airport     1348\n",
       "\n",
       "[3587 rows x 3 columns]"
      ]
     },
     "execution_count": 90,
     "metadata": {},
     "output_type": "execute_result"
    }
   ],
   "source": [
    "airports = pd.read_excel('Data dict - airport_codes_and_city_id.xlsx')\n",
    "airports"
   ]
  },
  {
   "cell_type": "code",
   "execution_count": 91,
   "metadata": {},
   "outputs": [
    {
     "data": {
      "text/html": [
       "<div>\n",
       "<style scoped>\n",
       "    .dataframe tbody tr th:only-of-type {\n",
       "        vertical-align: middle;\n",
       "    }\n",
       "\n",
       "    .dataframe tbody tr th {\n",
       "        vertical-align: top;\n",
       "    }\n",
       "\n",
       "    .dataframe thead th {\n",
       "        text-align: right;\n",
       "    }\n",
       "</style>\n",
       "<table border=\"1\" class=\"dataframe\">\n",
       "  <thead>\n",
       "    <tr style=\"text-align: right;\">\n",
       "      <th></th>\n",
       "      <th>city</th>\n",
       "      <th>state_prov</th>\n",
       "      <th>state_prov_abbreviation</th>\n",
       "      <th>country</th>\n",
       "      <th>city_id</th>\n",
       "    </tr>\n",
       "  </thead>\n",
       "  <tbody>\n",
       "    <tr>\n",
       "      <th>0</th>\n",
       "      <td>Aalborg</td>\n",
       "      <td>NaN</td>\n",
       "      <td>NaN</td>\n",
       "      <td>Denmark</td>\n",
       "      <td>1</td>\n",
       "    </tr>\n",
       "    <tr>\n",
       "      <th>1</th>\n",
       "      <td>Aalesund</td>\n",
       "      <td>NaN</td>\n",
       "      <td>NaN</td>\n",
       "      <td>Norway</td>\n",
       "      <td>2</td>\n",
       "    </tr>\n",
       "    <tr>\n",
       "      <th>2</th>\n",
       "      <td>Aarhus</td>\n",
       "      <td>NaN</td>\n",
       "      <td>NaN</td>\n",
       "      <td>Denmark</td>\n",
       "      <td>3</td>\n",
       "    </tr>\n",
       "    <tr>\n",
       "      <th>3</th>\n",
       "      <td>Aasiaat</td>\n",
       "      <td>NaN</td>\n",
       "      <td>NaN</td>\n",
       "      <td>Greenland</td>\n",
       "      <td>4</td>\n",
       "    </tr>\n",
       "    <tr>\n",
       "      <th>4</th>\n",
       "      <td>Abadan</td>\n",
       "      <td>NaN</td>\n",
       "      <td>NaN</td>\n",
       "      <td>Iran</td>\n",
       "      <td>5</td>\n",
       "    </tr>\n",
       "    <tr>\n",
       "      <th>...</th>\n",
       "      <td>...</td>\n",
       "      <td>...</td>\n",
       "      <td>...</td>\n",
       "      <td>...</td>\n",
       "      <td>...</td>\n",
       "    </tr>\n",
       "    <tr>\n",
       "      <th>3463</th>\n",
       "      <td>Lanseria</td>\n",
       "      <td>NaN</td>\n",
       "      <td>NaN</td>\n",
       "      <td>South Africa</td>\n",
       "      <td>3470</td>\n",
       "    </tr>\n",
       "    <tr>\n",
       "      <th>3464</th>\n",
       "      <td>Argyle</td>\n",
       "      <td>NaN</td>\n",
       "      <td>NaN</td>\n",
       "      <td>Saint Vincent and the Grenadines</td>\n",
       "      <td>3471</td>\n",
       "    </tr>\n",
       "    <tr>\n",
       "      <th>3465</th>\n",
       "      <td>Oranjestad</td>\n",
       "      <td>NaN</td>\n",
       "      <td>NaN</td>\n",
       "      <td>Caribbean Netherlands</td>\n",
       "      <td>3472</td>\n",
       "    </tr>\n",
       "    <tr>\n",
       "      <th>3466</th>\n",
       "      <td>St. John's</td>\n",
       "      <td>NaN</td>\n",
       "      <td>NaN</td>\n",
       "      <td>Antigua and Barbuda</td>\n",
       "      <td>3473</td>\n",
       "    </tr>\n",
       "    <tr>\n",
       "      <th>3467</th>\n",
       "      <td>Valparaiso</td>\n",
       "      <td>NaN</td>\n",
       "      <td>NaN</td>\n",
       "      <td>Chile</td>\n",
       "      <td>3474</td>\n",
       "    </tr>\n",
       "  </tbody>\n",
       "</table>\n",
       "<p>3468 rows × 5 columns</p>\n",
       "</div>"
      ],
      "text/plain": [
       "            city state_prov state_prov_abbreviation  \\\n",
       "0        Aalborg        NaN                     NaN   \n",
       "1       Aalesund        NaN                     NaN   \n",
       "2         Aarhus        NaN                     NaN   \n",
       "3        Aasiaat        NaN                     NaN   \n",
       "4         Abadan        NaN                     NaN   \n",
       "...          ...        ...                     ...   \n",
       "3463    Lanseria        NaN                     NaN   \n",
       "3464      Argyle        NaN                     NaN   \n",
       "3465  Oranjestad        NaN                     NaN   \n",
       "3466  St. John's        NaN                     NaN   \n",
       "3467  Valparaiso        NaN                     NaN   \n",
       "\n",
       "                               country  city_id  \n",
       "0                              Denmark        1  \n",
       "1                               Norway        2  \n",
       "2                              Denmark        3  \n",
       "3                            Greenland        4  \n",
       "4                                 Iran        5  \n",
       "...                                ...      ...  \n",
       "3463                      South Africa     3470  \n",
       "3464  Saint Vincent and the Grenadines     3471  \n",
       "3465             Caribbean Netherlands     3472  \n",
       "3466               Antigua and Barbuda     3473  \n",
       "3467                             Chile     3474  \n",
       "\n",
       "[3468 rows x 5 columns]"
      ]
     },
     "execution_count": 91,
     "metadata": {},
     "output_type": "execute_result"
    }
   ],
   "source": [
    "cities = pd.read_excel('Data dict - cities_with_city_id.xlsx', sheet_name='Sheet1')\n",
    "cities"
   ]
  },
  {
   "cell_type": "code",
   "execution_count": 92,
   "metadata": {},
   "outputs": [],
   "source": [
    "airports_modified = airports.copy()\n",
    "cities_modified = cities.copy()"
   ]
  },
  {
   "cell_type": "markdown",
   "metadata": {},
   "source": [
    "Let's make a copy of the dataset before making more changes."
   ]
  },
  {
   "cell_type": "code",
   "execution_count": 93,
   "metadata": {},
   "outputs": [],
   "source": [
    "dataset_with_origin_airport = dataset_origin_destination.copy()"
   ]
  },
  {
   "cell_type": "markdown",
   "metadata": {},
   "source": [
    "### Make new columns that indicates a match and extra location information"
   ]
  },
  {
   "cell_type": "code",
   "execution_count": 94,
   "metadata": {},
   "outputs": [],
   "source": [
    "import numpy as np\n",
    "dataset_with_origin_airport['Match'] = np.nan"
   ]
  },
  {
   "cell_type": "code",
   "execution_count": 95,
   "metadata": {},
   "outputs": [],
   "source": [
    "dataset_with_origin_airport[['OriginAirportCode', 'OriginCityId', 'DestinationAirportCode', 'DestinationCityId']] = np.nan"
   ]
  },
  {
   "cell_type": "code",
   "execution_count": 96,
   "metadata": {},
   "outputs": [
    {
     "data": {
      "text/html": [
       "<div>\n",
       "<style scoped>\n",
       "    .dataframe tbody tr th:only-of-type {\n",
       "        vertical-align: middle;\n",
       "    }\n",
       "\n",
       "    .dataframe tbody tr th {\n",
       "        vertical-align: top;\n",
       "    }\n",
       "\n",
       "    .dataframe thead th {\n",
       "        text-align: right;\n",
       "    }\n",
       "</style>\n",
       "<table border=\"1\" class=\"dataframe\">\n",
       "  <thead>\n",
       "    <tr style=\"text-align: right;\">\n",
       "      <th></th>\n",
       "      <th>AirlineName</th>\n",
       "      <th>CabinType</th>\n",
       "      <th>TravelType</th>\n",
       "      <th>DateFlown</th>\n",
       "      <th>OverallScore</th>\n",
       "      <th>SeatComfortRating</th>\n",
       "      <th>ServiceRating</th>\n",
       "      <th>FoodRating</th>\n",
       "      <th>EntertainmentRating</th>\n",
       "      <th>GroundServiceRating</th>\n",
       "      <th>...</th>\n",
       "      <th>Recommended</th>\n",
       "      <th>Review</th>\n",
       "      <th>TripVerified</th>\n",
       "      <th>Origin</th>\n",
       "      <th>Destination</th>\n",
       "      <th>Match</th>\n",
       "      <th>OriginAirportCode</th>\n",
       "      <th>OriginCityId</th>\n",
       "      <th>DestinationAirportCode</th>\n",
       "      <th>DestinationCityId</th>\n",
       "    </tr>\n",
       "  </thead>\n",
       "  <tbody>\n",
       "    <tr>\n",
       "      <th>0</th>\n",
       "      <td>AB Aviation</td>\n",
       "      <td>Economy Class</td>\n",
       "      <td>Solo Leisure</td>\n",
       "      <td>2019-11-01</td>\n",
       "      <td>9.0</td>\n",
       "      <td>4</td>\n",
       "      <td>5</td>\n",
       "      <td>4</td>\n",
       "      <td>0</td>\n",
       "      <td>4</td>\n",
       "      <td>...</td>\n",
       "      <td>yes</td>\n",
       "      <td>Moroni to Moheli. Turned out to be a pretty de...</td>\n",
       "      <td>Trip Verified</td>\n",
       "      <td>Moroni</td>\n",
       "      <td>Moheli</td>\n",
       "      <td>NaN</td>\n",
       "      <td>NaN</td>\n",
       "      <td>NaN</td>\n",
       "      <td>NaN</td>\n",
       "      <td>NaN</td>\n",
       "    </tr>\n",
       "    <tr>\n",
       "      <th>1</th>\n",
       "      <td>AB Aviation</td>\n",
       "      <td>Economy Class</td>\n",
       "      <td>Solo Leisure</td>\n",
       "      <td>2019-06-01</td>\n",
       "      <td>1.0</td>\n",
       "      <td>2</td>\n",
       "      <td>2</td>\n",
       "      <td>1</td>\n",
       "      <td>0</td>\n",
       "      <td>1</td>\n",
       "      <td>...</td>\n",
       "      <td>no</td>\n",
       "      <td>Moroni to Anjouan. It is a very small airline....</td>\n",
       "      <td>Trip Verified</td>\n",
       "      <td>Moroni</td>\n",
       "      <td>Anjouan</td>\n",
       "      <td>NaN</td>\n",
       "      <td>NaN</td>\n",
       "      <td>NaN</td>\n",
       "      <td>NaN</td>\n",
       "      <td>NaN</td>\n",
       "    </tr>\n",
       "    <tr>\n",
       "      <th>2</th>\n",
       "      <td>AB Aviation</td>\n",
       "      <td>Economy Class</td>\n",
       "      <td>Solo Leisure</td>\n",
       "      <td>2019-06-01</td>\n",
       "      <td>1.0</td>\n",
       "      <td>2</td>\n",
       "      <td>1</td>\n",
       "      <td>1</td>\n",
       "      <td>0</td>\n",
       "      <td>1</td>\n",
       "      <td>...</td>\n",
       "      <td>no</td>\n",
       "      <td>Anjouan to Dzaoudzi. A very small airline and ...</td>\n",
       "      <td>Trip Verified</td>\n",
       "      <td>Anjouan</td>\n",
       "      <td>Dzaoudzi</td>\n",
       "      <td>NaN</td>\n",
       "      <td>NaN</td>\n",
       "      <td>NaN</td>\n",
       "      <td>NaN</td>\n",
       "      <td>NaN</td>\n",
       "    </tr>\n",
       "  </tbody>\n",
       "</table>\n",
       "<p>3 rows × 22 columns</p>\n",
       "</div>"
      ],
      "text/plain": [
       "   AirlineName      CabinType    TravelType  DateFlown  OverallScore  \\\n",
       "0  AB Aviation  Economy Class  Solo Leisure 2019-11-01           9.0   \n",
       "1  AB Aviation  Economy Class  Solo Leisure 2019-06-01           1.0   \n",
       "2  AB Aviation  Economy Class  Solo Leisure 2019-06-01           1.0   \n",
       "\n",
       "   SeatComfortRating  ServiceRating  FoodRating  EntertainmentRating  \\\n",
       "0                  4              5           4                    0   \n",
       "1                  2              2           1                    0   \n",
       "2                  2              1           1                    0   \n",
       "\n",
       "   GroundServiceRating  ...  Recommended  \\\n",
       "0                    4  ...          yes   \n",
       "1                    1  ...           no   \n",
       "2                    1  ...           no   \n",
       "\n",
       "                                              Review   TripVerified   Origin  \\\n",
       "0  Moroni to Moheli. Turned out to be a pretty de...  Trip Verified   Moroni   \n",
       "1  Moroni to Anjouan. It is a very small airline....  Trip Verified   Moroni   \n",
       "2  Anjouan to Dzaoudzi. A very small airline and ...  Trip Verified  Anjouan   \n",
       "\n",
       "  Destination Match OriginAirportCode  OriginCityId  DestinationAirportCode  \\\n",
       "0      Moheli   NaN               NaN           NaN                     NaN   \n",
       "1     Anjouan   NaN               NaN           NaN                     NaN   \n",
       "2    Dzaoudzi   NaN               NaN           NaN                     NaN   \n",
       "\n",
       "   DestinationCityId  \n",
       "0                NaN  \n",
       "1                NaN  \n",
       "2                NaN  \n",
       "\n",
       "[3 rows x 22 columns]"
      ]
     },
     "execution_count": 96,
     "metadata": {},
     "output_type": "execute_result"
    }
   ],
   "source": [
    "dataset_with_origin_airport.head(3)"
   ]
  },
  {
   "cell_type": "markdown",
   "metadata": {},
   "source": [
    "## Search for matches from the airport table\n",
    "\n",
    "Before we search for matches from the table, let's make a list of all the codes and turn it into regex so that we can use it to search."
   ]
  },
  {
   "cell_type": "code",
   "execution_count": 97,
   "metadata": {},
   "outputs": [
    {
     "data": {
      "text/plain": [
       "'AAL|AES|AAR|ZID|JEG|ABD|ABA|YXX|ABR|ABZ|AHB|ABJ|ABI|AUH|ABS|ABV|ACA|AGV|ACC|ADK|ADA|ADD|ADL|ADE|AZR|AFT|AGA|IXA|AUP|AGF|AGR|AJI|BQN|AGU|AGJ|AMD|AWZ|AIM|AEO|AIC|AIT|AJL|AJA|KKI|AKI|AXT|ABE|AKU|ABE|AKV|AEY|KQA|AAN|AAC|AAY|AHU|AUK|ALM|ALS|ABT|ALB|CVO|QWY|ABQ|ABX|ACI|XLY|WKK|ALP|ALJ|AEX|ALY|XFS|AXD|FJR|AHO|ALG|ALC|ASP|AET|ABE|AIA|YTF|LEI|ARD|AOR|GUR|APN|ALF|ATM|AAT|ACH|ARR|AKX|ASJ|AMA|AZB|IVA|AMY|WAM|ABL|AMQ|ASV|AMV|ADJ|AMM|ATQ|AMS|DYR|YAA|AKP|HVA|AAQ|ANC|AOI|ANX|AZN|ASD|AUY|JHE|ANE|QXG|AGD|AQG|YAX|AGN|ANG|AXA|ANI|AWD|AKA|ANK|ESB|JVA|AAE|NCY|ANM|AYT|TNR|ANF|WAQ|DIE|WAI|ANR|ZAY|ANV|AOJ|AOT|APO|APW|FGI|ATW|AQJ|AJU|ARU|ARW|ARP|AUX|AAG|RAE|AUC|AMH|ACV|YAB|ARC|ADU|AQP|AGH|GYL|ARI|ARH|AXM|ARM|ATC|RUA|AUA|ARK|YEK|AJR|AKJ|CRK|ASB|ASM|ASO|ASE|ATZ|TSE|ASF|OVD|ASU|ASW|AXK|AHN|ATH|AIU|AKB|ATL|AIY|ATD|ATK|YAT|AUQ|GUW|AKL|AGB|AGS|AUG|AKS|YPJ|AUL|IXU|AUR|AUU|AUS|AVN|AYW|AYQ|BXB|BCD|BJZ|BXD|BDD|IXB|YBG|BJR|BHV|BHI|BFQ|BSC|BAH|BAY|YBC|VMU|YBK|BFL|BAK|BAS|BZI|BPN|OPU|BNK|BBA|BWI|BXR|ABM|BKO|BTJ|BND|TKG|BDH|BWN|BDO|BLR|BPX|BKK|BGR|BNX|BDJ|BJL|BMV|BNP|BGF|BSD|BAV|BHB|BCA|BCI|BCN|BLA|BDU|BRI|BNS|BBN|BZL|BAX|BRM|BRR|BCL|EJA|BAQ|BRA|BRW|BTI|BSO|BSL|ZDH|BUZ|BIA|BTH|ZBF|BHS|BRT|BAL|BLJ|BXM|BTR|BJF|BBM|BUS|BPF|BAU|AOO|BYM|BYU|XBE|AOO|WBQ|ZBV|CBH|BKW|BED|BEU|EIS|BEI|LAQ|BHY|PEK|BEW|BEY|BJA|BLG|BEL|BMY|BFS|BHD|EGO|BEG|BZE|TZA|ZEL|QBC|BLV|XVV|BLI|BNY|BMD|AVL|PLU|BJI|BEB|BEN|BKS|BEH|BEJ|BBO|YBV|BGO|EGC|BVG|BER|SXF|THF|TXL|AVL|BRN|ZDJ|BPY|BET|AVP|BTT|BZR|BDP|BWA|BMO|BHR|BHU|BHO|BBI|BHJ|BIK|BIQ|YTL|BII|BIO|BIL|BLL|AVP|BMU|BIM|NSB|BDA|BTU|NTI|BIR|KBC|BVI|BHM|BHX|BHH|FRU|BSK|BIS|OXB|YBI|BKQ|BLK|BLT|BQS|YBX|BLZ|BHE|BDA|BID|BFN|BMI|BDL|BVC|BOV|BVB|BOC|BOO|BJV|BOG|GIC|BOI|BJB|BUI|BWK|BZO|BOA|BDL|BON|YVB|BNJ|BOB|BOD|HBE|BMK|BLE|RNN|BOX|BSA|BOS|WBU|WHH|XHH|BQL|BYA|BOJ|BRK|BOH|BWG|BZN|BCQ|BFD|BRD|XPN|BMP|YBR|XFV|BSB|BTS|BTK|BWE|BZV|QKB|BRE|BES|BWQ|BGI|BDS|BNE|BRS|BGM|BVE|BRQ|ZDN|YBT|XBR|BHQ|BNN|BKX|RBH|BME|BRO|BWD|BQK|BHG|BRU|CRL|ZYR|BGA|BBU|OTP|BKC|BUD|AEP|EZE|BUF|BGM|BJM|BUA|BHK|BKZ|BUQ|BGM|IFP|BDB|BXZ|BUO|BUR|LEV|BFV|BUC|BRL|BTV|BWT|YPZ|PUS|BTM|BXU|BZG|BJX|CFR|CGY|CAG|CNS|CAI|CJA|CBQ|CJC|BJX|YYC|CLO|CLY|CMW|CBG|YCB|CRD|YBL|XAZ|CAL|CPE|CPV|CPQ|CGR|CAW|BLF|CBR|CUN|CEQ|JCA|QYW|CIW|BLF|CAP|YTE|CGI|LUR|EHM|CPI|CPT|CVL|XAW|CCS|CKS|MDH|CCF|CWL|CLD|CNM|BOM|CVQ|RIK|CTG|YRF|CUP|BOM|CMN|CAC|CSI|CPR|XZB|CST|YCG|DCM|YAC|CTC|CTA|CAQ|CXJ|CAY|CYB|CYO|CEB|CDC|CID|CED|CEM|JCU|CDR|ZBR|CIK|CMF|XCI|BPT|IXC|XDL|CGQ|CGD|CHX|CZX|CHQ|CHG|XAP|YLD|CHS|CRW|CTL|CLT|CHO|YHG|YYG|XCM|CHT|CHA|CSY|CYF|CEK|XHS|MAA|CJJ|BPT|CTU|CEG|YCS|CTM|VAK|CAK|YHR|CYS|CMJ|CNX|CEI|CYI|YMT|CGX|CHI|MDW|ORD|CIX|CKX|CIC|CIF|KCG|KCL|KCQ|CUU|YAI|CIP|CZN|YKU|CAK|KIV|HTA|CJL|CTD|CGP|CHY|CKG|CHC|XCH|CHU|XAD|YYQ|ZUM|ICI|AVI|CVG|IRC|CHP|CBL|CME|AGT|CJS|CEN|CVM|CLP|CKB|CAS|CFE|CVC|CLE|CNJ|CVN|CMK|CLJ|YCY|CAZ|CIJ|XGJ|CBB|COK|CNC|Keeling Islands|CAS|CUQ|CFA|KCC|CFS|CJB|CDB|CLQ|CLL|CGN|QKL|CMB|ONX|COS|CAE|COU|CMH|CSG|GTR|YCK|YQQ|CKY|CCP|CCR|CNK|CCU|COG|CND|CZL|OTD|CPD|CTN|OOM|CNB|CPH|CPO|QCE|YZS|COR|CDV|ORK|YCC|CZE|CZH|CRP|CNQ|CEZ|CMG|CVU|CBO|CCU|XGK|YCA|CXB|CZM|CGA|CCV|YXC|CEC|CCM|CKI|CKO|CRI|YCR|CRV|CZS|CUW|CUC|CUE|CVJ|CGB|CUL|CUM|CBE|CMA|CUR|CWB|CUZ|DAD|DRH|TAE|DKR|VIL|DLM|DLU|DLC|CEE|DAM|DMM|DGA|DAR|NLF|DAU|DRW|DTD|YDN|DVO|DAV|YDI|TVY|YDA|YDQ|DAX|DYG|DDI|DAY|DAB|SCC|LGI|DOL|DBM|DBT|DEC|YDF|YVZ|DRG|DEZ|DEL|YWJ|DJN|DEM|DNM|DNZ|DAL|DEN|QWM|DEA|DSK|DRB|DER|DSM|DSE|DTT|DTW|DVL|DPO|DAC|DIB|DIK|DPS|DIJ|DIL|DLG|DLY|DMU|DNR|DPL|DIR|DIU|DIY|DJG|DJE|JIB|DNK|DOB|DDC|DDM|DOD|DOH|DCF|DOM|CFN|DOK|DOG|DMD|DTM|DHN|DOU|DLA|DRS|XDM|YHD|DXB|DBO|DUB|DUJ|DBV|DBQ|DLH|DGT|DUM|DUQ|DND|DUD|DNH|DKI|DGO|DRO|DUR|CEE|CMI|DYU|DUS|MGL|QDU|DUT|DZA|ELS|ZEM|CMI|EAU|EBO|EOI|EDI|XZL|YEG|EDA|EDO|EDR|EEK|EGS|EIN|EIB|SVX|KKU|KEK|EHL|CNF|ELD|ELF|EMX|EBD|ELU|ELP|ELE|ESR|VIG|EYP|ETH|EZS|EBA|ELC|EDL|CNF|ELV|ELI|ESL|EKO|ELM|LYU|EAE|EMS|EMD|EMK|EMO|EWI|ENE|COC|ENT|WDG|ENF|ENH|EBB|ENU|EPL|ECN|ERF|ERI|ERC|ERZ|EBJ|ZBB|ESC|ESM|EPR|SON|EQS|YPF|EUG|EUE|EVV|EXT|EWE|EXM|VDB|FIE|FAI|LYP|FAJ|FKQ|FAV|RVA|FAR|FAO|FAE|FAY|FYV|XNA|FRE|FEG|FEN|FEZ|WFI|FSC|FZO|XFW|FIZ|FLG|FLF|YFO|FNT|FLO|FLR|COC|COD|FLA|FRS|FLW|FLN|FRO|FOG|ZFD|FDE|FMA|YFA|YPY|COD|CWA|FTU|FDF|FOD|YAG|YGH|YFH|FLL|TBN|YMM|RSW|YYE|YER|YFS|FSM|YSM|YXJ|CWA|FWA|DFW|FOR|FRC|MVB|FRW|FRA|HHN|FKL|ZBJ|YFC|XFC|FPO|FNA|FAT|FDH|DFW|FUJ|FUK|FKS|FUN|FNC|FTA|FUT|FUG|FOC|GBE|GAF|GGN|GNV|GPS|GEV|GUP|GWY|GAX|GMB|GAN|YQX|KAG|GHE|GAR|GRL|GCK|ELH|GPN|ELH|GYY|XDD|YGP|ELQ|ZGU|GAU|GZA|GZT|GDN|GEB|GDZ|EGN|GES|GVA|GOA|GRJ|GGT|GEO|XHM|GET|GRO|ZGS|LTD|GHA|GHT|GIB|GIL|YGX|GCC|YGB|GIS|GIZ|GZO|YHK|FNL|GLT|GGW|GLA|PIK|GLI|XZC|GDV|GOI|GOB|GGS|GDE|YGO|ZGI|GYN|OOL|GLF|GOQ|GLV|GOE|GDQ|GNU|YYR|GOR|GKA|GTO|GOT|GSE|GBL|GUD|FNL|GVR|GHB|OYA|GZM|GRW|GFN|GRX|GCN|JGC|GCM|GFK|GRI|GJT|GPZ|GRR|GDT|YQU|KGX|GRZ|GTF|GRB|FUE|GLH|FUE|PGV|GNB|GFF|XGY|GRY|YGZ|JGR|GRQ|GTE|GGG|GDL|GUM|GJA|GGG|CAN|GAO|GUA|GYE|GYA|GYM|XIA|GCI|GUB|KWL|GUI|GGG|ULU|KWE|GUC|KUV|URY|GST|GWD|GWL|KWJ|KVD|LWN|HPA|HAC|HGR|HFS|HFA|HAK|HAS|HLD|GON|HNS|DIN|HKD|ZHQ|XDG|YHZ|YUX|HCQ|HAD|HAM|LBC|GON|HLZ|YHM|HTI|HFT|GOV|HNM|PAK|CMX|HGH|HAQ|HPH|HAJ|GOV|HZG|HRE|HRB|HGA|HRL|MDT|HRO|EVE|GPT|HME|HAA|HDY|HTR|HAU|HAV|HAE|HVR|YGV|YHY|HDN|HIS|HYS|HKB|HFE|HDB|HLN|HGL|HEL|GPT|HAN|HER|HDF|HMV|HMO|XAK|XDU|HVB|GSO|HKY|YOJ|GSO|ITO|HHH|HIJ|HIW|HIT|HEH|HBA|HBB|HOD|HDS|HOQ|HOF|HET|HKK|HOG|HYL|YHI|HCR|HOM|HKG|HIR|HVG|HNL|HOK|MKK|HNH|HPB|YHO|HID|HFN|HOR|HKN|HOT|HTN|HOE|HUQ|HOU|IAH|ZHO|HUH|HUN|HHQ|HUU|HYN|HUX|HUV|YHB|SGN|HGD|HUS|HLF|HUY|HTS|HSV|HRG|HON|HSL|HWN|HYA|HYG|HYD|IAS|IBE|IBZ|IDA|IAA|IGG|YGT|IGU|IGR|IHU|ILP|YGR|ILF|IOS|ILI|ILA|ILO|IUL|JAV|IMP|GSP|IMF|IAM|IGA|INX|IDN|IND|IDR|XIB|INN|INA|INL|YPH|YEV|IVC|IVR|INV|IYK|IOA|IOP|IPN|IPI|IPE|IPH|IPA|YFB|IQQ|IQT|IKT|IMT|IWD|IFJ|IFN|ISG|ISB|GSP|ILY|IOM|ISC|TSO|ISP|IST|ITB|ITH|ITK|IVL|IFO|YIK|IWJ|HIB|IZT|ADB|IZO|JAT|JCR|JAN|MKL|JAC|JAX|OAJ|JAG|JAQ|JAI|CGK|JAL|UIT|DJB|JHW|JMS|JGA|JKR|JVL|JQE|XDH|DJJ|JED|JEJ|CJU|XRY|JER|JSR|JMU|JGN|GJL|JIJ|JIM|TNA|JDZ|JHG|JIN|JJN|HIN|BCO|JNZ|JPR|JIW|JPA|JDH|JOE|JNB|HIB|IPL|JON|JST|JHB|JOI|XJL|IXJ|JMO|JBR|JKG|XJQ|JLN|JRH|JSM|AJF|JDO|JUI|JDF|JUJ|JCK|JUL|JNU|JUZ|JYV|KDM|KBT|ABK|KBL|KBM|KCF|KDO|KCM|IPL|KZF|KAT|KAJ|KAE|KNK|AZO|LUP|KAX|KGD|KLG|KAL|KBX|KAC|YKA|MUE|KCD|KUY|XGR|YWB|YKG|KAN|MCI|JHM|YYU|KHI|KDL|KAB|FKB|AOK|KBF|KXA|ZKB|XKS|KAA|BBK|ZKE|KUK|KTR|KTM|KTW|LEB|KUN|KVA|KVG|KAW|ASR|KZN|EAR|EEN|KEW|EFL|ZKG|YLW|ENA|KDI|YQK|CFU|KTN|EYW|QKS|HJR|UVL|HRK|LBD|KDD|IAN|IEV|KBP|KGL|TKQ|LEB|JRO|ILE|LEB|KVC|AKN|KIF|IGM|LED|KIN|KTP|XEG|YGK|FIH|KPN|IRA|IRK|KTD|YKF|KTT|UNG|KVL|KWY|LMT|KLW|YKT|NOC|TYS|OBU|KCZ|ADQ|USM|QJY|KXK|KOA|KKH|KYA|ROR|OSZ|KBR|BKI|KOT|OTZ|KWM|KYU|CCJ|KBV|KRK|KWG|KUL|TGG|KUA|KUG|KCH|KUD|AKF|YBB|YCO|KUS|UEO|CMU|KUO|KUQ|KUH|KUT|YVP|YGW|KAO|KWI|KWA|KWT|KWK|KYZ|LCE|LCG|LSE|YGL|PLP|LAP|LPB|IRJ|LRM|YVC|LSC|ZLT|YLQ|EUN|LBS|LAB|LBU|LBJ|XLB|XEE|YLE|XEH|LAE|LML|LAF|LFT|LAJ|LGQ|ING|LOS|LDU|LHE|LCH|HII|LMA|LKB|LKL|LLI|LPM|LNB|SUF|LIH|LMP|LAU|LNY|LNS|LEQ|XEJ|LUV|LGK|LAI|YLH|LAN|ACE|LHW|ZGC|LAO|LPP|LAR|LKA|LRD|LCA|LRH|LPA|LSP|LAS|LTK|LBE|LUC|LST|PIB|LVO|LWY|LAW|LEH|ZLN|LPY|LTQ|YLR|LEA|LBA|LGP|IXL|LER|LEJ|LKN|LXS|LPI|LNO|YQL|LET|KLL|LWB|LWS|LWT|LEX|LXA|LYG|LBL|LIR|LBV|VXC|LGG|LIF|LHG|LNV|MAF|LJG|LIK|LIL|XDB|LLW|LIM|LMN|LIG|LNK|LDC|LDI|MAF|LYI|LNZ|LIS|LSY|LIT|LZH|LPL|LVI|LZR|HUI|YLL|IRG|LOF|LOH|LFW|BQH|LCY|LGW|LHR|LON|LTN|STN|XDQ|YXU|LDY|QQP|LDB|LPU|LBP|LBW|LGB|HAP|LGL|ODN|LOD|LRE|MBS|LYR|LNE|LPS|LDH|LTO|LRT|LAX|MBS|LMM|LSA|SDF|LDE|MBS|MFE|LZC|LAD|LXG|LPQ|LBB|LKO|LUD|LUG|VSG|LUA|LLA|FBM|LYA|LUN|YSG|LUW|LUX|LUM|LXR|LZO|LWO|LYC|LYS|XYD|MST|UBB|MCP|XMS|MFM|MCZ|MCH|MKY|MCN|MAG|MED|MSN|MDJ|MAD|IXM|HGN|MAQ|MWF|MFA|GDX|MQF|VVB|SEZ|MXT|MMO|MJE|MJN|MAJ|MQX|MCX|MKU|MZG|SSG|MKZ|AGP|MAK|LGS|MLX|MLE|MYD|MMX|MAV|PTF|MLA|WMP|MNF|MDC|MGA|WVK|WMR|NGX|MNJ|MAO|MAN|MHT|MDL|WMA|MGS|IXE|MAY|MNR|MFO|MHK|XMH|MHX|MNL|MNG|MBL|MZL|MJA|MKT|MLY|MHG|KMO|MKW|MSE|MEC|MAS|MZO|ZLO|MTS|AMO|MXS|MPM|MDQ|MRE|MAB|MAR|MYC|MEE|MGH|MBX|MHQ|JSU|MII|MGF|MWA|MPW|WMN|MVR|MQT|MRS|MHH|MLL|MVY|MFE|MUR|MBH|YMH|MBT|MSU|MHD|MCW|MSS|MAM|AMI|MMJ|MYJ|MUN|MRY|MUK|MNU|MOF|MUB|MAU|MRU|XID|MYG|MAZ|MZT|MDK|MJM|MRY|MCV|MCK|MCG|MES|EOH|MDE|MFR|YXH|MKR|MEH|MXZ|MJB|MKS|MYU|MEL|MLB|MLN|XEK|MMB|MEM|MDU|NDM|MDZ|MAH|MYX|MKQ|MWE|MCE|RDE|MID|MRD|MEI|MIM|MUH|MTM|ETZ|MXL|MEX|WMK|MFU|MIA|MPB|ZVA|MDS|MSL|MSL|MDY|MIK|JMK|BGY|LIN|MXP|MSL|MQL|MLS|MIJ|MGT|MKE|MMD|MTT|MDP|MRV|MSP|MOT|MHP|MSQ|MNT|XEY|MYY|MJZ|MSJ|MIS|OGG|MSO|MRA|MOI|MYE|MMY|MTF|MQN|MOA|CNY|MFJ|ONI|MFF|MNB|MOB|MOD|MGQ|MJD|MPK|OKU|MOL|MLI|MBA|MIR|MBE|LOV|XDP|YQM|MJK|MNY|MLU|ROB|YYY|MCM|MEU|MBJ|OXR|MTR|MTY|MOC|MVD|MGM|MPL|XAX|XLM|YMQ|YMX|YMY|YUL|MTJ|MNI|MOZ|YMO|MZI|MXX|TVA|MXM|MOV|MRZ|MLM|MGW|HNA|ONG|MXH|MOQ|HAH|MYA|BKA|DME|MOW|SVO|VKO|MWH|MJF|OMO|MTV|MJL|MON|MGB|HGU|MHU|ISA|WME|MMG|MPN|WMH|MOU|MPA|MYW|MVS|MDG|DGE|FMO|MKM|MLH|LII|MUX|MZV|OXR|MUA|MUC|MJV|MMK|MYI|MSR|MCT|PHF|MKG|MSA|MUZ|MFG|MWZ|MGZ|MYT|MYR|MJT|ZZU|NBX|MNC|NDR|NAN|NYM|WNP|NGS|NGO|NAG|YDP|NBO|WIL|NAJ|NAK|NST|YQN|NAL|NMA|ATN|NDK|APL|OSY|NDI|NNT|YCD|ZNA|NAO|YSR|NKG|NNG|JNN|NTE|QJZ|NTG|ACK|NNY|NYK|WNA|XIF|PKA|NPE|APF|NAP|NAW|NAA|JNS|UAK|NVK|NNM|BNA|NAS|PHF|MAT|NAT|YNA|NKI|INU|NVT|WNS|NUX|NDJ|NLA|CNP|NFG|EGL|NEG|NVA|EAM|NSN|NLG|NLP|EMN|YNS|NER|NQN|NEV|XEL|NCN|HVN|KGK|PHF|MSY|NPL|XEM|KNW|JFK|LGA|NYC|EWR|PID|BEO|NCL|NTL|ZNE|PID|NQY|WWT|NGE|NGI|RPM|LJU|XLV|NIM|NCE|NIC|NME|NIB|IKO|FNI|NGB|NIX|NFO|NTT|IUE|NJC|GOJ|WTK|NOJ|OME|NNL|ORV|PIE|NRD|NDZ|OFK|ORF|NLK|NSK|YVQ|NTN|NRK|NUS|YYB|OTH|NCA|NHA|LBF|NRL|YNO|ORT|YNE|NWI|NOB|NOS|EMA|NDB|NKC|GEA|NOU|NVR|NOZ|OVB|GER|NLD|NUI|NHV|TBU|NCU|NUL|NUB|NUP|NNX|NUE|ZAQ|GOH|UYL|NYU|NYN|OAK|OAX|OBD|OBO|OCJ|ZBQ|PMF|ODS|OGS|YOG|OHD|OIT|OKQ|OKJ|OHO|OKA|OKC|OIR|OKL|OLB|YOC|OLJ|OLP|OMA|OMB|OMS|OND|ONT|YBS|OMR|ORN|OAG|PMF|OMD|ORB|REN|MCO|ORL|ORW|OER|OSW|HOV|ITM|KIX|OSA|YOO|OIM|OSH|OSI|OSK|OSL|TRF|OSD|OSR|XDS|YOW|OTM|OTU|OUA|OGX|OZZ|ODY|OUD|OUL|UVE|VDA|OWB|YOH|POS|OYE|PBJ|JFR|PDG|PAD|PAH|PGA|PPG|PKZ|YIF|PAF|PCH|PKY|PLQ|PLM|PQM|PMO|PSP|PMI|PMZ|PMW|PMR|PLW|PNA|PAC|PFN|PTY|PKN|PGK|YXP|PJG|PNL|PPW|PPT|PFO|PAJ|PBO|POS|ORG|PBM|PRA|PRS|XFE|BVA|CDG|ORY|PAR|PKB|XPB|PHB|PBH|PSC|PSI|AOL|PFB|PSO|PAT|GPA|PUF|YPC|PWQ|YPE|YPO|PEX|PDB|PKU|PEC|PLN|PET|PMA|POL|YTA|PEN|PDT|PYE|PNS|YYF|PZE|PIA|XFG|PEI|PGX|PMQ|PEE|PGF|KPV|PER|PEG|PSR|PEW|PSG|PNZ|PKC|PES|PHW|PHL|PSA|PHS|PNH|PHX|PRH|SFB|HKT|YPL|PIX|PDS|PIR|PZB|PTG|YPM|PIP|UGB|PQS|PIF|PSA|PIT|THU|PIU|PLJ|PTU|PLB|PQC|PBZ|PLH|PIH|TGD|PNI|KPB|PHO|PIZ|PNR|PTP|XPX|YNL|PIS|XOP|PKR|PLV|PYJ|PNC|PSE|YIO|PDL|PMG|PNK|YHP|PNP|TAT|PBD|POR|PMV|YPB|PTA|CLM|POT|QWF|PAP|PUG|WPB|IXZ|KPC|PLZ|POG|PHC|YZT|PHE|PTH|YHA|PLO|PQQ|YPN|PML|POM|QWF|PPV|PSY|PZU|VLI|PCA|PDX|PTJ|PWM|OPO|POA|PXO|BPS|PVH|PVO|PSM|PSS|YSO|POU|YPX|YPW|PAZ|POZ|PRG|RAI|PXU|PRC|XII|PPB|PQI|PVK|YPA|XDV|YXS|XDW|YPR|RDU|PRN|PPP|PVD|PLS|PVC|PCL|PBC|PUB|PYH|PBE|RDU|PUD|PXM|PJM|PEU|PMY|PEM|PMC|PZO|POP|PPS|PSZ|PVR|XPK|PUY|PUW|PNQ|PUQ|PUJ|PDP|PND|PBP|PUT|PSU|FNJ|AQI|JJU|IQM|YVM|TAO|NDG|XQU|YQC|XFY|XLJ|XLK|YFZ|YQB|ZQN|UEL|XQP|QRO|YQZ|UET|PRQ|UIB|UIP|UIN|KWN|ULP|UIO|RBP|RBA|RAB|RDU|RAT|YRA|RAH|RJN|RFP|YOP|RAJ|RJH|SJD|RBV|RAM|RMP|IXR|YRT|UNN|RAP|RAR|RKT|RAS|RBE|RAZ|RDG|RBJ|REC|RCQ|RDV|YRL|YRS|RDD|RDM|REG|YQR|RNL|RNS|RNO|YUT|RES|YRB|REU|KEF|REX|RHI|RHO|RAO|RIB|RCB|RCM|RIC|RIX|YRG|RJK|RMI|YXK|RBR|RCU|GIG|RGL|RGA|RIG|ROY|RVD|RCH|RIS|RIW|XRP|RUH|RIY|RNE|ROA|RTB|YRJ|SJD|RCE|ROC|RST|RSD|RKS|ZRF|ZRK|ROK|RKD|RDZ|RRG|RVK|ZXM|RMA|CIA|FCO|ROM|RNP|RNB|RRS|RUR|ROS|RSJ|RPN|RET|RLG|ROV|ROW|ROP|ROT|RTM|URO|ZRJ|SNA|RVN|RBY|RSH|RUT|SZT|QFZ|ZPB|YSY|XKV|SMF|SNA|STC|STT|SGU|STG|XIM|YSJ|YYT|YSL|STL|SLU|SXM|KSM|SMK|SNP|UIH|STX|LTT|XPZ|SPN|SNO|SLY|SLE|SLN|SBY|YZG|SLX|SLC|SLW|SSA|SZG|EPS|KUF|SVB|UAS|SMI|ADZ|SJT|SAT|SVZ|OES|BRC|SAN|SFO|SJC|SJO|SYQ|SJU|UAQ|ULA|LUQ|SBP|SLP|SAI|CPC|NMG|SAP|AFA|SAL|ZSA|EAS|SAH|SDP|NDY|ZSJ|YSK|NNB|VKG|SBA|VKG|VVI|SPC|SAF|RIA|SMA|SMX|SMR|RSA|STS|STM|SMS|SCL|STI|GEL|NTO|HEX|SDQ|STD|SYX|SNE|CGH|GRU|VCP|TMS|VXE|CTS|OKD|SSR|SLK|SRQ|RTW|ZRM|XDX|YZR|YXE|SUJ|SWG|SLZ|CIU|YAM|SXK|SAV|ZVK|SVL|SVA|SVU|ZBY|SCM|YKL|BFF|SDL|SUN|LKE|SEA|EGM|GXF|WLK|QFK|SRG|ZEG|XFK|GMP|ICN|SEL|YZV|ZRI|SZM|SVQ|SWD|SHX|SKK|ZTM|PVG|SNN|SWA|SSH|XFL|XFM|SUN|SZD|SXP|SZX|SHR|LSI|LWK|HIL|CIT|SYZ|SHH|SYO|SHV|SHG|JHQ|REP|IXS|SVC|SYM|NKD|SIN|XSP|SQG|SUX|FSD|YXL|JHS|SIT|AKY|VAS|SGY|JSI|SKP|KVB|SZK|SLQ|SXL|YSH|YYD|YFJ|DWB|AER|SOO|SOF|SOG|SOC|STB|SOJ|SOD|TZN|SBN|XSC|SOU|XSI|SOI|WSN|SOP|SWF|SPU|GEG|AXP|SGF|SPI|SXR|SQH|YAY|YCM|RUN|SKB|YFX|SWF|XIO|PIE|TRI|FSP|SVD|STX|EBU|TRI|EUX|TRI|SCE|SHD|SVG|STW|YST|SBS|WBB|SML|YJT|TTN|SVS|TTN|ARN|BMA|STO|SCK|YSF|SRV|SYY|SQO|SXB|XER|XTY|SOY|TNX|STR|ZWS|VAO|SRE|XDY|YSB|SYU|SUL|THS|SUR|NTY|UUA|MCY|SUB|URT|SUV|EVG|SVJ|ZJN|SYD|YQY|ZYL|SYR|SZZ|TCP|TBJ|TBT|TBO|TBZ|TBG|TUU|TCG|THL|TAC|TCQ|XTL|TXG|TIF|TNN|TPE|TSA|TTT|TYN|TAI|TCT|TKA|TLH|TLL|YYH|TMR|TNO|TMM|WTA|TMC|TMU|TPA|TMP|TAM|TMW|TMH|TAL|TNG|TJQ|TJS|TAH|TSM|TAP|TRK|TRA|TAR|TPP|TRW|TRO|TIZ|TJA|TAS|YTQ|TEK|TUO|TRG|TVU|TWU|TEE|TBS|TCH|TEU|MME|TFF|TGU|THR|TKB|TLV|KTS|TEX|TIM|TXM|ZCO|TKE|TFN|TFS|TCA|TPQ|TER|THE|TMJ|TTE|YXT|HUF|TDB|TET|ZTB|TEH|TTU|TXK|TEZ|SNW|THG|XTG|TBI|XDZ|YQD|SKG|YTD|TVF|JTR|TRV|YTH|KTB|THO|YQT|TIS|TSN|TID|TGJ|TIJ|TIH|IKS|TIU|TMX|YTS|TSR|TNC|TIN|TIQ|TIY|TOD|TIE|TIA|TRE|TGM|TRZ|TIR|TIV|TLM|TAB|TOB|YAZ|TOG|TKJ|OOK|TKN|TKS|HND|NRT|TYO|TOL|TOW|TLC|TPR|TMG|TOM|TOF|TGO|TGH|TWB|FOE|XLQ|YBZ|YTZ|YYZ|TRC|TOH|TYF|TOV|TTB|TTQ|TTJ|TOU|TLN|TLS|TUF|XSH|TSV|TOY|TOE|TZX|TST|TPS|TGN|TVC|TCB|REL|UUA|TRS|GND|TDD|TIP|THN|TMT|TOS|TRD|TJI|TRU|TKK|XLZ|TTS|WTS|TSB|TSJ|TUB|TUS|TUC|TUV|TUR|TFI|TUG|YUB|TUA|ANU|ZFN|TUL|TLT|TUJ|TCO|TBP|TUN|WTL|TNK|TXN|TUP|TUI|TUK|TRN|TKU|TCL|TGZ|TWF|TWA|TYR|TJM|UBJ|UBA|UDI|UBP|UDR|UTH|UFA|UJE|UPG|UCT|ULN|HLH|UUD|ULB|ULY|ULI|USN|ULD|UME|YUD|UTT|UNK|JUV|UTN|URJ|URA|YBE|UVF|UGC|OMH|URU|UPN|URG|URC|USL|USH|USK|UIK|UKK|UTP|UCA|UII|UTK|UTO|UMD|UDJ|VPS|VAA|BDQ|VDS|EGE|QBF|VDZ|ZAL|YVO|VLD|VLC|VLN|XVS|VLV|VLS|VLL|VUP|VPS|VDE|VAN|CXH|XEA|YVR|VAI|VBV|VRA|VNS|VAW|VAG|VRK|VAR|VST|VAT|VAV|VXO|VEE|TSF|VCE|YIV|VER|VEL|VRN|VEY|VCT|YWH|YYJ|VFA|VCD|VDM|VIE|VTE|VQS|VGO|VNX|VHM|BVH|VLG|VME|VSA|VNO|ZSE|VIJ|VIS|VBY|VTZ|VTB|VIT|VDC|VIV|OGZ|VVO|VOH|VLK|VOG|VPN|VKT|VOZ|YWK|ACT|WAE|WHF|WET|WGA|WBA|WGP|AIN|WKJ|WLH|WAA|WGE|ALW|WLS|WVB|WMX|WKA|WAG|AGE|AGL|WXN|WAW|DCA|IAD|WAS|WSR|YKQ|WSU|KWF|WAT|ALO|ART|ATY|XWA|WUG|WUU|YIV|YWP|WED|EJH|WEH|WEI|WLG|YNC|EAT|WNZ|PBI|WYS|HPN|GWT|WST|WSZ|WRY|WSX|WWK|XFQ|WHK|YXN|WWP|WRE|WMO|YLC|YWR|YXY|WYA|ICT|SPS|WIC|WVN|YLC|YWM|YWL|YUY|IPT|ISN|ILM|WUN|WNR|XEC|YQG|YUY|XEF|YWG|WIN|WJA|ZWL|WOT|WJU|XIP|ORH|WRL|WTO|WTE|WRG|WRO|WUD|WUH|WNN|WUS|WYN|XWY|XIY|XMN|XFN|XIC|XKH|XIL|XNN|XUZ|YKM|YAK|YKS|KYX|XMY|GAJ|ENY|YNB|YNZ|XYA|RGN|YNJ|YNT|YAO|YAP|YQI|IAR|AZD|EYL|YZF|ZIH|RSU|EVN|YBP|YIH|INC|YIN|YIW|JOG|YGJ|OGN|ZAC|OKR|RNJ|YNG|UYN|YUM|UUS|ZAD|ZAG|ZAH|ZTH|ZAM|ZNZ|OZH|ZAZ|ZHA|ZAT|CGO|PZH|HSN|ZUH|IEG|ZIH|OUZ|UGU|ZRH|DMK|IKA|GYD|WDH|HLP|KLO|STT|SZB|TLE|ALA|HLA|IPC|VII|SAW'"
      ]
     },
     "execution_count": 97,
     "metadata": {},
     "output_type": "execute_result"
    }
   ],
   "source": [
    "all_codes_regex = \"|\".join(airports['Code'])\n",
    "all_codes_regex"
   ]
  },
  {
   "cell_type": "markdown",
   "metadata": {},
   "source": [
    "### Search for exact matches of airport code and mark `Match` column"
   ]
  },
  {
   "cell_type": "code",
   "execution_count": 98,
   "metadata": {},
   "outputs": [
    {
     "name": "stdout",
     "output_type": "stream",
     "text": [
      "Number of exact airport code matches: 16586\n"
     ]
    }
   ],
   "source": [
    "airport_code_exact_index = dataset_with_origin_airport.index[dataset_with_origin_airport['Origin'].str.fullmatch(all_codes_regex, case=False)]\n",
    "print(\"Number of exact airport code matches:\", len(airport_code_exact_index))"
   ]
  },
  {
   "cell_type": "markdown",
   "metadata": {},
   "source": [
    "We mark the `Match` column to `'exact-code'` and set `OriginAirportCode` to be `Origin`, in all caps."
   ]
  },
  {
   "cell_type": "code",
   "execution_count": 99,
   "metadata": {},
   "outputs": [
    {
     "data": {
      "text/html": [
       "<div>\n",
       "<style scoped>\n",
       "    .dataframe tbody tr th:only-of-type {\n",
       "        vertical-align: middle;\n",
       "    }\n",
       "\n",
       "    .dataframe tbody tr th {\n",
       "        vertical-align: top;\n",
       "    }\n",
       "\n",
       "    .dataframe thead th {\n",
       "        text-align: right;\n",
       "    }\n",
       "</style>\n",
       "<table border=\"1\" class=\"dataframe\">\n",
       "  <thead>\n",
       "    <tr style=\"text-align: right;\">\n",
       "      <th></th>\n",
       "      <th>Origin</th>\n",
       "      <th>OriginAirportCode</th>\n",
       "      <th>Match</th>\n",
       "    </tr>\n",
       "  </thead>\n",
       "  <tbody>\n",
       "    <tr>\n",
       "      <th>29</th>\n",
       "      <td>LJU</td>\n",
       "      <td>LJU</td>\n",
       "      <td>exact-code</td>\n",
       "    </tr>\n",
       "    <tr>\n",
       "      <th>30</th>\n",
       "      <td>LJU</td>\n",
       "      <td>LJU</td>\n",
       "      <td>exact-code</td>\n",
       "    </tr>\n",
       "    <tr>\n",
       "      <th>31</th>\n",
       "      <td>LJU</td>\n",
       "      <td>LJU</td>\n",
       "      <td>exact-code</td>\n",
       "    </tr>\n",
       "    <tr>\n",
       "      <th>32</th>\n",
       "      <td>CDG</td>\n",
       "      <td>CDG</td>\n",
       "      <td>exact-code</td>\n",
       "    </tr>\n",
       "    <tr>\n",
       "      <th>33</th>\n",
       "      <td>MUC</td>\n",
       "      <td>MUC</td>\n",
       "      <td>exact-code</td>\n",
       "    </tr>\n",
       "    <tr>\n",
       "      <th>...</th>\n",
       "      <td>...</td>\n",
       "      <td>...</td>\n",
       "      <td>...</td>\n",
       "    </tr>\n",
       "    <tr>\n",
       "      <th>129147</th>\n",
       "      <td>CRL</td>\n",
       "      <td>CRL</td>\n",
       "      <td>exact-code</td>\n",
       "    </tr>\n",
       "    <tr>\n",
       "      <th>129150</th>\n",
       "      <td>LTN</td>\n",
       "      <td>LTN</td>\n",
       "      <td>exact-code</td>\n",
       "    </tr>\n",
       "    <tr>\n",
       "      <th>129152</th>\n",
       "      <td>BUD</td>\n",
       "      <td>BUD</td>\n",
       "      <td>exact-code</td>\n",
       "    </tr>\n",
       "    <tr>\n",
       "      <th>129175</th>\n",
       "      <td>TLV</td>\n",
       "      <td>TLV</td>\n",
       "      <td>exact-code</td>\n",
       "    </tr>\n",
       "    <tr>\n",
       "      <th>129177</th>\n",
       "      <td>VNO</td>\n",
       "      <td>VNO</td>\n",
       "      <td>exact-code</td>\n",
       "    </tr>\n",
       "  </tbody>\n",
       "</table>\n",
       "<p>16586 rows × 3 columns</p>\n",
       "</div>"
      ],
      "text/plain": [
       "       Origin OriginAirportCode       Match\n",
       "29        LJU               LJU  exact-code\n",
       "30        LJU               LJU  exact-code\n",
       "31        LJU               LJU  exact-code\n",
       "32        CDG               CDG  exact-code\n",
       "33        MUC               MUC  exact-code\n",
       "...       ...               ...         ...\n",
       "129147    CRL               CRL  exact-code\n",
       "129150    LTN               LTN  exact-code\n",
       "129152    BUD               BUD  exact-code\n",
       "129175    TLV               TLV  exact-code\n",
       "129177    VNO               VNO  exact-code\n",
       "\n",
       "[16586 rows x 3 columns]"
      ]
     },
     "execution_count": 99,
     "metadata": {},
     "output_type": "execute_result"
    }
   ],
   "source": [
    "dataset_with_origin_airport.loc[airport_code_exact_index, 'OriginAirportCode'] = dataset_with_origin_airport.loc[airport_code_exact_index, 'Origin'].str.upper()\n",
    "dataset_with_origin_airport.loc[airport_code_exact_index, 'Match'] = 'exact-code'\n",
    "dataset_with_origin_airport.loc[airport_code_exact_index, ['Origin', 'OriginAirportCode', 'Match']]"
   ]
  },
  {
   "cell_type": "markdown",
   "metadata": {},
   "source": [
    "### Search for partial matches of airport code and mark `Match` column"
   ]
  },
  {
   "cell_type": "code",
   "execution_count": 100,
   "metadata": {},
   "outputs": [
    {
     "name": "stdout",
     "output_type": "stream",
     "text": [
      "Number of partial airport code matches: 561\n"
     ]
    }
   ],
   "source": [
    "airport_code_partial_index = dataset_with_origin_airport[((dataset_with_origin_airport['Origin'].str.match(all_codes_regex))\n",
    "                            | (dataset_with_origin_airport['Origin'].str.contains(all_codes_regex)))\n",
    "                            & (dataset_with_origin_airport['Origin'].str.fullmatch(all_codes_regex) == False)].index\n",
    "print(\"Number of partial airport code matches:\", len(airport_code_partial_index))"
   ]
  },
  {
   "cell_type": "markdown",
   "metadata": {},
   "source": [
    "The partial matches look like below."
   ]
  },
  {
   "cell_type": "code",
   "execution_count": 101,
   "metadata": {},
   "outputs": [
    {
     "data": {
      "text/plain": [
       "216       New York JFK\n",
       "684         Moscow SVO\n",
       "1276      New York JFK\n",
       "1280        Berlin TXL\n",
       "1311      New York JFK\n",
       "              ...     \n",
       "127873    Berlin (SXF)\n",
       "127878       Paris CDG\n",
       "127886       Paris CDG\n",
       "127918       Paris CDG\n",
       "127995       Paris CDG\n",
       "Name: Origin, Length: 561, dtype: object"
      ]
     },
     "execution_count": 101,
     "metadata": {},
     "output_type": "execute_result"
    }
   ],
   "source": [
    "dataset_with_origin_airport.loc[airport_code_partial_index, 'Origin']"
   ]
  },
  {
   "cell_type": "code",
   "execution_count": 102,
   "metadata": {},
   "outputs": [],
   "source": [
    "# This makes a list of all codes that partially matched with Origin entries\n",
    "airport_code_list_list = dataset_with_origin_airport.loc[airport_code_partial_index, 'Origin'].str.findall(all_codes_regex).drop_duplicates().to_list()\n",
    "airport_code_list = [code[0] for code in airport_code_list_list if len(code) == 1]"
   ]
  },
  {
   "cell_type": "code",
   "execution_count": 103,
   "metadata": {},
   "outputs": [],
   "source": [
    "for code in airport_code_list:\n",
    "    matching_index = dataset_with_origin_airport.loc[airport_code_partial_index, 'Origin'][dataset_with_origin_airport.loc[airport_code_partial_index, 'Origin'].str.contains(code)].index\n",
    "    dataset_with_origin_airport.loc[matching_index, 'OriginAirportCode'] = code\n",
    "    dataset_with_origin_airport.loc[matching_index, 'Match'] = 'partial-code'"
   ]
  },
  {
   "cell_type": "code",
   "execution_count": 104,
   "metadata": {},
   "outputs": [
    {
     "data": {
      "text/html": [
       "<div>\n",
       "<style scoped>\n",
       "    .dataframe tbody tr th:only-of-type {\n",
       "        vertical-align: middle;\n",
       "    }\n",
       "\n",
       "    .dataframe tbody tr th {\n",
       "        vertical-align: top;\n",
       "    }\n",
       "\n",
       "    .dataframe thead th {\n",
       "        text-align: right;\n",
       "    }\n",
       "</style>\n",
       "<table border=\"1\" class=\"dataframe\">\n",
       "  <thead>\n",
       "    <tr style=\"text-align: right;\">\n",
       "      <th></th>\n",
       "      <th>Origin</th>\n",
       "      <th>OriginAirportCode</th>\n",
       "      <th>Match</th>\n",
       "    </tr>\n",
       "  </thead>\n",
       "  <tbody>\n",
       "    <tr>\n",
       "      <th>216</th>\n",
       "      <td>New York JFK</td>\n",
       "      <td>JFK</td>\n",
       "      <td>partial-code</td>\n",
       "    </tr>\n",
       "    <tr>\n",
       "      <th>684</th>\n",
       "      <td>Moscow SVO</td>\n",
       "      <td>SVO</td>\n",
       "      <td>partial-code</td>\n",
       "    </tr>\n",
       "    <tr>\n",
       "      <th>1276</th>\n",
       "      <td>New York JFK</td>\n",
       "      <td>JFK</td>\n",
       "      <td>partial-code</td>\n",
       "    </tr>\n",
       "    <tr>\n",
       "      <th>1280</th>\n",
       "      <td>Berlin TXL</td>\n",
       "      <td>TXL</td>\n",
       "      <td>partial-code</td>\n",
       "    </tr>\n",
       "    <tr>\n",
       "      <th>1311</th>\n",
       "      <td>New York JFK</td>\n",
       "      <td>JFK</td>\n",
       "      <td>partial-code</td>\n",
       "    </tr>\n",
       "    <tr>\n",
       "      <th>...</th>\n",
       "      <td>...</td>\n",
       "      <td>...</td>\n",
       "      <td>...</td>\n",
       "    </tr>\n",
       "    <tr>\n",
       "      <th>127873</th>\n",
       "      <td>Berlin (SXF)</td>\n",
       "      <td>SXF</td>\n",
       "      <td>partial-code</td>\n",
       "    </tr>\n",
       "    <tr>\n",
       "      <th>127878</th>\n",
       "      <td>Paris CDG</td>\n",
       "      <td>CDG</td>\n",
       "      <td>partial-code</td>\n",
       "    </tr>\n",
       "    <tr>\n",
       "      <th>127886</th>\n",
       "      <td>Paris CDG</td>\n",
       "      <td>CDG</td>\n",
       "      <td>partial-code</td>\n",
       "    </tr>\n",
       "    <tr>\n",
       "      <th>127918</th>\n",
       "      <td>Paris CDG</td>\n",
       "      <td>CDG</td>\n",
       "      <td>partial-code</td>\n",
       "    </tr>\n",
       "    <tr>\n",
       "      <th>127995</th>\n",
       "      <td>Paris CDG</td>\n",
       "      <td>CDG</td>\n",
       "      <td>partial-code</td>\n",
       "    </tr>\n",
       "  </tbody>\n",
       "</table>\n",
       "<p>561 rows × 3 columns</p>\n",
       "</div>"
      ],
      "text/plain": [
       "              Origin OriginAirportCode         Match\n",
       "216     New York JFK               JFK  partial-code\n",
       "684       Moscow SVO               SVO  partial-code\n",
       "1276    New York JFK               JFK  partial-code\n",
       "1280      Berlin TXL               TXL  partial-code\n",
       "1311    New York JFK               JFK  partial-code\n",
       "...              ...               ...           ...\n",
       "127873  Berlin (SXF)               SXF  partial-code\n",
       "127878     Paris CDG               CDG  partial-code\n",
       "127886     Paris CDG               CDG  partial-code\n",
       "127918     Paris CDG               CDG  partial-code\n",
       "127995     Paris CDG               CDG  partial-code\n",
       "\n",
       "[561 rows x 3 columns]"
      ]
     },
     "execution_count": 104,
     "metadata": {},
     "output_type": "execute_result"
    }
   ],
   "source": [
    "dataset_with_origin_airport.loc[airport_code_partial_index, ['Origin', 'OriginAirportCode', 'Match']]"
   ]
  },
  {
   "cell_type": "markdown",
   "metadata": {},
   "source": [
    "### Search for exact matches of airport names and mark `Match` column"
   ]
  },
  {
   "cell_type": "code",
   "execution_count": 105,
   "metadata": {},
   "outputs": [
    {
     "data": {
      "text/plain": [
       "2                                           Tirstrup\n",
       "77           Alicante–Elche Miguel Hernandez Airport\n",
       "104                              Civil/Marka Airport\n",
       "105                         Queen Alia International\n",
       "120                                            Marce\n",
       "                            ...                     \n",
       "3580                  Sultan Abdul Aziz Shah Airport\n",
       "3582                    Almaty International Airport\n",
       "3583                  Lanseria International Airport\n",
       "3584                  Mataveri International Airport\n",
       "3586    Istanbul Sabiha Gokcen International Airport\n",
       "Name: Name, Length: 232, dtype: object"
      ]
     },
     "execution_count": 105,
     "metadata": {},
     "output_type": "execute_result"
    }
   ],
   "source": [
    "airports[airports['Name'].notna()]['Name'].drop_duplicates()"
   ]
  },
  {
   "cell_type": "code",
   "execution_count": 106,
   "metadata": {},
   "outputs": [],
   "source": [
    "all_airport_names_regex = \"|\".join(airports[airports['Name'].notna()]['Name'].drop_duplicates())"
   ]
  },
  {
   "cell_type": "code",
   "execution_count": 107,
   "metadata": {},
   "outputs": [
    {
     "name": "stdout",
     "output_type": "stream",
     "text": [
      "Number of exact airport name matches: 1548\n"
     ]
    }
   ],
   "source": [
    "airport_name_exact_index = dataset_with_origin_airport[dataset_with_origin_airport['Origin'].str.fullmatch(all_airport_names_regex, case=False)].index\n",
    "print(\"Number of exact airport name matches:\", len(airport_name_exact_index))"
   ]
  },
  {
   "cell_type": "markdown",
   "metadata": {},
   "source": [
    "Make a list of all exactly matched airport names."
   ]
  },
  {
   "cell_type": "code",
   "execution_count": 108,
   "metadata": {},
   "outputs": [],
   "source": [
    "exact_airport_name_list = dataset_with_origin_airport.loc[airport_name_exact_index, 'Origin'].drop_duplicates().to_list()"
   ]
  },
  {
   "cell_type": "markdown",
   "metadata": {},
   "source": [
    "We fill in the corresponding airport code for each of the exact airport name matches and mark `Match` as 'exact-airport-name'."
   ]
  },
  {
   "cell_type": "code",
   "execution_count": 109,
   "metadata": {},
   "outputs": [],
   "source": [
    "for name in exact_airport_name_list:\n",
    "    # Index of all entries whose name is an exact match of an airport\n",
    "    matching_index = dataset_with_origin_airport.loc[airport_name_exact_index, 'Origin'][dataset_with_origin_airport.loc[airport_name_exact_index, 'Origin'].str.fullmatch(name, case=False)].index\n",
    "    code = airports.loc[airports['Name'].str.lower() == name.lower()]['Code'].values[0] # kinda convoluted but... it's how I got it to work\n",
    "    city_id = airports.loc[airports['Name'].str.lower() == name.lower()]['city_id'].values[0]\n",
    "    dataset_with_origin_airport.loc[matching_index, 'OriginAirportCode'] = code\n",
    "    dataset_with_origin_airport.loc[matching_index, 'OriginCityId'] = city_id\n",
    "    dataset_with_origin_airport.loc[matching_index, 'Match'] = 'exact-airport-name'"
   ]
  },
  {
   "cell_type": "code",
   "execution_count": 110,
   "metadata": {},
   "outputs": [
    {
     "data": {
      "text/html": [
       "<div>\n",
       "<style scoped>\n",
       "    .dataframe tbody tr th:only-of-type {\n",
       "        vertical-align: middle;\n",
       "    }\n",
       "\n",
       "    .dataframe tbody tr th {\n",
       "        vertical-align: top;\n",
       "    }\n",
       "\n",
       "    .dataframe thead th {\n",
       "        text-align: right;\n",
       "    }\n",
       "</style>\n",
       "<table border=\"1\" class=\"dataframe\">\n",
       "  <thead>\n",
       "    <tr style=\"text-align: right;\">\n",
       "      <th></th>\n",
       "      <th>Origin</th>\n",
       "      <th>OriginAirportCode</th>\n",
       "      <th>OriginCityId</th>\n",
       "      <th>Match</th>\n",
       "    </tr>\n",
       "  </thead>\n",
       "  <tbody>\n",
       "    <tr>\n",
       "      <th>710</th>\n",
       "      <td>Gatwick</td>\n",
       "      <td>LGW</td>\n",
       "      <td>1717.0</td>\n",
       "      <td>exact-airport-name</td>\n",
       "    </tr>\n",
       "    <tr>\n",
       "      <th>758</th>\n",
       "      <td>Gatwick</td>\n",
       "      <td>LGW</td>\n",
       "      <td>1717.0</td>\n",
       "      <td>exact-airport-name</td>\n",
       "    </tr>\n",
       "    <tr>\n",
       "      <th>805</th>\n",
       "      <td>Heathrow</td>\n",
       "      <td>LHR</td>\n",
       "      <td>1717.0</td>\n",
       "      <td>exact-airport-name</td>\n",
       "    </tr>\n",
       "    <tr>\n",
       "      <th>834</th>\n",
       "      <td>Gatwick</td>\n",
       "      <td>LGW</td>\n",
       "      <td>1717.0</td>\n",
       "      <td>exact-airport-name</td>\n",
       "    </tr>\n",
       "    <tr>\n",
       "      <th>898</th>\n",
       "      <td>Gatwick</td>\n",
       "      <td>LGW</td>\n",
       "      <td>1717.0</td>\n",
       "      <td>exact-airport-name</td>\n",
       "    </tr>\n",
       "    <tr>\n",
       "      <th>...</th>\n",
       "      <td>...</td>\n",
       "      <td>...</td>\n",
       "      <td>...</td>\n",
       "      <td>...</td>\n",
       "    </tr>\n",
       "    <tr>\n",
       "      <th>129168</th>\n",
       "      <td>Luton</td>\n",
       "      <td>LTN</td>\n",
       "      <td>1717.0</td>\n",
       "      <td>exact-airport-name</td>\n",
       "    </tr>\n",
       "    <tr>\n",
       "      <th>129174</th>\n",
       "      <td>Luton</td>\n",
       "      <td>LTN</td>\n",
       "      <td>1717.0</td>\n",
       "      <td>exact-airport-name</td>\n",
       "    </tr>\n",
       "    <tr>\n",
       "      <th>129176</th>\n",
       "      <td>Luton</td>\n",
       "      <td>LTN</td>\n",
       "      <td>1717.0</td>\n",
       "      <td>exact-airport-name</td>\n",
       "    </tr>\n",
       "    <tr>\n",
       "      <th>129188</th>\n",
       "      <td>Luton</td>\n",
       "      <td>LTN</td>\n",
       "      <td>1717.0</td>\n",
       "      <td>exact-airport-name</td>\n",
       "    </tr>\n",
       "    <tr>\n",
       "      <th>129199</th>\n",
       "      <td>Luton</td>\n",
       "      <td>LTN</td>\n",
       "      <td>1717.0</td>\n",
       "      <td>exact-airport-name</td>\n",
       "    </tr>\n",
       "  </tbody>\n",
       "</table>\n",
       "<p>1548 rows × 4 columns</p>\n",
       "</div>"
      ],
      "text/plain": [
       "          Origin OriginAirportCode  OriginCityId               Match\n",
       "710      Gatwick               LGW        1717.0  exact-airport-name\n",
       "758      Gatwick               LGW        1717.0  exact-airport-name\n",
       "805     Heathrow               LHR        1717.0  exact-airport-name\n",
       "834      Gatwick               LGW        1717.0  exact-airport-name\n",
       "898      Gatwick               LGW        1717.0  exact-airport-name\n",
       "...          ...               ...           ...                 ...\n",
       "129168     Luton               LTN        1717.0  exact-airport-name\n",
       "129174     Luton               LTN        1717.0  exact-airport-name\n",
       "129176     Luton               LTN        1717.0  exact-airport-name\n",
       "129188     Luton               LTN        1717.0  exact-airport-name\n",
       "129199     Luton               LTN        1717.0  exact-airport-name\n",
       "\n",
       "[1548 rows x 4 columns]"
      ]
     },
     "execution_count": 110,
     "metadata": {},
     "output_type": "execute_result"
    }
   ],
   "source": [
    "dataset_with_origin_airport.loc[airport_name_exact_index, ['Origin', 'OriginAirportCode', 'OriginCityId', 'Match']]"
   ]
  },
  {
   "cell_type": "markdown",
   "metadata": {},
   "source": [
    "### Search for partial matches of airport names and mark `Match` column\n",
    "\n",
    "First let's make a list of shortened airport names to help us search for a partial match."
   ]
  },
  {
   "cell_type": "code",
   "execution_count": 111,
   "metadata": {},
   "outputs": [
    {
     "data": {
      "text/plain": [
       "2                              Tirstrup\n",
       "77      Alicante–Elche Miguel Hernandez\n",
       "104                         Civil/Marka\n",
       "105                          Queen Alia\n",
       "120                               Marce\n",
       "                     ...               \n",
       "3580             Sultan Abdul Aziz Shah\n",
       "3582                             Almaty\n",
       "3583                           Lanseria\n",
       "3584                           Mataveri\n",
       "3586             Istanbul Sabiha Gokcen\n",
       "Name: Name, Length: 235, dtype: object"
      ]
     },
     "execution_count": 111,
     "metadata": {},
     "output_type": "execute_result"
    }
   ],
   "source": [
    "airport_names_short = airports.loc[airports['Name'].notna(), 'Name'].replace(to_replace = [\n",
    "\n",
    "    \"[ .]?[Aa]irport\", \" ?[Ii]nterna.?ional[ .]?\", \"[ .]?[Ii]ntercon.*\",\n",
    "    \"[ .]?[Ii]ntl[ .]*\", \"[ .]?[Ii]nt'?l[ .]*\", \"[ .,]*[Mm]etro.*[Aa]rea[ .,]*\", \".?alls.?\"\n",
    "\n",
    "    ], value = '', regex=True)\n",
    "\n",
    "airport_names_short = airport_names_short.str.strip(' =?/,')\n",
    "airport_names_short.drop(index=airport_names_short.index[airport_names_short == ''], inplace=True)\n",
    "\n",
    "airport_names_short"
   ]
  },
  {
   "cell_type": "code",
   "execution_count": 112,
   "metadata": {},
   "outputs": [
    {
     "data": {
      "text/plain": [
       "\"Tirstrup|Alicante–Elche Miguel Hernandez|Civil/Marka|Queen Alia|Marce|Etimesqut|Esenboga|Deurne|Clark|Branti|Suvarnabhumi|Phung-Doc|La Braq|Beograd|Pampulha|Schoenefeld|Tempelhof|Tegel|Belp|Boston Logan|Municipal|Hiltons Har H|Laroche|Turany|Charleroi|Baneasa|Otopeni|Jorge Newbery|Ministro Pistarini|Gimhae|Lumbia|Mandelieu|Coisette Heliport|Vieux Port|Mohamed V|Matan|Meigs|Midway|O'Hare|Fisheries|Lagoon|Anfa|Cologne/Bonn|Mati|Al Jafrah|Dallas Love Field|Longmont Bus service|Metro/Wayne County|Zia|Cane Field|Melville Hall|Moenchen-Gl.|Tancredo Neves|Esbjerg|Municipal/Drake|Northwest Arkansas Regional|Peretola|Hahn|Lungi|Glasgow|Prestwick|Landvetter|Saeve|National Park|Heliport|Gialam|Halifax Stanfield|Fuhisbuettel|Luebeck|Island of Maui|Catbi|Vantaa|Noibai|Island of Hawaii|Hiroshima West|Island of Oahu|Island of Molokai|Hobby|Bus station|Phi Bai|Mandurriao|St Marys|Tresco|Jeju|Sancheon|Island of Molokai|Island of Hawaii|Island of Maui|Quaid-E-Azam|Zhulhany|Borispol|Pulkovo|Norman Manley|Tinson|Norman Rogers|Island of Hawaii|Lihue|Island of Lanai|Linkoping/Saab|Lesquin|Biggin Hill|London City|Gatwick|Heathrow|Luton|Stansted|Municipal|Satolas|Lyon Part-Dieu Rail service|Malta|Enrique Olaya Herrera|Jose Marie Cordova|Sea Plane Base|Orio Al Serio|Linate|Malpensa|Minsk1|Minsk2|Kahului|Dorval Rail service|St Lambert Rail service|Mirabel|Dorval|Bykovo|Domodedovo|Sheremetyevo|Vnukovo|Mulu|Jomo Kenyatta|Wilson|Cassidy|Harbour|Nantes Atlantique|Kennedy|La Guardia|Newark Liberty|Paradise Island|Belmont|Magenta|Tontouta|Tolmachevo|Parma|Obrebro-Bofors|Orlando|Herndon|Itami|Kansai|Sandefjord|Paitilla|Tocumen|Zorg En Hoop|Zanderij|Beauvais-Tille|Charles Degaulle|Orly|Wawi|Gal Galilei|Orlando Sanford|Ugashnik Bay|Gal Galilei|Duong Dang|Golubovci|Biard|Digby Island|Sainte-Foy Rail service|Quebec Station Rail service|Levis Rail service|Charny Rail service|Park&Ride Bus|Van Galder Bus|Ciampino|Leonardo Da Vinci/Fiumicino|La Mole|El Portillo|Juan Santa Maria|Tobias Bolanos|La Palma|Herrera|Las Americas|Congonhas|Guarulhos|Viracopos|Chitose|Okadama|Lake Union SPB|Seattle/Tacoma|Gimpo|Incheon|Sumburgh|Lerwick/Tingwall|Changi|Seletar|New York Stewart|Na-San|Argyle|Trenton–Mercer|Trenton–Mercer|Arlanda|Bromma|Entzheim|Echterdingen|Taiwan Taoyuan|Sung Shan|Mehrabad|Norte Los Rodeos|Sur Reina Sofia|Haneda|Narita|Guildwood Rail service|Downtown Rail service|Toronto Island|Toronto Pearson|V.C. Bird|Hawnorra|Eagle County|Hierro|Coal Harbour|Treviso|Marco Polo|Inner Harbor|Wattay|Dulles|Xianyang|Kisauni|Don Mueang|Imam Khomeini|Heydar Aliyev|Hosea Kutako|Halim Perdanakusuma|Kalibo|Sultan Abdul Aziz Shah|Almaty|Lanseria|Mataveri|Istanbul Sabiha Gokcen\""
      ]
     },
     "execution_count": 112,
     "metadata": {},
     "output_type": "execute_result"
    }
   ],
   "source": [
    "airport_names_short_regex = \"|\".join(airport_names_short)\n",
    "airport_names_short_regex"
   ]
  },
  {
   "cell_type": "code",
   "execution_count": 113,
   "metadata": {},
   "outputs": [],
   "source": [
    "airport_name_partial_index = dataset_with_origin_airport.index[\n",
    "\n",
    "    (dataset_with_origin_airport['Origin'].str.contains(airport_names_short_regex, case=False))\n",
    "    & (dataset_with_origin_airport['Origin'].str.fullmatch(airport_names_short_regex, case=False) == False)\n",
    "    \n",
    "    ]"
   ]
  },
  {
   "cell_type": "code",
   "execution_count": 114,
   "metadata": {},
   "outputs": [
    {
     "name": "stdout",
     "output_type": "stream",
     "text": [
      "Number of partial airport name matches: 1261\n"
     ]
    }
   ],
   "source": [
    "print(\"Number of partial airport name matches:\", len(airport_name_partial_index))"
   ]
  },
  {
   "cell_type": "code",
   "execution_count": 115,
   "metadata": {},
   "outputs": [
    {
     "data": {
      "text/plain": [
       "732           London Gatwick\n",
       "757          London Heathrow\n",
       "790          London Heathrow\n",
       "820          London Heathrow\n",
       "856               Paris Orly\n",
       "                 ...        \n",
       "129164          London Luton\n",
       "129169          London Luton\n",
       "129170          London Luton\n",
       "129183    Brussels Charleroi\n",
       "129202          London Luton\n",
       "Name: Origin, Length: 1261, dtype: object"
      ]
     },
     "execution_count": 115,
     "metadata": {},
     "output_type": "execute_result"
    }
   ],
   "source": [
    "dataset_with_origin_airport.loc[airport_name_partial_index, 'Origin']"
   ]
  },
  {
   "cell_type": "markdown",
   "metadata": {},
   "source": [
    "We now fill in the corresponding airport code as we did with the exact matches and mark `Match` as 'partial-airport-name'."
   ]
  },
  {
   "cell_type": "code",
   "execution_count": 116,
   "metadata": {},
   "outputs": [],
   "source": [
    "partial_airport_name_list_list = dataset_with_origin_airport.loc[airport_name_partial_index, 'Origin'].str.findall(airport_names_short_regex).drop_duplicates().to_list()\n",
    "partial_airport_name_list = [name[0] for name in partial_airport_name_list_list if len(name) == 1]\n",
    "#partial_airport_name_list"
   ]
  },
  {
   "cell_type": "code",
   "execution_count": 117,
   "metadata": {},
   "outputs": [
    {
     "data": {
      "text/html": [
       "<div>\n",
       "<style scoped>\n",
       "    .dataframe tbody tr th:only-of-type {\n",
       "        vertical-align: middle;\n",
       "    }\n",
       "\n",
       "    .dataframe tbody tr th {\n",
       "        vertical-align: top;\n",
       "    }\n",
       "\n",
       "    .dataframe thead th {\n",
       "        text-align: right;\n",
       "    }\n",
       "</style>\n",
       "<table border=\"1\" class=\"dataframe\">\n",
       "  <thead>\n",
       "    <tr style=\"text-align: right;\">\n",
       "      <th></th>\n",
       "      <th>Code</th>\n",
       "      <th>Name</th>\n",
       "      <th>city_id</th>\n",
       "    </tr>\n",
       "  </thead>\n",
       "  <tbody>\n",
       "    <tr>\n",
       "      <th>2370</th>\n",
       "      <td>TRF</td>\n",
       "      <td>Sandefjord</td>\n",
       "      <td>2280</td>\n",
       "    </tr>\n",
       "  </tbody>\n",
       "</table>\n",
       "</div>"
      ],
      "text/plain": [
       "     Code        Name  city_id\n",
       "2370  TRF  Sandefjord     2280"
      ]
     },
     "execution_count": 117,
     "metadata": {},
     "output_type": "execute_result"
    }
   ],
   "source": [
    "airports.loc[airports['Name'].str.contains(name, case=False, na=False)]"
   ]
  },
  {
   "cell_type": "code",
   "execution_count": 118,
   "metadata": {},
   "outputs": [],
   "source": [
    "for name in partial_airport_name_list:\n",
    "    # Index of all entries whose name is an partial match of an airport\n",
    "    matching_index = dataset_with_origin_airport.loc[airport_name_partial_index, 'Origin'][dataset_with_origin_airport.loc[airport_name_partial_index, 'Origin'].str.contains(name, case=False)].index\n",
    "    \n",
    "    # debug ---\n",
    "    # print(\"Current name:\", name)\n",
    "    # print(\"Data associated with name:\")\n",
    "    # display(airports.loc[airports['Name'].str.contains(name, case=False, na=False)][['Code', 'Name', 'city_id']])\n",
    "    # end debug ---\n",
    "\n",
    "    code = airports.loc[airports['Name'].str.contains(name, case=False, na=False)]['Code'].values[0] # kinda convoluted but... it's how I got it to work\n",
    "    city_id = airports.loc[airports['Name'].str.contains(name, case=False, na=False)]['city_id'].values[0]\n",
    "    dataset_with_origin_airport.loc[matching_index, 'OriginAirportCode'] = code\n",
    "    dataset_with_origin_airport.loc[matching_index, 'OriginCityId'] = city_id\n",
    "    dataset_with_origin_airport.loc[matching_index, 'Match'] = 'partial-airport-name'"
   ]
  },
  {
   "cell_type": "code",
   "execution_count": 119,
   "metadata": {},
   "outputs": [
    {
     "data": {
      "text/html": [
       "<div>\n",
       "<style scoped>\n",
       "    .dataframe tbody tr th:only-of-type {\n",
       "        vertical-align: middle;\n",
       "    }\n",
       "\n",
       "    .dataframe tbody tr th {\n",
       "        vertical-align: top;\n",
       "    }\n",
       "\n",
       "    .dataframe thead th {\n",
       "        text-align: right;\n",
       "    }\n",
       "</style>\n",
       "<table border=\"1\" class=\"dataframe\">\n",
       "  <thead>\n",
       "    <tr style=\"text-align: right;\">\n",
       "      <th></th>\n",
       "      <th>Origin</th>\n",
       "      <th>OriginAirportCode</th>\n",
       "      <th>OriginCityId</th>\n",
       "      <th>Match</th>\n",
       "    </tr>\n",
       "  </thead>\n",
       "  <tbody>\n",
       "    <tr>\n",
       "      <th>732</th>\n",
       "      <td>London Gatwick</td>\n",
       "      <td>LGW</td>\n",
       "      <td>1717.0</td>\n",
       "      <td>partial-airport-name</td>\n",
       "    </tr>\n",
       "    <tr>\n",
       "      <th>757</th>\n",
       "      <td>London Heathrow</td>\n",
       "      <td>LHR</td>\n",
       "      <td>1717.0</td>\n",
       "      <td>partial-airport-name</td>\n",
       "    </tr>\n",
       "    <tr>\n",
       "      <th>790</th>\n",
       "      <td>London Heathrow</td>\n",
       "      <td>LHR</td>\n",
       "      <td>1717.0</td>\n",
       "      <td>partial-airport-name</td>\n",
       "    </tr>\n",
       "    <tr>\n",
       "      <th>820</th>\n",
       "      <td>London Heathrow</td>\n",
       "      <td>LHR</td>\n",
       "      <td>1717.0</td>\n",
       "      <td>partial-airport-name</td>\n",
       "    </tr>\n",
       "    <tr>\n",
       "      <th>856</th>\n",
       "      <td>Paris Orly</td>\n",
       "      <td>ORY</td>\n",
       "      <td>2338.0</td>\n",
       "      <td>partial-airport-name</td>\n",
       "    </tr>\n",
       "    <tr>\n",
       "      <th>...</th>\n",
       "      <td>...</td>\n",
       "      <td>...</td>\n",
       "      <td>...</td>\n",
       "      <td>...</td>\n",
       "    </tr>\n",
       "    <tr>\n",
       "      <th>129164</th>\n",
       "      <td>London Luton</td>\n",
       "      <td>LTN</td>\n",
       "      <td>1717.0</td>\n",
       "      <td>partial-airport-name</td>\n",
       "    </tr>\n",
       "    <tr>\n",
       "      <th>129169</th>\n",
       "      <td>London Luton</td>\n",
       "      <td>LTN</td>\n",
       "      <td>1717.0</td>\n",
       "      <td>partial-airport-name</td>\n",
       "    </tr>\n",
       "    <tr>\n",
       "      <th>129170</th>\n",
       "      <td>London Luton</td>\n",
       "      <td>LTN</td>\n",
       "      <td>1717.0</td>\n",
       "      <td>partial-airport-name</td>\n",
       "    </tr>\n",
       "    <tr>\n",
       "      <th>129183</th>\n",
       "      <td>Brussels Charleroi</td>\n",
       "      <td>CRL</td>\n",
       "      <td>462.0</td>\n",
       "      <td>partial-airport-name</td>\n",
       "    </tr>\n",
       "    <tr>\n",
       "      <th>129202</th>\n",
       "      <td>London Luton</td>\n",
       "      <td>LTN</td>\n",
       "      <td>1717.0</td>\n",
       "      <td>partial-airport-name</td>\n",
       "    </tr>\n",
       "  </tbody>\n",
       "</table>\n",
       "<p>1261 rows × 4 columns</p>\n",
       "</div>"
      ],
      "text/plain": [
       "                    Origin OriginAirportCode  OriginCityId  \\\n",
       "732         London Gatwick               LGW        1717.0   \n",
       "757        London Heathrow               LHR        1717.0   \n",
       "790        London Heathrow               LHR        1717.0   \n",
       "820        London Heathrow               LHR        1717.0   \n",
       "856             Paris Orly               ORY        2338.0   \n",
       "...                    ...               ...           ...   \n",
       "129164        London Luton               LTN        1717.0   \n",
       "129169        London Luton               LTN        1717.0   \n",
       "129170        London Luton               LTN        1717.0   \n",
       "129183  Brussels Charleroi               CRL         462.0   \n",
       "129202        London Luton               LTN        1717.0   \n",
       "\n",
       "                       Match  \n",
       "732     partial-airport-name  \n",
       "757     partial-airport-name  \n",
       "790     partial-airport-name  \n",
       "820     partial-airport-name  \n",
       "856     partial-airport-name  \n",
       "...                      ...  \n",
       "129164  partial-airport-name  \n",
       "129169  partial-airport-name  \n",
       "129170  partial-airport-name  \n",
       "129183  partial-airport-name  \n",
       "129202  partial-airport-name  \n",
       "\n",
       "[1261 rows x 4 columns]"
      ]
     },
     "execution_count": 119,
     "metadata": {},
     "output_type": "execute_result"
    }
   ],
   "source": [
    "dataset_with_origin_airport.loc[airport_name_partial_index, ['Origin', 'OriginAirportCode', 'OriginCityId', 'Match']]"
   ]
  },
  {
   "cell_type": "markdown",
   "metadata": {},
   "source": [
    "## Search for matches from the city table\n",
    "\n",
    "### Make a list of non-ambiguous cities to check against\n",
    "\n",
    "Some city names appear more than once in our cities table (e.g. London, United Kingdom, and London, Ontario, Canada). We will first deal with the non-ambiguous cities much like we did with airport names and handle the ambiguous cities later."
   ]
  },
  {
   "cell_type": "code",
   "execution_count": 120,
   "metadata": {},
   "outputs": [],
   "source": [
    "ambiguous_cities = cities[cities.duplicated(subset=['city'])]['city'].drop_duplicates().to_list()\n",
    "all_cities = cities['city'].drop_duplicates().to_list()\n",
    "unambiguous_cities = list(set(all_cities) - set(ambiguous_cities))"
   ]
  },
  {
   "cell_type": "code",
   "execution_count": 121,
   "metadata": {},
   "outputs": [
    {
     "name": "stdout",
     "output_type": "stream",
     "text": [
      "all cities length: 3382\n",
      "ambiguous cities length: 79\n",
      "unambiguous cities length: 3303\n"
     ]
    }
   ],
   "source": [
    "print(\"all cities length:\", len(all_cities))\n",
    "print(\"ambiguous cities length:\", len(ambiguous_cities))\n",
    "print(\"unambiguous cities length:\", len(unambiguous_cities))"
   ]
  },
  {
   "cell_type": "markdown",
   "metadata": {},
   "source": [
    "### Search for exact matches of unambiguous city names and mark `Match` column"
   ]
  },
  {
   "cell_type": "code",
   "execution_count": 122,
   "metadata": {},
   "outputs": [],
   "source": [
    "# Make a copy of dataset\n",
    "dataset_with_origin_city = dataset_with_origin_airport.copy()"
   ]
  },
  {
   "cell_type": "code",
   "execution_count": 124,
   "metadata": {},
   "outputs": [],
   "source": [
    "unambiguous_cities_regex = \"|\".join(unambiguous_cities)\n",
    "#unambiguous_cities_regex"
   ]
  },
  {
   "cell_type": "code",
   "execution_count": 125,
   "metadata": {},
   "outputs": [
    {
     "name": "stdout",
     "output_type": "stream",
     "text": [
      "Number of exact city matches: 55536\n"
     ]
    }
   ],
   "source": [
    "city_exact_index = dataset_with_origin_city[dataset_with_origin_city['Origin'].str.fullmatch(unambiguous_cities_regex, case=False)].index\n",
    "print(\"Number of exact city matches:\", len(city_exact_index))"
   ]
  },
  {
   "cell_type": "markdown",
   "metadata": {},
   "source": [
    "Sizeable. Now let's make a list of all exactly matched airport names."
   ]
  },
  {
   "cell_type": "code",
   "execution_count": 126,
   "metadata": {},
   "outputs": [],
   "source": [
    "exact_city_list = dataset_with_origin_city.loc[city_exact_index, 'Origin'].drop_duplicates().to_list()\n",
    "#exact_city_list"
   ]
  },
  {
   "cell_type": "markdown",
   "metadata": {},
   "source": [
    "We set `OriginCityId` to be the corresponding `city_id` in `cities` and mark the `Match` column to `'exact-city'`."
   ]
  },
  {
   "cell_type": "code",
   "execution_count": 127,
   "metadata": {},
   "outputs": [],
   "source": [
    "exact_airport_name_list = dataset_with_origin_airport.loc[airport_name_exact_index, 'Origin'].drop_duplicates().to_list()"
   ]
  },
  {
   "cell_type": "markdown",
   "metadata": {},
   "source": [
    "Below takes a minute to run."
   ]
  },
  {
   "cell_type": "code",
   "execution_count": 128,
   "metadata": {},
   "outputs": [],
   "source": [
    "for city in exact_city_list:\n",
    "    # Index of all entries whose Origin is an exact match of an unambiguous city\n",
    "    matching_index = dataset_with_origin_city.loc[city_exact_index, 'Origin'][dataset_with_origin_city.loc[city_exact_index, 'Origin'].str.fullmatch(city, case=False)].index\n",
    "    city_id = cities.loc[cities['city'].str.fullmatch(city, case=False)]['city_id'].values[0]\n",
    "\n",
    "    dataset_with_origin_city.loc[matching_index, 'OriginCityId'] = city_id\n",
    "    dataset_with_origin_city.loc[matching_index, 'Match'] = 'exact-city'"
   ]
  },
  {
   "cell_type": "code",
   "execution_count": 129,
   "metadata": {},
   "outputs": [
    {
     "data": {
      "text/html": [
       "<div>\n",
       "<style scoped>\n",
       "    .dataframe tbody tr th:only-of-type {\n",
       "        vertical-align: middle;\n",
       "    }\n",
       "\n",
       "    .dataframe tbody tr th {\n",
       "        vertical-align: top;\n",
       "    }\n",
       "\n",
       "    .dataframe thead th {\n",
       "        text-align: right;\n",
       "    }\n",
       "</style>\n",
       "<table border=\"1\" class=\"dataframe\">\n",
       "  <thead>\n",
       "    <tr style=\"text-align: right;\">\n",
       "      <th></th>\n",
       "      <th>Origin</th>\n",
       "      <th>OriginCityId</th>\n",
       "      <th>Match</th>\n",
       "    </tr>\n",
       "  </thead>\n",
       "  <tbody>\n",
       "    <tr>\n",
       "      <th>0</th>\n",
       "      <td>Moroni</td>\n",
       "      <td>2026.0</td>\n",
       "      <td>exact-city</td>\n",
       "    </tr>\n",
       "    <tr>\n",
       "      <th>1</th>\n",
       "      <td>Moroni</td>\n",
       "      <td>2026.0</td>\n",
       "      <td>exact-city</td>\n",
       "    </tr>\n",
       "    <tr>\n",
       "      <th>2</th>\n",
       "      <td>Anjouan</td>\n",
       "      <td>3433.0</td>\n",
       "      <td>exact-city</td>\n",
       "    </tr>\n",
       "    <tr>\n",
       "      <th>7</th>\n",
       "      <td>Cascais</td>\n",
       "      <td>3442.0</td>\n",
       "      <td>exact-city</td>\n",
       "    </tr>\n",
       "    <tr>\n",
       "      <th>9</th>\n",
       "      <td>Funchal</td>\n",
       "      <td>1009.0</td>\n",
       "      <td>exact-city</td>\n",
       "    </tr>\n",
       "    <tr>\n",
       "      <th>...</th>\n",
       "      <td>...</td>\n",
       "      <td>...</td>\n",
       "      <td>...</td>\n",
       "    </tr>\n",
       "    <tr>\n",
       "      <th>129198</th>\n",
       "      <td>Budapest</td>\n",
       "      <td>466.0</td>\n",
       "      <td>exact-city</td>\n",
       "    </tr>\n",
       "    <tr>\n",
       "      <th>129200</th>\n",
       "      <td>Budapest</td>\n",
       "      <td>466.0</td>\n",
       "      <td>exact-city</td>\n",
       "    </tr>\n",
       "    <tr>\n",
       "      <th>129201</th>\n",
       "      <td>Rome</td>\n",
       "      <td>2643.0</td>\n",
       "      <td>exact-city</td>\n",
       "    </tr>\n",
       "    <tr>\n",
       "      <th>129203</th>\n",
       "      <td>Budapest</td>\n",
       "      <td>466.0</td>\n",
       "      <td>exact-city</td>\n",
       "    </tr>\n",
       "    <tr>\n",
       "      <th>129204</th>\n",
       "      <td>Budapest</td>\n",
       "      <td>466.0</td>\n",
       "      <td>exact-city</td>\n",
       "    </tr>\n",
       "  </tbody>\n",
       "</table>\n",
       "<p>55536 rows × 3 columns</p>\n",
       "</div>"
      ],
      "text/plain": [
       "          Origin  OriginCityId       Match\n",
       "0         Moroni        2026.0  exact-city\n",
       "1         Moroni        2026.0  exact-city\n",
       "2        Anjouan        3433.0  exact-city\n",
       "7        Cascais        3442.0  exact-city\n",
       "9        Funchal        1009.0  exact-city\n",
       "...          ...           ...         ...\n",
       "129198  Budapest         466.0  exact-city\n",
       "129200  Budapest         466.0  exact-city\n",
       "129201      Rome        2643.0  exact-city\n",
       "129203  Budapest         466.0  exact-city\n",
       "129204  Budapest         466.0  exact-city\n",
       "\n",
       "[55536 rows x 3 columns]"
      ]
     },
     "execution_count": 129,
     "metadata": {},
     "output_type": "execute_result"
    }
   ],
   "source": [
    "dataset_with_origin_city.loc[city_exact_index, ['Origin', 'OriginCityId', 'Match']]"
   ]
  },
  {
   "cell_type": "code",
   "execution_count": null,
   "metadata": {},
   "outputs": [],
   "source": []
  },
  {
   "cell_type": "markdown",
   "metadata": {},
   "source": [
    "### Search for partial matches of unambiguous city names and mark `Match` column"
   ]
  },
  {
   "cell_type": "code",
   "execution_count": 130,
   "metadata": {},
   "outputs": [
    {
     "name": "stdout",
     "output_type": "stream",
     "text": [
      "Number of partial city matches: 3970\n"
     ]
    }
   ],
   "source": [
    "city_partial_index = dataset_with_origin_city[\n",
    "    (dataset_with_origin_city['Origin'].str.contains(unambiguous_cities_regex, case=False)) &\n",
    "    (dataset_with_origin_city['Origin'].str.fullmatch(unambiguous_cities_regex, case=False) == False)\n",
    "    ].index\n",
    "\n",
    "# Drop the indices of matches found previously so that we don't make changes to those\n",
    "city_partial_index = city_partial_index.drop(airport_code_partial_index, errors='ignore')\n",
    "city_partial_index = city_partial_index.drop(airport_name_partial_index, errors='ignore')\n",
    "\n",
    "print(\"Number of partial city matches:\", len(city_partial_index))"
   ]
  },
  {
   "cell_type": "code",
   "execution_count": 142,
   "metadata": {},
   "outputs": [
    {
     "name": "stdout",
     "output_type": "stream",
     "text": [
      "Number of partial city matches: 2838\n"
     ]
    }
   ],
   "source": []
  },
  {
   "cell_type": "markdown",
   "metadata": {},
   "source": [
    "First let's make a list of city names that were a partial match to help us search for a partial match."
   ]
  },
  {
   "cell_type": "code",
   "execution_count": 152,
   "metadata": {},
   "outputs": [],
   "source": [
    "partial_city_list_list = dataset_with_origin_city.loc[city_partial_index, 'Origin'].str.findall(unambiguous_cities_regex).drop_duplicates().to_list()\n",
    "partial_city_list = [name[0] for name in partial_city_list_list if len(name) == 1]\n",
    "#partial_city_list"
   ]
  },
  {
   "cell_type": "markdown",
   "metadata": {},
   "source": [
    "We set `OriginCityId` to be the corresponding `city_id` in `cities` and mark the `Match` column to `'partial-city'`."
   ]
  },
  {
   "cell_type": "code",
   "execution_count": 153,
   "metadata": {},
   "outputs": [],
   "source": [
    "for city in partial_city_list:\n",
    "    # Index of all entries whose Origin is an partial match of an unambiguous city\n",
    "    matching_index = dataset_with_origin_city.loc[city_partial_index, 'Origin'][dataset_with_origin_city.loc[city_partial_index, 'Origin'].str.contains(city, case=False)].index\n",
    "    city_id = cities.loc[cities['city'].str.fullmatch(city, case=False)]['city_id'].values[0]\n",
    "\n",
    "    dataset_with_origin_city.loc[matching_index, 'OriginCityId'] = city_id\n",
    "    dataset_with_origin_city.loc[matching_index, 'Match'] = 'partial-city'"
   ]
  },
  {
   "cell_type": "markdown",
   "metadata": {},
   "source": [
    "There are a few for which it wasn't matched, and we will deal with them later."
   ]
  },
  {
   "cell_type": "code",
   "execution_count": 165,
   "metadata": {},
   "outputs": [],
   "source": [
    "# dataset_with_origin_city.loc[\n",
    "#     city_partial_index.intersection(dataset_with_origin_city.index[dataset_with_origin_city['Match'].isna()]),\n",
    "#     'Origin'].drop_duplicates().to_list()"
   ]
  },
  {
   "cell_type": "code",
   "execution_count": 166,
   "metadata": {},
   "outputs": [
    {
     "data": {
      "text/html": [
       "<div>\n",
       "<style scoped>\n",
       "    .dataframe tbody tr th:only-of-type {\n",
       "        vertical-align: middle;\n",
       "    }\n",
       "\n",
       "    .dataframe tbody tr th {\n",
       "        vertical-align: top;\n",
       "    }\n",
       "\n",
       "    .dataframe thead th {\n",
       "        text-align: right;\n",
       "    }\n",
       "</style>\n",
       "<table border=\"1\" class=\"dataframe\">\n",
       "  <thead>\n",
       "    <tr style=\"text-align: right;\">\n",
       "      <th></th>\n",
       "      <th>Origin</th>\n",
       "      <th>OriginCityId</th>\n",
       "      <th>Match</th>\n",
       "    </tr>\n",
       "  </thead>\n",
       "  <tbody>\n",
       "    <tr>\n",
       "      <th>6</th>\n",
       "      <td>Milano</td>\n",
       "      <td>1948.0</td>\n",
       "      <td>partial-city</td>\n",
       "    </tr>\n",
       "    <tr>\n",
       "      <th>48</th>\n",
       "      <td>Manchester</td>\n",
       "      <td>601.0</td>\n",
       "      <td>partial-city</td>\n",
       "    </tr>\n",
       "    <tr>\n",
       "      <th>101</th>\n",
       "      <td>Ixtapa Zihuatanejo</td>\n",
       "      <td>NaN</td>\n",
       "      <td>NaN</td>\n",
       "    </tr>\n",
       "    <tr>\n",
       "      <th>102</th>\n",
       "      <td>Ixtapa-Zihuatanejo</td>\n",
       "      <td>NaN</td>\n",
       "      <td>NaN</td>\n",
       "    </tr>\n",
       "    <tr>\n",
       "      <th>128</th>\n",
       "      <td>Tamale</td>\n",
       "      <td>1806.0</td>\n",
       "      <td>partial-city</td>\n",
       "    </tr>\n",
       "    <tr>\n",
       "      <th>...</th>\n",
       "      <td>...</td>\n",
       "      <td>...</td>\n",
       "      <td>...</td>\n",
       "    </tr>\n",
       "    <tr>\n",
       "      <th>128929</th>\n",
       "      <td>Kiev Zhuliany</td>\n",
       "      <td>1507.0</td>\n",
       "      <td>partial-city</td>\n",
       "    </tr>\n",
       "    <tr>\n",
       "      <th>128965</th>\n",
       "      <td>Cluj-Napoca</td>\n",
       "      <td>657.0</td>\n",
       "      <td>partial-city</td>\n",
       "    </tr>\n",
       "    <tr>\n",
       "      <th>129173</th>\n",
       "      <td>Cluj Napoca</td>\n",
       "      <td>657.0</td>\n",
       "      <td>partial-city</td>\n",
       "    </tr>\n",
       "    <tr>\n",
       "      <th>129179</th>\n",
       "      <td>Cluj-Napoca</td>\n",
       "      <td>657.0</td>\n",
       "      <td>partial-city</td>\n",
       "    </tr>\n",
       "    <tr>\n",
       "      <th>129196</th>\n",
       "      <td>Paris Beauvais</td>\n",
       "      <td>2338.0</td>\n",
       "      <td>partial-city</td>\n",
       "    </tr>\n",
       "  </tbody>\n",
       "</table>\n",
       "<p>2838 rows × 3 columns</p>\n",
       "</div>"
      ],
      "text/plain": [
       "                    Origin  OriginCityId         Match\n",
       "6                   Milano        1948.0  partial-city\n",
       "48              Manchester         601.0  partial-city\n",
       "101     Ixtapa Zihuatanejo           NaN           NaN\n",
       "102     Ixtapa-Zihuatanejo           NaN           NaN\n",
       "128                 Tamale        1806.0  partial-city\n",
       "...                    ...           ...           ...\n",
       "128929       Kiev Zhuliany        1507.0  partial-city\n",
       "128965         Cluj-Napoca         657.0  partial-city\n",
       "129173         Cluj Napoca         657.0  partial-city\n",
       "129179         Cluj-Napoca         657.0  partial-city\n",
       "129196      Paris Beauvais        2338.0  partial-city\n",
       "\n",
       "[2838 rows x 3 columns]"
      ]
     },
     "execution_count": 166,
     "metadata": {},
     "output_type": "execute_result"
    }
   ],
   "source": [
    "dataset_with_origin_city.loc[city_partial_index, ['Origin', 'OriginCityId', 'Match']]"
   ]
  },
  {
   "cell_type": "code",
   "execution_count": 171,
   "metadata": {},
   "outputs": [
    {
     "name": "stdout",
     "output_type": "stream",
     "text": [
      "Total partial city matches: 1990\n"
     ]
    }
   ],
   "source": [
    "print(\"Total partial city matches:\", dataset_with_origin_city.loc[dataset_with_origin_city['Match'] == 'partial-city'].shape[0])"
   ]
  },
  {
   "cell_type": "markdown",
   "metadata": {},
   "source": [
    "## Find misspelled city and airport names"
   ]
  },
  {
   "cell_type": "markdown",
   "metadata": {},
   "source": []
  },
  {
   "cell_type": "code",
   "execution_count": null,
   "metadata": {},
   "outputs": [],
   "source": []
  }
 ],
 "metadata": {
  "kernelspec": {
   "display_name": "Python 3 (ipykernel)",
   "language": "python",
   "name": "python3"
  },
  "language_info": {
   "codemirror_mode": {
    "name": "ipython",
    "version": 3
   },
   "file_extension": ".py",
   "mimetype": "text/x-python",
   "name": "python",
   "nbconvert_exporter": "python",
   "pygments_lexer": "ipython3",
   "version": "3.11.3"
  }
 },
 "nbformat": 4,
 "nbformat_minor": 2
}
